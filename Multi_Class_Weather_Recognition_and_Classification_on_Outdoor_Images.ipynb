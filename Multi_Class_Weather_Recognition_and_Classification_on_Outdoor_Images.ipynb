{
  "nbformat": 4,
  "nbformat_minor": 0,
  "metadata": {
    "colab": {
      "name": "Multi-Class Weather Recognition and Classification on Outdoor Images.ipynb",
      "provenance": [],
      "collapsed_sections": [],
      "include_colab_link": true
    },
    "kernelspec": {
      "name": "python3",
      "display_name": "Python 3"
    },
    "accelerator": "GPU"
  },
  "cells": [
    {
      "cell_type": "markdown",
      "metadata": {
        "id": "view-in-github",
        "colab_type": "text"
      },
      "source": [
        "<a href=\"https://colab.research.google.com/github/teng-joyeen/teng-joyeen.github.io/blob/master/Multi_Class_Weather_Recognition_and_Classification_on_Outdoor_Images.ipynb\" target=\"_parent\"><img src=\"https://colab.research.google.com/assets/colab-badge.svg\" alt=\"Open In Colab\"/></a>"
      ]
    },
    {
      "cell_type": "code",
      "metadata": {
        "id": "MaNTN_e5fv2e",
        "colab_type": "code",
        "colab": {}
      },
      "source": [
        "# Install the PyDrive wrapper & import libraries.\n",
        "# This only needs to be done once per notebook.\n",
        "!pip install -U -q PyDrive\n",
        "from pydrive.auth import GoogleAuth\n",
        "from pydrive.drive import GoogleDrive\n",
        "from google.colab import auth\n",
        "from oauth2client.client import GoogleCredentials\n",
        "\n",
        "# Authenticate and create the PyDrive client.\n",
        "# This only needs to be done once per notebook.\n",
        "auth.authenticate_user()\n",
        "gauth = GoogleAuth()\n",
        "gauth.credentials = GoogleCredentials.get_application_default()\n",
        "drive = GoogleDrive(gauth)"
      ],
      "execution_count": 0,
      "outputs": []
    },
    {
      "cell_type": "code",
      "metadata": {
        "id": "gj3KsuUmr2OI",
        "colab_type": "code",
        "outputId": "c8ee124a-4dc4-4a3d-957c-a20159d5e36b",
        "colab": {
          "base_uri": "https://localhost:8080/",
          "height": 34
        }
      },
      "source": [
        "from google.colab import drive\n",
        "drive.mount('/content/drive')"
      ],
      "execution_count": 33,
      "outputs": [
        {
          "output_type": "stream",
          "text": [
            "Mounted at /content/drive\n"
          ],
          "name": "stdout"
        }
      ]
    },
    {
      "cell_type": "code",
      "metadata": {
        "id": "aJSUI6XUsYXf",
        "colab_type": "code",
        "colab": {}
      },
      "source": [
        "import os\n",
        "import zipfile\n",
        "\n",
        "local_zip = '/content/drive/My Drive/weather_classification.zip'\n",
        "zip_ref = zipfile.ZipFile(local_zip, 'r')\n",
        "zip_ref.extractall('/My Drive/weather_classification')\n",
        "zip_ref.close()"
      ],
      "execution_count": 0,
      "outputs": []
    },
    {
      "cell_type": "code",
      "metadata": {
        "id": "ZOUqEpocoOwI",
        "colab_type": "code",
        "colab": {}
      },
      "source": [
        "!rm -rf weather_classification.zip"
      ],
      "execution_count": 0,
      "outputs": []
    },
    {
      "cell_type": "code",
      "metadata": {
        "id": "czSIQE2K0m5V",
        "colab_type": "code",
        "colab": {}
      },
      "source": [
        "import os, shutil\n",
        "\n",
        "cloudy_dataset_dir = '/My Drive/weather_classification/cloudy'\n",
        "rainy_dataset_dir = '/My Drive/weather_classification/rainy'\n",
        "sunny_dataset_dir = '/My Drive/weather_classification/sunny'\n",
        "snowy_dataset_dir = '/My Drive/weather_classification/snowy'\n",
        "\n",
        "base_dir = '/My Drive/weather'\n",
        "os.mkdir(base_dir)\n",
        "\n",
        "train_dir = os.path.join(base_dir, 'train')\n",
        "os.mkdir(train_dir)\n",
        "validation_dir = os.path.join(base_dir, 'validation')\n",
        "os.mkdir(validation_dir)\n",
        "test_dir = os.path.join(base_dir, 'test')\n",
        "os.mkdir(test_dir)\n",
        "\n",
        "train_cloudy_dir = os.path.join(train_dir, 'cloudy')\n",
        "os.mkdir(train_cloudy_dir)\n",
        "train_rainy_dir = os.path.join(train_dir, 'rainy')\n",
        "os.mkdir(train_rainy_dir)\n",
        "train_sunny_dir = os.path.join(train_dir, 'sunny')\n",
        "os.mkdir(train_sunny_dir)\n",
        "train_snowy_dir = os.path.join(train_dir, 'snowy')\n",
        "os.mkdir(train_snowy_dir)\n",
        "\n",
        "validation_cloudy_dir = os.path.join(validation_dir, 'cloudy')\n",
        "os.mkdir(validation_cloudy_dir)\n",
        "validation_rainy_dir = os.path.join(validation_dir, 'rainy')\n",
        "os.mkdir(validation_rainy_dir)\n",
        "validation_sunny_dir = os.path.join(validation_dir, 'sunny')\n",
        "os.mkdir(validation_sunny_dir)\n",
        "validation_snowy_dir = os.path.join(validation_dir, 'snowy')\n",
        "os.mkdir(validation_snowy_dir)\n",
        "\n",
        "test_cloudy_dir = os.path.join(test_dir, 'cloudy')\n",
        "os.mkdir(test_cloudy_dir)\n",
        "test_rainy_dir = os.path.join(test_dir, 'rainy')\n",
        "os.mkdir(test_rainy_dir)\n",
        "test_sunny_dir = os.path.join(test_dir, 'sunny')\n",
        "os.mkdir(test_sunny_dir)\n",
        "test_snowy_dir = os.path.join(test_dir, 'snowy')\n",
        "os.mkdir(test_snowy_dir)"
      ],
      "execution_count": 0,
      "outputs": []
    },
    {
      "cell_type": "code",
      "metadata": {
        "id": "-EmjHPQWxQQX",
        "colab_type": "code",
        "outputId": "618d0f59-6afd-4a17-a241-247aed236a99",
        "colab": {
          "base_uri": "https://localhost:8080/",
          "height": 153
        }
      },
      "source": [
        "fnames = ['cloudy_0000{}.jpg'.format(i) for i in range(0, 10)]\n",
        "for fname in fnames:\n",
        "  src = os.path.join(cloudy_dataset_dir, fname)\n",
        "  dst = os.path.join(train_cloudy_dir, fname)\n",
        "  shutil.copyfile(src, dst)\n",
        "\n",
        "fnames = ['cloudy_000{}.jpg'.format(i) for i in range(10, 100)]\n",
        "for fname in fnames:\n",
        "  src = os.path.join(cloudy_dataset_dir, fname)\n",
        "  dst = os.path.join(train_cloudy_dir, fname)\n",
        "  shutil.copyfile(src, dst)\n",
        "  \n",
        "fnames = ['cloudy_00{}.jpg'.format(i) for i in range(100, 1000)]\n",
        "for fname in fnames:\n",
        "  src = os.path.join(cloudy_dataset_dir, fname)\n",
        "  dst = os.path.join(train_cloudy_dir, fname)\n",
        "  shutil.copyfile(src, dst)\n",
        "  \n",
        "fnames = ['cloudy_0{}.jpg'.format(i) for i in range(1000, 8000)]\n",
        "for fname in fnames:\n",
        "  src = os.path.join(cloudy_dataset_dir, fname)\n",
        "  dst = os.path.join(train_cloudy_dir, fname)\n",
        "  shutil.copyfile(src, dst)  \n",
        "  \n",
        "fnames = ['cloudy_0{}.jpg'.format(i) for i in range(8000, 10000)]\n",
        "for fname in fnames:\n",
        "  src = os.path.join(cloudy_dataset_dir, fname)\n",
        "  dst = os.path.join(validation_cloudy_dir, fname)\n",
        "  shutil.copyfile(src, dst)\n",
        "  \n",
        "#fnames = ['cloudy_{}.jpg'.format(i) for i in range(0, 10)]\n",
        "#for fname in fnames:\n",
        "  #src = os.path.join(cloudy_dataset_dir, fname)\n",
        "  #dst = os.path.join(test_cloudy_dir, fname)\n",
        "  #shutil.copyfile(src, dst)\n",
        "  \n",
        "fnames = ['rainy_0000{}.jpg'.format(i) for i in range(0, 10)]\n",
        "for fname in fnames:\n",
        "  src = os.path.join(rainy_dataset_dir, fname)\n",
        "  dst = os.path.join(train_rainy_dir, fname)\n",
        "  shutil.copyfile(src, dst)\n",
        "\n",
        "fnames = ['rainy_000{}.jpg'.format(i) for i in range(10, 100)]\n",
        "for fname in fnames:\n",
        "  src = os.path.join(rainy_dataset_dir, fname)\n",
        "  dst = os.path.join(train_rainy_dir, fname)\n",
        "  shutil.copyfile(src, dst)\n",
        "  \n",
        "fnames = ['rainy_00{}.jpg'.format(i) for i in range(100, 1000)]\n",
        "for fname in fnames:\n",
        "  src = os.path.join(rainy_dataset_dir, fname)\n",
        "  dst = os.path.join(train_rainy_dir, fname)\n",
        "  shutil.copyfile(src, dst)\n",
        "  \n",
        "fnames = ['rainy_0{}.jpg'.format(i) for i in range(1000, 8000)]\n",
        "for fname in fnames:\n",
        "  src = os.path.join(rainy_dataset_dir, fname)\n",
        "  dst = os.path.join(train_rainy_dir, fname)\n",
        "  shutil.copyfile(src, dst)  \n",
        "  \n",
        "fnames = ['rainy_0{}.jpg'.format(i) for i in range(8000, 10000)]\n",
        "for fname in fnames:\n",
        "  src = os.path.join(rainy_dataset_dir, fname)\n",
        "  dst = os.path.join(validation_rainy_dir, fname)\n",
        "  shutil.copyfile(src, dst)\n",
        "\n",
        "#fnames = ['rainy_{}.jpg'.format(i) for i in range(161, 211)]\n",
        "#for fname in fnames:\n",
        "  #src = os.path.join(rainy_dataset_dir, fname)\n",
        "  #dst = os.path.join(test_rainy_dir, fname)\n",
        "  #shutil.copyfile(src, dst) \n",
        "\n",
        "fnames = ['sunny_0000{}.jpg'.format(i) for i in range(0, 10)]\n",
        "for fname in fnames:\n",
        "  src = os.path.join(sunny_dataset_dir, fname)\n",
        "  dst = os.path.join(train_sunny_dir, fname)\n",
        "  shutil.copyfile(src, dst)\n",
        "\n",
        "fnames = ['sunny_000{}.jpg'.format(i) for i in range(10, 100)]\n",
        "for fname in fnames:\n",
        "  src = os.path.join(sunny_dataset_dir, fname)\n",
        "  dst = os.path.join(train_sunny_dir, fname)\n",
        "  shutil.copyfile(src, dst)\n",
        "  \n",
        "fnames = ['sunny_00{}.jpg'.format(i) for i in range(100, 1000)]\n",
        "for fname in fnames:\n",
        "  src = os.path.join(sunny_dataset_dir, fname)\n",
        "  dst = os.path.join(train_sunny_dir, fname)\n",
        "  shutil.copyfile(src, dst)\n",
        "  \n",
        "fnames = ['sunny_0{}.jpg'.format(i) for i in range(1000, 8000)]\n",
        "for fname in fnames:\n",
        "  src = os.path.join(sunny_dataset_dir, fname)\n",
        "  dst = os.path.join(train_sunny_dir, fname)\n",
        "  shutil.copyfile(src, dst)  \n",
        "  \n",
        "fnames = ['sunny_0{}.jpg'.format(i) for i in range(8000, 10000)]\n",
        "for fname in fnames:\n",
        "  src = os.path.join(sunny_dataset_dir, fname)\n",
        "  dst = os.path.join(validation_sunny_dir, fname)\n",
        "  shutil.copyfile(src, dst)\n",
        "\n",
        "#fnames = ['sunny_{}.jpg'.format(i) for i in range(0, 10)]\n",
        "#for fname in fnames:\n",
        "  #src = os.path.join(sunny_dataset_dir, fname)\n",
        "  #dst = os.path.join(test_sunny_dir, fname)\n",
        "  #shutil.copyfile(src, dst)\n",
        "  \n",
        "fnames = ['snow_0000{}.jpg'.format(i) for i in range(0, 10)]\n",
        "for fname in fnames:\n",
        "  src = os.path.join(snowy_dataset_dir, fname)\n",
        "  dst = os.path.join(train_snowy_dir, fname)\n",
        "  shutil.copyfile(src, dst)\n",
        "\n",
        "fnames = ['snow_000{}.jpg'.format(i) for i in range(10, 100)]\n",
        "for fname in fnames:\n",
        "  src = os.path.join(snowy_dataset_dir, fname)\n",
        "  dst = os.path.join(train_snowy_dir, fname)\n",
        "  shutil.copyfile(src, dst)\n",
        "  \n",
        "fnames = ['snow_00{}.jpg'.format(i) for i in range(100, 1000)]\n",
        "for fname in fnames:\n",
        "  src = os.path.join(snowy_dataset_dir, fname)\n",
        "  dst = os.path.join(train_snowy_dir, fname)\n",
        "  shutil.copyfile(src, dst)\n",
        "  \n",
        "fnames = ['snow_0{}.jpg'.format(i) for i in range(1000, 8000)]\n",
        "for fname in fnames:\n",
        "  src = os.path.join(snowy_dataset_dir, fname)\n",
        "  dst = os.path.join(train_snowy_dir, fname)\n",
        "  shutil.copyfile(src, dst)  \n",
        "  \n",
        "fnames = ['snow_0{}.jpg'.format(i) for i in range(8000, 10000)]\n",
        "for fname in fnames:\n",
        "  src = os.path.join(snowy_dataset_dir, fname)\n",
        "  dst = os.path.join(validation_snowy_dir, fname)\n",
        "  shutil.copyfile(src, dst)\n",
        "\n",
        "#fnames = ['snow_{}.jpg'.format(i) for i in range(0, 10)]\n",
        "#for fname in fnames:\n",
        "  #src = os.path.join(snowy_dataset_dir, fname)\n",
        "  #dst = os.path.join(test_snowy_dir, fname)\n",
        "  #shutil.copyfile(src, dst)\n",
        "  \n",
        "print('total training cloudy images:', len(os.listdir(train_cloudy_dir)))\n",
        "print('total training rainy images:', len(os.listdir(train_rainy_dir)))\n",
        "print('total training sunny images:', len(os.listdir(train_sunny_dir)))\n",
        "print('total training snowy images:', len(os.listdir(train_snowy_dir)))\n",
        "  \n",
        "print('total validation cloudy images:', len(os.listdir(validation_cloudy_dir)))\n",
        "print('total validation rainy images:', len(os.listdir(validation_rainy_dir)))\n",
        "print('total validation sunny images:', len(os.listdir(validation_sunny_dir)))\n",
        "print('total validation snowy images:', len(os.listdir(validation_snowy_dir)))\n",
        "\n",
        "#print('total test cloudy images:', len(os.listdir(test_cloudy_dir)))\n",
        "#print('total test rainy images:', len(os.listdir(test_rain_dir)))\n",
        "#print('total test sunny images:', len(os.listdir(test_sunny_dir)))\n",
        "#print('total test snowy images:', len(os.listdir(test_snowy_dir)))"
      ],
      "execution_count": 7,
      "outputs": [
        {
          "output_type": "stream",
          "text": [
            "total training cloudy images: 8000\n",
            "total training rainy images: 8000\n",
            "total training sunny images: 8000\n",
            "total training snowy images: 8000\n",
            "total validation cloudy images: 2000\n",
            "total validation rainy images: 2000\n",
            "total validation sunny images: 2000\n",
            "total validation snowy images: 2000\n"
          ],
          "name": "stdout"
        }
      ]
    },
    {
      "cell_type": "code",
      "metadata": {
        "id": "mDizE6CdCGKe",
        "colab_type": "code",
        "colab": {}
      },
      "source": [
        "!pip install -q keras"
      ],
      "execution_count": 0,
      "outputs": []
    },
    {
      "cell_type": "code",
      "metadata": {
        "id": "cHRWaMpjXPeg",
        "colab_type": "code",
        "colab": {}
      },
      "source": [
        "import keras"
      ],
      "execution_count": 0,
      "outputs": []
    },
    {
      "cell_type": "code",
      "metadata": {
        "id": "I8l1jmUpBVVd",
        "colab_type": "code",
        "colab": {}
      },
      "source": [
        "from keras import layers\n",
        "from keras import models\n",
        "\n",
        "model = models. Sequential()\n",
        "model.add(layers.Conv2D(32, (3, 3), activation='relu', input_shape=(150, 150, 3)))\n",
        "model.add(layers.MaxPooling2D((2, 2)))\n",
        "model.add(layers.Conv2D(64, (3, 3), activation='relu'))\n",
        "model.add(layers.MaxPooling2D((2, 2)))\n",
        "model.add(layers.Conv2D(128, (3, 3), activation='relu'))\n",
        "model.add(layers.MaxPooling2D((2, 2)))\n",
        "model.add(layers.Conv2D(128, (3, 3), activation='relu'))\n",
        "model.add(layers.MaxPooling2D((2, 2)))\n",
        "model.add(layers.Flatten())\n",
        "model.add(layers.Dense(512, activation='relu'))\n",
        "model.add(layers.Dense(4, activation='softmax'))"
      ],
      "execution_count": 0,
      "outputs": []
    },
    {
      "cell_type": "code",
      "metadata": {
        "id": "ofCE0PK0CToq",
        "colab_type": "code",
        "outputId": "68731656-01c3-46ac-fb92-887daf6a9c8a",
        "colab": {
          "base_uri": "https://localhost:8080/",
          "height": 527
        }
      },
      "source": [
        "model.summary()"
      ],
      "execution_count": 11,
      "outputs": [
        {
          "output_type": "stream",
          "text": [
            "Model: \"sequential_1\"\n",
            "_________________________________________________________________\n",
            "Layer (type)                 Output Shape              Param #   \n",
            "=================================================================\n",
            "conv2d_1 (Conv2D)            (None, 148, 148, 32)      896       \n",
            "_________________________________________________________________\n",
            "max_pooling2d_1 (MaxPooling2 (None, 74, 74, 32)        0         \n",
            "_________________________________________________________________\n",
            "conv2d_2 (Conv2D)            (None, 72, 72, 64)        18496     \n",
            "_________________________________________________________________\n",
            "max_pooling2d_2 (MaxPooling2 (None, 36, 36, 64)        0         \n",
            "_________________________________________________________________\n",
            "conv2d_3 (Conv2D)            (None, 34, 34, 128)       73856     \n",
            "_________________________________________________________________\n",
            "max_pooling2d_3 (MaxPooling2 (None, 17, 17, 128)       0         \n",
            "_________________________________________________________________\n",
            "conv2d_4 (Conv2D)            (None, 15, 15, 128)       147584    \n",
            "_________________________________________________________________\n",
            "max_pooling2d_4 (MaxPooling2 (None, 7, 7, 128)         0         \n",
            "_________________________________________________________________\n",
            "flatten_1 (Flatten)          (None, 6272)              0         \n",
            "_________________________________________________________________\n",
            "dense_1 (Dense)              (None, 512)               3211776   \n",
            "_________________________________________________________________\n",
            "dense_2 (Dense)              (None, 4)                 2052      \n",
            "=================================================================\n",
            "Total params: 3,454,660\n",
            "Trainable params: 3,454,660\n",
            "Non-trainable params: 0\n",
            "_________________________________________________________________\n"
          ],
          "name": "stdout"
        }
      ]
    },
    {
      "cell_type": "code",
      "metadata": {
        "id": "OYIKk1JiQJqL",
        "colab_type": "code",
        "colab": {}
      },
      "source": [
        "from keras import optimizers \n",
        "\n",
        "model.compile(loss='categorical_crossentropy',\n",
        "              optimizer= optimizers.RMSprop(lr=0.001),\n",
        "              metrics=['acc'])"
      ],
      "execution_count": 0,
      "outputs": []
    },
    {
      "cell_type": "code",
      "metadata": {
        "id": "-JAIXKR9T_6N",
        "colab_type": "code",
        "outputId": "8097b2a9-486c-4960-e359-3599b375bcf8",
        "colab": {
          "base_uri": "https://localhost:8080/",
          "height": 51
        }
      },
      "source": [
        "from keras.preprocessing.image import ImageDataGenerator\n",
        "\n",
        "train_datagen = ImageDataGenerator(\n",
        "    rotation_range=40,\n",
        "    width_shift_range=0.2,\n",
        "    height_shift_range=0.2,\n",
        "    shear_range=0.2,\n",
        "    zoom_range=0.2,\n",
        "    horizontal_flip=True,\n",
        "    fill_mode='nearest')\n",
        "\n",
        "train_datagen = ImageDataGenerator(rescale=1./255)\n",
        "test_datagen = ImageDataGenerator(rescale=1./255)\n",
        "\n",
        "train_generator = train_datagen.flow_from_directory(\n",
        "        train_dir,  \n",
        "        target_size=(150, 150),  \n",
        "        batch_size=40,\n",
        "        class_mode='categorical')\n",
        "\n",
        "validation_generator = test_datagen.flow_from_directory(\n",
        "        validation_dir,\n",
        "        target_size=(150, 150),\n",
        "        batch_size=40,\n",
        "        class_mode='categorical')"
      ],
      "execution_count": 20,
      "outputs": [
        {
          "output_type": "stream",
          "text": [
            "Found 32000 images belonging to 4 classes.\n",
            "Found 8000 images belonging to 4 classes.\n"
          ],
          "name": "stdout"
        }
      ]
    },
    {
      "cell_type": "code",
      "metadata": {
        "id": "6c8Vfig2VJTt",
        "colab_type": "code",
        "outputId": "f819b420-30c0-4876-834a-ddcdeac77baa",
        "colab": {
          "base_uri": "https://localhost:8080/",
          "height": 357
        }
      },
      "source": [
        "history = model.fit_generator(\n",
        "      train_generator,\n",
        "      steps_per_epoch=800,  # 32000 images = batch_size * steps\n",
        "      epochs=10,\n",
        "      validation_data=validation_generator,\n",
        "      validation_steps=200,  # 8000 images = batch_size * steps\n",
        "      verbose=2)"
      ],
      "execution_count": 21,
      "outputs": [
        {
          "output_type": "stream",
          "text": [
            "Epoch 1/10\n",
            " - 189s - loss: 1.0411 - acc: 0.5603 - val_loss: 0.9431 - val_acc: 0.5965\n",
            "Epoch 2/10\n",
            " - 186s - loss: 0.8456 - acc: 0.6579 - val_loss: 1.0143 - val_acc: 0.5575\n",
            "Epoch 3/10\n",
            " - 186s - loss: 0.7783 - acc: 0.6870 - val_loss: 0.8495 - val_acc: 0.6426\n",
            "Epoch 4/10\n",
            " - 185s - loss: 0.7267 - acc: 0.7079 - val_loss: 0.8230 - val_acc: 0.6596\n",
            "Epoch 5/10\n",
            " - 185s - loss: 0.7025 - acc: 0.7233 - val_loss: 0.8128 - val_acc: 0.6636\n",
            "Epoch 6/10\n",
            " - 185s - loss: 0.6806 - acc: 0.7314 - val_loss: 1.0596 - val_acc: 0.6132\n",
            "Epoch 7/10\n",
            " - 186s - loss: 0.6765 - acc: 0.7346 - val_loss: 0.9763 - val_acc: 0.6180\n",
            "Epoch 8/10\n",
            " - 185s - loss: 0.6691 - acc: 0.7393 - val_loss: 0.9481 - val_acc: 0.6477\n",
            "Epoch 9/10\n",
            " - 184s - loss: 0.6753 - acc: 0.7396 - val_loss: 1.0034 - val_acc: 0.6415\n",
            "Epoch 10/10\n",
            " - 185s - loss: 0.6789 - acc: 0.7377 - val_loss: 0.8808 - val_acc: 0.6412\n"
          ],
          "name": "stdout"
        }
      ]
    },
    {
      "cell_type": "code",
      "metadata": {
        "id": "9VZP8e7KXozH",
        "colab_type": "code",
        "outputId": "eb21cf1c-e322-4b5b-faba-3d4548c14d4d",
        "colab": {
          "base_uri": "https://localhost:8080/",
          "height": 545
        }
      },
      "source": [
        "import matplotlib.pyplot as plt\n",
        "\n",
        "acc = history.history['acc']\n",
        "val_acc = history.history['val_acc']\n",
        "loss = history.history['loss']\n",
        "val_loss = history.history['val_loss']\n",
        "\n",
        "epochs = range(1, len(acc) + 1)\n",
        "\n",
        "plt.plot(epochs, acc, 'bo', label='Training acc')\n",
        "plt.plot(epochs, val_acc, 'b', label='Validation acc')\n",
        "plt.title('Training and validation accuracy')\n",
        "plt.legend()\n",
        "\n",
        "plt.figure()\n",
        "\n",
        "# Plot training and validation loss per epoch\n",
        "plt.plot(epochs, loss, 'bo', label='Training loss')\n",
        "plt.plot(epochs, val_loss, 'b', label='Validation loss')\n",
        "plt.title('Training and validation loss')\n",
        "plt.legend()\n",
        "\n",
        "plt.show()"
      ],
      "execution_count": 23,
      "outputs": [
        {
          "output_type": "display_data",
          "data": {
            "image/png": "[encoded data removed]",
            "text/plain": [
              "<Figure size 432x288 with 1 Axes>"
            ]
          },
          "metadata": {
            "tags": []
          }
        },
        {
          "output_type": "display_data",
          "data": {
            "image/png": "[encoded data removed]",
            "text/plain": [
              "<Figure size 432x288 with 1 Axes>"
            ]
          },
          "metadata": {
            "tags": []
          }
        }
      ]
    },
    {
      "cell_type": "code",
      "metadata": {
        "id": "gcxVOWCKNtoU",
        "colab_type": "code",
        "colab": {
          "base_uri": "https://localhost:8080/",
          "height": 51
        },
        "outputId": "a0e5e53b-3de5-43cf-fd67-4ebc01c924f1"
      },
      "source": [
        "train_generator = train_datagen.flow_from_directory(\n",
        "        train_dir,  \n",
        "        target_size=(150, 150),  \n",
        "        batch_size=40,\n",
        "        class_mode='categorical')\n",
        "\n",
        "train_loss, train_acc = model.evaluate_generator(train_generator, steps=50)\n",
        "print('train_acc:', train_acc)"
      ],
      "execution_count": 25,
      "outputs": [
        {
          "output_type": "stream",
          "text": [
            "Found 32000 images belonging to 4 classes.\n",
            "train_acc: 0.7535000014305114\n"
          ],
          "name": "stdout"
        }
      ]
    },
    {
      "cell_type": "code",
      "metadata": {
        "id": "C4KEY-oagZFH",
        "colab_type": "code",
        "colab": {
          "base_uri": "https://localhost:8080/",
          "height": 51
        },
        "outputId": "6fd9998a-1098-4af0-b33e-8ca6fadbe030"
      },
      "source": [
        "validation_generator = test_datagen.flow_from_directory(\n",
        "        validation_dir,  \n",
        "        target_size=(150, 150),  \n",
        "        batch_size=40,\n",
        "        class_mode='categorical')\n",
        "\n",
        "validation_loss, validation_acc = model.evaluate_generator(validation_generator, steps=50)\n",
        "print('validation_acc:', validation_acc)"
      ],
      "execution_count": 27,
      "outputs": [
        {
          "output_type": "stream",
          "text": [
            "Found 8000 images belonging to 4 classes.\n",
            "validation_acc: 0.6474999976158142\n"
          ],
          "name": "stdout"
        }
      ]
    },
    {
      "cell_type": "code",
      "metadata": {
        "id": "ype0X0rZt523",
        "colab_type": "code",
        "colab": {
          "base_uri": "https://localhost:8080/",
          "height": 231
        },
        "outputId": "aacee9ef-1c8a-4b65-9d2f-479b1e5ddb4b"
      },
      "source": [
        "model.save('multi_class_weather_1.h5')\n",
        "model_file = drive.CreateFile({'title' : 'multi_class_weather_1.h5'})                       \n",
        "model_file.SetContentFile('multi_class_weather_1.h5')                       \n",
        "model_file.Upload()\n",
        "print('Uploaded file with ID {}'.format(uploaded.get('id')))"
      ],
      "execution_count": 38,
      "outputs": [
        {
          "output_type": "error",
          "ename": "AttributeError",
          "evalue": "ignored",
          "traceback": [
            "\u001b[0;31m---------------------------------------------------------------------------\u001b[0m",
            "\u001b[0;31mAttributeError\u001b[0m                            Traceback (most recent call last)",
            "\u001b[0;32m<ipython-input-38-b83c9df4fc06>\u001b[0m in \u001b[0;36m<module>\u001b[0;34m()\u001b[0m\n\u001b[1;32m      1\u001b[0m \u001b[0mmodel\u001b[0m\u001b[0;34m.\u001b[0m\u001b[0msave\u001b[0m\u001b[0;34m(\u001b[0m\u001b[0;34m'multi_class_weather_1.h5'\u001b[0m\u001b[0;34m)\u001b[0m\u001b[0;34m\u001b[0m\u001b[0;34m\u001b[0m\u001b[0m\n\u001b[0;32m----> 2\u001b[0;31m \u001b[0mmodel_file\u001b[0m \u001b[0;34m=\u001b[0m \u001b[0mdrive\u001b[0m\u001b[0;34m.\u001b[0m\u001b[0mCreateFile\u001b[0m\u001b[0;34m(\u001b[0m\u001b[0;34m{\u001b[0m\u001b[0;34m'title'\u001b[0m \u001b[0;34m:\u001b[0m \u001b[0;34m'multi_class_weather_1.h5'\u001b[0m\u001b[0;34m}\u001b[0m\u001b[0;34m)\u001b[0m\u001b[0;34m\u001b[0m\u001b[0;34m\u001b[0m\u001b[0m\n\u001b[0m\u001b[1;32m      3\u001b[0m \u001b[0mmodel_file\u001b[0m\u001b[0;34m.\u001b[0m\u001b[0mSetContentFile\u001b[0m\u001b[0;34m(\u001b[0m\u001b[0;34m'multi_class_weather_1.h5'\u001b[0m\u001b[0;34m)\u001b[0m\u001b[0;34m\u001b[0m\u001b[0;34m\u001b[0m\u001b[0m\n\u001b[1;32m      4\u001b[0m \u001b[0mmodel_file\u001b[0m\u001b[0;34m.\u001b[0m\u001b[0mUpload\u001b[0m\u001b[0;34m(\u001b[0m\u001b[0;34m)\u001b[0m\u001b[0;34m\u001b[0m\u001b[0;34m\u001b[0m\u001b[0m\n\u001b[1;32m      5\u001b[0m \u001b[0mprint\u001b[0m\u001b[0;34m(\u001b[0m\u001b[0;34m'Uploaded file with ID {}'\u001b[0m\u001b[0;34m.\u001b[0m\u001b[0mformat\u001b[0m\u001b[0;34m(\u001b[0m\u001b[0muploaded\u001b[0m\u001b[0;34m.\u001b[0m\u001b[0mget\u001b[0m\u001b[0;34m(\u001b[0m\u001b[0;34m'id'\u001b[0m\u001b[0;34m)\u001b[0m\u001b[0;34m)\u001b[0m\u001b[0;34m)\u001b[0m\u001b[0;34m\u001b[0m\u001b[0;34m\u001b[0m\u001b[0m\n",
            "\u001b[0;31mAttributeError\u001b[0m: module 'google.colab.drive' has no attribute 'CreateFile'"
          ]
        }
      ]
    },
    {
      "cell_type": "code",
      "metadata": {
        "id": "7dQjKL8hpgbj",
        "colab_type": "code",
        "colab": {}
      },
      "source": [
        "model_save_name = 'multi_class_weather_1.h5'\n",
        "path = '/content/drive/My Drive/{model_save_name}'\n",
        "torch.save(model.state_dict(), path)\n",
        "\n",
        "model.save('multi_class_weather_1.h5')\n",
        "uploaded = drive.CreateFile({'title': 'multi_class_weather_1.h5'})\n",
        "uploaded.SetContentString('Sample upload file content')\n",
        "uploaded.Upload()\n",
        "print('Uploaded file with ID {}'.format(uploaded.get('id')))"
      ],
      "execution_count": 0,
      "outputs": []
    },
    {
      "cell_type": "code",
      "metadata": {
        "id": "ZunPeym0ue2_",
        "colab_type": "code",
        "outputId": "d3e250dc-4ea1-4f71-f86f-850bb2a9d71f",
        "colab": {
          "base_uri": "https://localhost:8080/",
          "height": 1000
        }
      },
      "source": [
        "history = model.fit_generator(\n",
        "      train_generator,\n",
        "      steps_per_epoch=800,  # 32000 images = batch_size * steps\n",
        "      epochs=50,\n",
        "      validation_data=validation_generator,\n",
        "      validation_steps=200,  # 8000 images = batch_size * steps\n",
        "      verbose=2)"
      ],
      "execution_count": 40,
      "outputs": [
        {
          "output_type": "stream",
          "text": [
            "Epoch 1/50\n",
            " - 186s - loss: 0.6916 - acc: 0.7352 - val_loss: 0.8812 - val_acc: 0.6464\n",
            "Epoch 2/50\n",
            " - 183s - loss: 0.6855 - acc: 0.7352 - val_loss: 0.9844 - val_acc: 0.6514\n",
            "Epoch 3/50\n",
            " - 184s - loss: 0.7047 - acc: 0.7298 - val_loss: 0.9566 - val_acc: 0.6422\n",
            "Epoch 4/50\n",
            " - 183s - loss: 0.7005 - acc: 0.7285 - val_loss: 0.9699 - val_acc: 0.6374\n",
            "Epoch 5/50\n",
            " - 184s - loss: 0.7004 - acc: 0.7330 - val_loss: 0.9983 - val_acc: 0.6485\n",
            "Epoch 6/50\n",
            " - 184s - loss: 0.7052 - acc: 0.7292 - val_loss: 0.8946 - val_acc: 0.6527\n",
            "Epoch 7/50\n",
            " - 184s - loss: 0.7174 - acc: 0.7282 - val_loss: 0.9233 - val_acc: 0.6543\n",
            "Epoch 8/50\n",
            " - 184s - loss: 0.7293 - acc: 0.7245 - val_loss: 0.8974 - val_acc: 0.6284\n",
            "Epoch 9/50\n",
            " - 184s - loss: 0.7239 - acc: 0.7261 - val_loss: 1.0856 - val_acc: 0.5759\n",
            "Epoch 10/50\n",
            " - 184s - loss: 0.7211 - acc: 0.7252 - val_loss: 0.9792 - val_acc: 0.6160\n",
            "Epoch 11/50\n",
            " - 184s - loss: 0.7433 - acc: 0.7209 - val_loss: 0.9355 - val_acc: 0.6534\n",
            "Epoch 12/50\n",
            " - 182s - loss: 0.7505 - acc: 0.7170 - val_loss: 1.0172 - val_acc: 0.5816\n",
            "Epoch 13/50\n",
            " - 183s - loss: 0.7517 - acc: 0.7222 - val_loss: 1.1051 - val_acc: 0.6055\n",
            "Epoch 14/50\n",
            " - 183s - loss: 0.7485 - acc: 0.7207 - val_loss: 1.0544 - val_acc: 0.6335\n",
            "Epoch 15/50\n",
            " - 182s - loss: 0.7424 - acc: 0.7240 - val_loss: 1.1128 - val_acc: 0.6124\n",
            "Epoch 16/50\n",
            " - 182s - loss: 0.7554 - acc: 0.7151 - val_loss: 0.8945 - val_acc: 0.6734\n",
            "Epoch 17/50\n",
            " - 181s - loss: 0.7553 - acc: 0.7196 - val_loss: 1.2665 - val_acc: 0.6396\n",
            "Epoch 18/50\n",
            " - 181s - loss: 0.7686 - acc: 0.7130 - val_loss: 1.0302 - val_acc: 0.5916\n",
            "Epoch 19/50\n",
            " - 184s - loss: 0.7574 - acc: 0.7138 - val_loss: 0.8883 - val_acc: 0.6512\n",
            "Epoch 20/50\n",
            " - 185s - loss: 0.7678 - acc: 0.7112 - val_loss: 0.9572 - val_acc: 0.6290\n",
            "Epoch 21/50\n",
            " - 184s - loss: 0.7822 - acc: 0.7093 - val_loss: 0.8876 - val_acc: 0.6609\n",
            "Epoch 22/50\n",
            " - 184s - loss: 0.7649 - acc: 0.7107 - val_loss: 0.8831 - val_acc: 0.6532\n",
            "Epoch 23/50\n",
            " - 182s - loss: 0.7863 - acc: 0.7060 - val_loss: 1.0145 - val_acc: 0.6019\n",
            "Epoch 24/50\n",
            " - 183s - loss: 0.7690 - acc: 0.7073 - val_loss: 1.0572 - val_acc: 0.6039\n",
            "Epoch 25/50\n",
            " - 182s - loss: 0.7898 - acc: 0.7077 - val_loss: 0.8948 - val_acc: 0.6355\n",
            "Epoch 26/50\n",
            " - 182s - loss: 0.7924 - acc: 0.7063 - val_loss: 1.1260 - val_acc: 0.5191\n",
            "Epoch 27/50\n",
            " - 182s - loss: 0.7712 - acc: 0.7161 - val_loss: 0.9600 - val_acc: 0.6449\n",
            "Epoch 28/50\n",
            " - 182s - loss: 0.7767 - acc: 0.7074 - val_loss: 1.0195 - val_acc: 0.6491\n",
            "Epoch 29/50\n",
            " - 183s - loss: 0.7846 - acc: 0.7070 - val_loss: 0.9031 - val_acc: 0.6390\n",
            "Epoch 30/50\n",
            " - 185s - loss: 0.7898 - acc: 0.7061 - val_loss: 1.0949 - val_acc: 0.6251\n",
            "Epoch 31/50\n",
            " - 186s - loss: 0.8049 - acc: 0.7022 - val_loss: 1.1785 - val_acc: 0.5560\n",
            "Epoch 32/50\n",
            " - 185s - loss: 0.8261 - acc: 0.6943 - val_loss: 0.9468 - val_acc: 0.6257\n",
            "Epoch 33/50\n",
            " - 185s - loss: 0.8168 - acc: 0.6981 - val_loss: 0.9797 - val_acc: 0.6060\n",
            "Epoch 34/50\n",
            " - 185s - loss: 0.8211 - acc: 0.6942 - val_loss: 0.9590 - val_acc: 0.6361\n",
            "Epoch 35/50\n",
            " - 184s - loss: 0.8226 - acc: 0.6935 - val_loss: 0.9582 - val_acc: 0.6110\n",
            "Epoch 36/50\n",
            " - 185s - loss: 0.8127 - acc: 0.6973 - val_loss: 0.9709 - val_acc: 0.6386\n",
            "Epoch 37/50\n",
            " - 184s - loss: 0.7977 - acc: 0.6956 - val_loss: 1.0529 - val_acc: 0.6000\n",
            "Epoch 38/50\n",
            " - 182s - loss: 0.8298 - acc: 0.6940 - val_loss: 1.3672 - val_acc: 0.4641\n",
            "Epoch 39/50\n",
            " - 181s - loss: 0.8524 - acc: 0.6882 - val_loss: 0.9351 - val_acc: 0.6336\n",
            "Epoch 40/50\n",
            " - 182s - loss: 0.8593 - acc: 0.6873 - val_loss: 1.0117 - val_acc: 0.6201\n",
            "Epoch 41/50\n",
            " - 181s - loss: 0.8524 - acc: 0.6843 - val_loss: 1.0839 - val_acc: 0.6269\n",
            "Epoch 42/50\n",
            " - 182s - loss: 0.8838 - acc: 0.6784 - val_loss: 0.9114 - val_acc: 0.6573\n",
            "Epoch 43/50\n",
            " - 185s - loss: 0.8807 - acc: 0.6775 - val_loss: 0.9080 - val_acc: 0.6539\n",
            "Epoch 44/50\n",
            " - 185s - loss: 0.9288 - acc: 0.6717 - val_loss: 1.0939 - val_acc: 0.5697\n",
            "Epoch 45/50\n",
            " - 185s - loss: 0.9274 - acc: 0.6731 - val_loss: 0.9766 - val_acc: 0.6111\n",
            "Epoch 46/50\n",
            " - 184s - loss: 0.9228 - acc: 0.6680 - val_loss: 1.0188 - val_acc: 0.6493\n",
            "Epoch 47/50\n",
            " - 185s - loss: 0.8968 - acc: 0.6679 - val_loss: 1.3087 - val_acc: 0.4671\n",
            "Epoch 48/50\n",
            " - 184s - loss: 0.9247 - acc: 0.6722 - val_loss: 1.1498 - val_acc: 0.5619\n",
            "Epoch 49/50\n",
            " - 185s - loss: 0.8956 - acc: 0.6670 - val_loss: 0.9704 - val_acc: 0.6090\n",
            "Epoch 50/50\n",
            " - 183s - loss: 1.0692 - acc: 0.6561 - val_loss: 1.0433 - val_acc: 0.5495\n"
          ],
          "name": "stdout"
        }
      ]
    },
    {
      "cell_type": "code",
      "metadata": {
        "id": "kOCLNwozfO9C",
        "colab_type": "code",
        "outputId": "8cf8907f-a9ff-4339-d702-295f10ec6486",
        "colab": {
          "base_uri": "https://localhost:8080/",
          "height": 231
        }
      },
      "source": [
        "import matplotlib.pyplot as plt\n",
        "\n",
        "acc = history.history['acc']\n",
        "val_acc = history.history['val_acc']\n",
        "loss = history.history['loss']\n",
        "val_loss = history.history['val_loss']\n",
        "\n",
        "epochs = range(1, len(acc) + 1)\n",
        "\n",
        "plt.plot(epochs, acc, 'bo', label='Training acc')\n",
        "plt.plot(epochs, val_acc, 'b', label='Validation acc')\n",
        "plt.title('Training and validation accuracy')\n",
        "plt.legend()\n",
        "\n",
        "plt.figure()\n",
        "\n",
        "# Plot training and validation loss per epoch\n",
        "plt.plot(epochs, loss, 'bo', label='Training loss')\n",
        "plt.plot(epochs, val_loss, 'b', label='Validation loss')\n",
        "plt.title('Training and validation loss')\n",
        "plt.legend()\n",
        "\n",
        "plt.show()"
      ],
      "execution_count": 2,
      "outputs": [
        {
          "output_type": "error",
          "ename": "NameError",
          "evalue": "ignored",
          "traceback": [
            "\u001b[0;31m---------------------------------------------------------------------------\u001b[0m",
            "\u001b[0;31mNameError\u001b[0m                                 Traceback (most recent call last)",
            "\u001b[0;32m<ipython-input-2-11e49b9e2fd6>\u001b[0m in \u001b[0;36m<module>\u001b[0;34m()\u001b[0m\n\u001b[1;32m      1\u001b[0m \u001b[0;32mimport\u001b[0m \u001b[0mmatplotlib\u001b[0m\u001b[0;34m.\u001b[0m\u001b[0mpyplot\u001b[0m \u001b[0;32mas\u001b[0m \u001b[0mplt\u001b[0m\u001b[0;34m\u001b[0m\u001b[0;34m\u001b[0m\u001b[0m\n\u001b[1;32m      2\u001b[0m \u001b[0;34m\u001b[0m\u001b[0m\n\u001b[0;32m----> 3\u001b[0;31m \u001b[0macc\u001b[0m \u001b[0;34m=\u001b[0m \u001b[0mhistory\u001b[0m\u001b[0;34m.\u001b[0m\u001b[0mhistory\u001b[0m\u001b[0;34m[\u001b[0m\u001b[0;34m'acc'\u001b[0m\u001b[0;34m]\u001b[0m\u001b[0;34m\u001b[0m\u001b[0;34m\u001b[0m\u001b[0m\n\u001b[0m\u001b[1;32m      4\u001b[0m \u001b[0mval_acc\u001b[0m \u001b[0;34m=\u001b[0m \u001b[0mhistory\u001b[0m\u001b[0;34m.\u001b[0m\u001b[0mhistory\u001b[0m\u001b[0;34m[\u001b[0m\u001b[0;34m'val_acc'\u001b[0m\u001b[0;34m]\u001b[0m\u001b[0;34m\u001b[0m\u001b[0;34m\u001b[0m\u001b[0m\n\u001b[1;32m      5\u001b[0m \u001b[0mloss\u001b[0m \u001b[0;34m=\u001b[0m \u001b[0mhistory\u001b[0m\u001b[0;34m.\u001b[0m\u001b[0mhistory\u001b[0m\u001b[0;34m[\u001b[0m\u001b[0;34m'loss'\u001b[0m\u001b[0;34m]\u001b[0m\u001b[0;34m\u001b[0m\u001b[0;34m\u001b[0m\u001b[0m\n",
            "\u001b[0;31mNameError\u001b[0m: name 'history' is not defined"
          ]
        }
      ]
    },
    {
      "cell_type": "code",
      "metadata": {
        "id": "DEyqT3HKOMGz",
        "colab_type": "code",
        "colab": {}
      },
      "source": [
        "train_generator = train_datagen.flow_from_directory(\n",
        "        train_dir,  \n",
        "        target_size=(150, 150),  \n",
        "        batch_size=40,\n",
        "        class_mode='categorical')\n",
        "\n",
        "train_loss, train_acc = model.evaluate_generator(train_generator, steps=50)\n",
        "print('train_acc:', train_acc)"
      ],
      "execution_count": 0,
      "outputs": []
    },
    {
      "cell_type": "code",
      "metadata": {
        "id": "rd7LhvAC0eVh",
        "colab_type": "code",
        "colab": {}
      },
      "source": [
        "validation_generator = test_datagen.flow_from_directory(\n",
        "        validation_dir,  \n",
        "        target_size=(150, 150),  \n",
        "        batch_size=40,\n",
        "        class_mode='categorical')\n",
        "\n",
        "validation_loss, validation_acc = model.evaluate_generator(validation_generator, steps=50)\n",
        "print('validation_acc:', validation_acc)"
      ],
      "execution_count": 0,
      "outputs": []
    },
    {
      "cell_type": "code",
      "metadata": {
        "id": "Vf6zV6ZoaX1w",
        "colab_type": "code",
        "colab": {}
      },
      "source": [
        "model.save('multi_class_weather_2.h5')\n",
        "model_file = drive.CreateFile({'title' : 'multi_class_weather_2.h5'})                       \n",
        "model_file.SetContentFile('multi_class_weather_2.h5')                       \n",
        "model_file.Upload()\n",
        "print('Uploaded file with ID {}'.format(uploaded.get('id')))"
      ],
      "execution_count": 0,
      "outputs": []
    }
  ]
}