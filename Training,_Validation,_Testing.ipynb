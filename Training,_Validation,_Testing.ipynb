{
  "nbformat": 4,
  "nbformat_minor": 0,
  "metadata": {
    "colab": {
      "name": "Training, Validation, Testing",
      "provenance": [],
      "collapsed_sections": [],
      "include_colab_link": true
    },
    "kernelspec": {
      "name": "python3",
      "display_name": "Python 3"
    },
    "accelerator": "GPU"
  },
  "cells": [
    {
      "cell_type": "markdown",
      "metadata": {
        "id": "view-in-github",
        "colab_type": "text"
      },
      "source": [
        "<a href=\"https://colab.research.google.com/github/teng-joyeen/teng-joyeen.github.io/blob/master/Training%2C_Validation%2C_Testing.ipynb\" target=\"_parent\"><img src=\"https://colab.research.google.com/assets/colab-badge.svg\" alt=\"Open In Colab\"/></a>"
      ]
    },
    {
      "cell_type": "code",
      "metadata": {
        "id": "yuo-EhHpK2vW",
        "colab_type": "code",
        "colab": {}
      },
      "source": [
        "# Install the PyDrive wrapper & import libraries.\n",
        "# This only needs to be done once per notebook.\n",
        "!pip install -U -q PyDrive\n",
        "from pydrive.auth import GoogleAuth\n",
        "from pydrive.drive import GoogleDrive\n",
        "from google.colab import auth\n",
        "from oauth2client.client import GoogleCredentials\n",
        "\n",
        "# Authenticate and create the PyDrive client.\n",
        "# This only needs to be done once per notebook.\n",
        "auth.authenticate_user()\n",
        "gauth = GoogleAuth()\n",
        "gauth.credentials = GoogleCredentials.get_application_default()\n",
        "drive = GoogleDrive(gauth)"
      ],
      "execution_count": 0,
      "outputs": []
    },
    {
      "cell_type": "code",
      "metadata": {
        "id": "UeG3r3g88vIt",
        "colab_type": "code",
        "outputId": "7c8a76b3-b479-427b-fe50-5f20e2ad7a48",
        "colab": {
          "base_uri": "https://localhost:8080/",
          "height": 127
        }
      },
      "source": [
        "from google.colab import drive\n",
        "drive.mount('/content/drive')"
      ],
      "execution_count": 0,
      "outputs": [
        {
          "output_type": "stream",
          "text": [
            "Go to this URL in a browser: https://accounts.google.com/o/oauth2/auth?client_id=947318989803-6bn6qk8qdgf4n4g3pfee6491hc0brc4i.apps.googleusercontent.com&redirect_uri=urn%3Aietf%3Awg%3Aoauth%3A2.0%3Aoob&scope=email%20https%3A%2F%2Fwww.googleapis.com%2Fauth%2Fdocs.test%20https%3A%2F%2Fwww.googleapis.com%2Fauth%2Fdrive%20https%3A%2F%2Fwww.googleapis.com%2Fauth%2Fdrive.photos.readonly%20https%3A%2F%2Fwww.googleapis.com%2Fauth%2Fpeopleapi.readonly&response_type=code\n",
            "\n",
            "Enter your authorization code:\n",
            "··········\n",
            "Mounted at /content/drive\n"
          ],
          "name": "stdout"
        }
      ]
    },
    {
      "cell_type": "code",
      "metadata": {
        "id": "T70sAYvk8_gv",
        "colab_type": "code",
        "colab": {}
      },
      "source": [
        "import os\n",
        "import zipfile\n",
        "\n",
        "local_zip = '/content/drive/My Drive/weather_classification.zip'\n",
        "zip_ref = zipfile.ZipFile(local_zip, 'r')\n",
        "zip_ref.extractall('/My Drive/weather_classification')\n",
        "zip_ref.close()\n",
        "\n",
        "!rm -rf weather_classification.zip"
      ],
      "execution_count": 0,
      "outputs": []
    },
    {
      "cell_type": "code",
      "metadata": {
        "id": "qWDdfsIaDpDL",
        "colab_type": "code",
        "colab": {}
      },
      "source": [
        "import os, shutil\n",
        "\n",
        "cloudy_dataset_dir = '/My Drive/weather_classification/cloudy'\n",
        "rainy_dataset_dir = '/My Drive/weather_classification/rainy'\n",
        "sunny_dataset_dir = '/My Drive/weather_classification/sunny'\n",
        "snowy_dataset_dir = '/My Drive/weather_classification/snowy'\n",
        "\n",
        "base_dir = '/My Drive/weather'\n",
        "os.mkdir(base_dir)\n",
        "\n",
        "train_dir = os.path.join(base_dir, 'train')\n",
        "os.mkdir(train_dir)\n",
        "validation_dir = os.path.join(base_dir, 'validation')\n",
        "os.mkdir(validation_dir)\n",
        "test_dir = os.path.join(base_dir, 'test')\n",
        "os.mkdir(test_dir)\n",
        "\n",
        "train_cloudy_dir = os.path.join(train_dir, 'cloudy')\n",
        "os.mkdir(train_cloudy_dir)\n",
        "train_rainy_dir = os.path.join(train_dir, 'rainy')\n",
        "os.mkdir(train_rainy_dir)\n",
        "train_sunny_dir = os.path.join(train_dir, 'sunny')\n",
        "os.mkdir(train_sunny_dir)\n",
        "train_snowy_dir = os.path.join(train_dir, 'snowy')\n",
        "os.mkdir(train_snowy_dir)\n",
        "\n",
        "validation_cloudy_dir = os.path.join(validation_dir, 'cloudy')\n",
        "os.mkdir(validation_cloudy_dir)\n",
        "validation_rainy_dir = os.path.join(validation_dir, 'rainy')\n",
        "os.mkdir(validation_rainy_dir)\n",
        "validation_sunny_dir = os.path.join(validation_dir, 'sunny')\n",
        "os.mkdir(validation_sunny_dir)\n",
        "validation_snowy_dir = os.path.join(validation_dir, 'snowy')\n",
        "os.mkdir(validation_snowy_dir)\n",
        "\n",
        "test_cloudy_dir = os.path.join(test_dir, 'cloudy')\n",
        "os.mkdir(test_cloudy_dir)\n",
        "test_rainy_dir = os.path.join(test_dir, 'rainy')\n",
        "os.mkdir(test_rainy_dir)\n",
        "test_sunny_dir = os.path.join(test_dir, 'sunny')\n",
        "os.mkdir(test_sunny_dir)\n",
        "test_snowy_dir = os.path.join(test_dir, 'snowy')\n",
        "os.mkdir(test_snowy_dir)"
      ],
      "execution_count": 0,
      "outputs": []
    },
    {
      "cell_type": "code",
      "metadata": {
        "id": "HFHb73XU3Pk3",
        "colab_type": "code",
        "outputId": "c8617d80-126b-478b-e7d9-f327617b7034",
        "colab": {
          "base_uri": "https://localhost:8080/",
          "height": 230
        }
      },
      "source": [
        "fnames = ['cloudy_0000{}.jpg'.format(i) for i in range(0, 10)]\n",
        "for fname in fnames:\n",
        "  src = os.path.join(cloudy_dataset_dir, fname)\n",
        "  dst = os.path.join(train_cloudy_dir, fname)\n",
        "  shutil.copyfile(src, dst)\n",
        "\n",
        "fnames = ['cloudy_000{}.jpg'.format(i) for i in range(10, 100)]\n",
        "for fname in fnames:\n",
        "  src = os.path.join(cloudy_dataset_dir, fname)\n",
        "  dst = os.path.join(train_cloudy_dir, fname)\n",
        "  shutil.copyfile(src, dst)\n",
        "  \n",
        "fnames = ['cloudy_00{}.jpg'.format(i) for i in range(100, 1000)]\n",
        "for fname in fnames:\n",
        "  src = os.path.join(cloudy_dataset_dir, fname)\n",
        "  dst = os.path.join(train_cloudy_dir, fname)\n",
        "  shutil.copyfile(src, dst)\n",
        "  \n",
        "fnames = ['cloudy_0{}.jpg'.format(i) for i in range(1000, 6000)]\n",
        "for fname in fnames:\n",
        "  src = os.path.join(cloudy_dataset_dir, fname)\n",
        "  dst = os.path.join(train_cloudy_dir, fname)\n",
        "  shutil.copyfile(src, dst)  \n",
        "  \n",
        "fnames = ['cloudy_0{}.jpg'.format(i) for i in range(6000, 8000)]\n",
        "for fname in fnames:\n",
        "  src = os.path.join(cloudy_dataset_dir, fname)\n",
        "  dst = os.path.join(validation_cloudy_dir, fname)\n",
        "  shutil.copyfile(src, dst)\n",
        "  \n",
        "fnames = ['cloudy_0{}.jpg'.format(i) for i in range(8000, 10000)]\n",
        "for fname in fnames:\n",
        "  src = os.path.join(cloudy_dataset_dir, fname)\n",
        "  dst = os.path.join(test_cloudy_dir, fname)\n",
        "  shutil.copyfile(src, dst)\n",
        "  \n",
        "fnames = ['rainy_0000{}.jpg'.format(i) for i in range(0, 10)]\n",
        "for fname in fnames:\n",
        "  src = os.path.join(rainy_dataset_dir, fname)\n",
        "  dst = os.path.join(train_rainy_dir, fname)\n",
        "  shutil.copyfile(src, dst)\n",
        "\n",
        "fnames = ['rainy_000{}.jpg'.format(i) for i in range(10, 100)]\n",
        "for fname in fnames:\n",
        "  src = os.path.join(rainy_dataset_dir, fname)\n",
        "  dst = os.path.join(train_rainy_dir, fname)\n",
        "  shutil.copyfile(src, dst)\n",
        "  \n",
        "fnames = ['rainy_00{}.jpg'.format(i) for i in range(100, 1000)]\n",
        "for fname in fnames:\n",
        "  src = os.path.join(rainy_dataset_dir, fname)\n",
        "  dst = os.path.join(train_rainy_dir, fname)\n",
        "  shutil.copyfile(src, dst)\n",
        "  \n",
        "fnames = ['rainy_0{}.jpg'.format(i) for i in range(1000, 6000)]\n",
        "for fname in fnames:\n",
        "  src = os.path.join(rainy_dataset_dir, fname)\n",
        "  dst = os.path.join(train_rainy_dir, fname)\n",
        "  shutil.copyfile(src, dst)  \n",
        "  \n",
        "fnames = ['rainy_0{}.jpg'.format(i) for i in range(6000, 8000)]\n",
        "for fname in fnames:\n",
        "  src = os.path.join(rainy_dataset_dir, fname)\n",
        "  dst = os.path.join(validation_rainy_dir, fname)\n",
        "  shutil.copyfile(src, dst)\n",
        "\n",
        "fnames = ['rainy_0{}.jpg'.format(i) for i in range(8000, 10000)]\n",
        "for fname in fnames:\n",
        "  src = os.path.join(rainy_dataset_dir, fname)\n",
        "  dst = os.path.join(test_rainy_dir, fname)\n",
        "  shutil.copyfile(src, dst) \n",
        "\n",
        "fnames = ['sunny_0000{}.jpg'.format(i) for i in range(0, 10)]\n",
        "for fname in fnames:\n",
        "  src = os.path.join(sunny_dataset_dir, fname)\n",
        "  dst = os.path.join(train_sunny_dir, fname)\n",
        "  shutil.copyfile(src, dst)\n",
        "\n",
        "fnames = ['sunny_000{}.jpg'.format(i) for i in range(10, 100)]\n",
        "for fname in fnames:\n",
        "  src = os.path.join(sunny_dataset_dir, fname)\n",
        "  dst = os.path.join(train_sunny_dir, fname)\n",
        "  shutil.copyfile(src, dst)\n",
        "  \n",
        "fnames = ['sunny_00{}.jpg'.format(i) for i in range(100, 1000)]\n",
        "for fname in fnames:\n",
        "  src = os.path.join(sunny_dataset_dir, fname)\n",
        "  dst = os.path.join(train_sunny_dir, fname)\n",
        "  shutil.copyfile(src, dst)\n",
        "  \n",
        "fnames = ['sunny_0{}.jpg'.format(i) for i in range(1000, 6000)]\n",
        "for fname in fnames:\n",
        "  src = os.path.join(sunny_dataset_dir, fname)\n",
        "  dst = os.path.join(train_sunny_dir, fname)\n",
        "  shutil.copyfile(src, dst)  \n",
        "  \n",
        "fnames = ['sunny_0{}.jpg'.format(i) for i in range(6000, 8000)]\n",
        "for fname in fnames:\n",
        "  src = os.path.join(sunny_dataset_dir, fname)\n",
        "  dst = os.path.join(validation_sunny_dir, fname)\n",
        "  shutil.copyfile(src, dst)\n",
        "\n",
        "fnames = ['sunny_0{}.jpg'.format(i) for i in range(8000, 10000)]\n",
        "for fname in fnames:\n",
        "  src = os.path.join(sunny_dataset_dir, fname)\n",
        "  dst = os.path.join(test_sunny_dir, fname)\n",
        "  shutil.copyfile(src, dst)\n",
        "  \n",
        "fnames = ['snow_0000{}.jpg'.format(i) for i in range(0, 10)]\n",
        "for fname in fnames:\n",
        "  src = os.path.join(snowy_dataset_dir, fname)\n",
        "  dst = os.path.join(train_snowy_dir, fname)\n",
        "  shutil.copyfile(src, dst)\n",
        "\n",
        "fnames = ['snow_000{}.jpg'.format(i) for i in range(10, 100)]\n",
        "for fname in fnames:\n",
        "  src = os.path.join(snowy_dataset_dir, fname)\n",
        "  dst = os.path.join(train_snowy_dir, fname)\n",
        "  shutil.copyfile(src, dst)\n",
        "  \n",
        "fnames = ['snow_00{}.jpg'.format(i) for i in range(100, 1000)]\n",
        "for fname in fnames:\n",
        "  src = os.path.join(snowy_dataset_dir, fname)\n",
        "  dst = os.path.join(train_snowy_dir, fname)\n",
        "  shutil.copyfile(src, dst)\n",
        "  \n",
        "fnames = ['snow_0{}.jpg'.format(i) for i in range(1000, 6000)]\n",
        "for fname in fnames:\n",
        "  src = os.path.join(snowy_dataset_dir, fname)\n",
        "  dst = os.path.join(train_snowy_dir, fname)\n",
        "  shutil.copyfile(src, dst)  \n",
        "  \n",
        "fnames = ['snow_0{}.jpg'.format(i) for i in range(6000, 8000)]\n",
        "for fname in fnames:\n",
        "  src = os.path.join(snowy_dataset_dir, fname)\n",
        "  dst = os.path.join(validation_snowy_dir, fname)\n",
        "  shutil.copyfile(src, dst)\n",
        "\n",
        "fnames = ['snow_0{}.jpg'.format(i) for i in range(8000, 10000)]\n",
        "for fname in fnames:\n",
        "  src = os.path.join(snowy_dataset_dir, fname)\n",
        "  dst = os.path.join(test_snowy_dir, fname)\n",
        "  shutil.copyfile(src, dst)\n",
        "  \n",
        "print('total training cloudy images:', len(os.listdir(train_cloudy_dir)))\n",
        "print('total training rainy images:', len(os.listdir(train_rainy_dir)))\n",
        "print('total training sunny images:', len(os.listdir(train_sunny_dir)))\n",
        "print('total training snowy images:', len(os.listdir(train_snowy_dir)))\n",
        "  \n",
        "print('total validation cloudy images:', len(os.listdir(validation_cloudy_dir)))\n",
        "print('total validation rainy images:', len(os.listdir(validation_rainy_dir)))\n",
        "print('total validation sunny images:', len(os.listdir(validation_sunny_dir)))\n",
        "print('total validation snowy images:', len(os.listdir(validation_snowy_dir)))\n",
        "\n",
        "print('total test cloudy images:', len(os.listdir(test_cloudy_dir)))\n",
        "print('total test rainy images:', len(os.listdir(test_rainy_dir)))\n",
        "print('total test sunny images:', len(os.listdir(test_sunny_dir)))\n",
        "print('total test snowy images:', len(os.listdir(test_snowy_dir)))"
      ],
      "execution_count": 0,
      "outputs": [
        {
          "output_type": "stream",
          "text": [
            "total training cloudy images: 6000\n",
            "total training rainy images: 6000\n",
            "total training sunny images: 6000\n",
            "total training snowy images: 6000\n",
            "total validation cloudy images: 2000\n",
            "total validation rainy images: 2000\n",
            "total validation sunny images: 2000\n",
            "total validation snowy images: 2000\n",
            "total test cloudy images: 2000\n",
            "total test rainy images: 2000\n",
            "total test sunny images: 2000\n",
            "total test snowy images: 2000\n"
          ],
          "name": "stdout"
        }
      ]
    },
    {
      "cell_type": "markdown",
      "metadata": {
        "id": "ODmtZmQ95fVk",
        "colab_type": "text"
      },
      "source": [
        "Model 1 - 16 32 / 256 / 0.001"
      ]
    },
    {
      "cell_type": "code",
      "metadata": {
        "id": "SDcxCYB13kUe",
        "colab_type": "code",
        "outputId": "19c260fd-9f2f-4a97-9df9-b3b10aca7fce",
        "colab": {
          "base_uri": "https://localhost:8080/",
          "height": 407
        }
      },
      "source": [
        "# Model 1\n",
        "from keras import layers\n",
        "from keras import models\n",
        "\n",
        "model = models. Sequential()\n",
        "model.add(layers.Conv2D(16, (3, 3), activation='relu', input_shape=(150, 150, 3)))\n",
        "model.add(layers.MaxPooling2D((2, 2)))\n",
        "model.add(layers.Conv2D(32, (3, 3), activation='relu'))\n",
        "model.add(layers.MaxPooling2D((2, 2)))\n",
        "model.add(layers.Flatten())\n",
        "model.add(layers.Dense(256, activation='relu'))\n",
        "model.add(layers.Dense(4, activation='softmax'))\n",
        "\n",
        "model.summary()"
      ],
      "execution_count": 0,
      "outputs": [
        {
          "output_type": "stream",
          "text": [
            "Model: \"sequential_5\"\n",
            "_________________________________________________________________\n",
            "Layer (type)                 Output Shape              Param #   \n",
            "=================================================================\n",
            "conv2d_9 (Conv2D)            (None, 148, 148, 16)      448       \n",
            "_________________________________________________________________\n",
            "max_pooling2d_9 (MaxPooling2 (None, 74, 74, 16)        0         \n",
            "_________________________________________________________________\n",
            "conv2d_10 (Conv2D)           (None, 72, 72, 32)        4640      \n",
            "_________________________________________________________________\n",
            "max_pooling2d_10 (MaxPooling (None, 36, 36, 32)        0         \n",
            "_________________________________________________________________\n",
            "flatten_5 (Flatten)          (None, 41472)             0         \n",
            "_________________________________________________________________\n",
            "dense_9 (Dense)              (None, 256)               10617088  \n",
            "_________________________________________________________________\n",
            "dense_10 (Dense)             (None, 4)                 1028      \n",
            "=================================================================\n",
            "Total params: 10,623,204\n",
            "Trainable params: 10,623,204\n",
            "Non-trainable params: 0\n",
            "_________________________________________________________________\n"
          ],
          "name": "stdout"
        }
      ]
    },
    {
      "cell_type": "code",
      "metadata": {
        "id": "b5tYZLqE4PvN",
        "colab_type": "code",
        "outputId": "44fa99d7-4148-4fe7-d7a5-778a7503ca4a",
        "colab": {
          "base_uri": "https://localhost:8080/",
          "height": 407
        }
      },
      "source": [
        "from keras.preprocessing.image import ImageDataGenerator\n",
        "from keras import optimizers \n",
        "\n",
        "train_datagen = ImageDataGenerator(rescale=1./255)\n",
        "test_datagen = ImageDataGenerator(rescale=1./255)\n",
        "\n",
        "train_generator = train_datagen.flow_from_directory(\n",
        "        train_dir,  \n",
        "        target_size=(150, 150),  \n",
        "        batch_size=32,\n",
        "        class_mode='categorical')\n",
        "\n",
        "validation_generator = test_datagen.flow_from_directory(\n",
        "        validation_dir,\n",
        "        target_size=(150, 150),\n",
        "        batch_size=32,\n",
        "        class_mode='categorical')\n",
        "\n",
        "model.compile(loss='categorical_crossentropy',\n",
        "              optimizer= optimizers.RMSprop(lr=0.001),\n",
        "              metrics=['acc'])\n",
        "\n",
        "model_history = model.fit_generator(\n",
        "      train_generator,\n",
        "      steps_per_epoch=750,  # 24000 images = batch_size * steps\n",
        "      epochs=10,\n",
        "      validation_data=validation_generator,\n",
        "      validation_steps=250,  # 8000 images = batch_size * steps\n",
        "      verbose=2)\n"
      ],
      "execution_count": 0,
      "outputs": [
        {
          "output_type": "stream",
          "text": [
            "Found 24000 images belonging to 4 classes.\n",
            "Found 8000 images belonging to 4 classes.\n",
            "Epoch 1/10\n",
            " - 151s - loss: 1.1796 - acc: 0.5669 - val_loss: 0.8517 - val_acc: 0.6474\n",
            "Epoch 2/10\n",
            " - 141s - loss: 0.8005 - acc: 0.6796 - val_loss: 0.9514 - val_acc: 0.6335\n",
            "Epoch 3/10\n",
            " - 142s - loss: 0.6419 - acc: 0.7502 - val_loss: 0.9482 - val_acc: 0.6529\n",
            "Epoch 4/10\n",
            " - 145s - loss: 0.4771 - acc: 0.8198 - val_loss: 0.9439 - val_acc: 0.6474\n",
            "Epoch 5/10\n",
            " - 140s - loss: 0.3412 - acc: 0.8782 - val_loss: 1.0970 - val_acc: 0.6439\n",
            "Epoch 6/10\n",
            " - 143s - loss: 0.2357 - acc: 0.9214 - val_loss: 1.4367 - val_acc: 0.6575\n",
            "Epoch 7/10\n",
            " - 144s - loss: 0.1843 - acc: 0.9408 - val_loss: 1.6884 - val_acc: 0.6489\n",
            "Epoch 8/10\n",
            " - 143s - loss: 0.1508 - acc: 0.9534 - val_loss: 1.6436 - val_acc: 0.6415\n",
            "Epoch 9/10\n",
            " - 147s - loss: 0.1280 - acc: 0.9637 - val_loss: 1.7606 - val_acc: 0.6225\n",
            "Epoch 10/10\n",
            " - 147s - loss: 0.1222 - acc: 0.9656 - val_loss: 1.7588 - val_acc: 0.6444\n"
          ],
          "name": "stdout"
        }
      ]
    },
    {
      "cell_type": "code",
      "metadata": {
        "id": "rR94-Woc4ZuH",
        "colab_type": "code",
        "outputId": "18f21812-55d0-4dea-b793-7413b28faa9d",
        "colab": {
          "base_uri": "https://localhost:8080/",
          "height": 616
        }
      },
      "source": [
        "train_loss, train_acc = model.evaluate_generator(train_generator, steps=50)\n",
        "print('train_acc:', train_acc)\n",
        "print('train_loss:', train_loss)\n",
        "\n",
        "validation_loss, validation_acc = model.evaluate_generator(validation_generator, steps=50)\n",
        "print('validation_acc:', validation_acc)\n",
        "print('validation_loss:', validation_loss)\n",
        "\n",
        "import matplotlib.pyplot as plt\n",
        "\n",
        "acc = model_history.history['acc']\n",
        "val_acc = model_history.history['val_acc']\n",
        "loss = model_history.history['loss']\n",
        "val_loss = model_history.history['val_loss']\n",
        "\n",
        "epochs = range(1, len(acc) + 1)\n",
        "\n",
        "plt.plot(epochs, acc, 'bo', label='Training acc')\n",
        "plt.plot(epochs, val_acc, 'b', label='Validation acc')\n",
        "plt.title('Training and validation accuracy')\n",
        "plt.legend()\n",
        "\n",
        "plt.figure()\n",
        "\n",
        "# Plot training and validation loss per epoch\n",
        "plt.plot(epochs, loss, 'bo', label='Training loss')\n",
        "plt.plot(epochs, val_loss, 'b', label='Validation loss')\n",
        "plt.title('Training and validation loss')\n",
        "plt.legend()\n",
        "\n",
        "plt.show()"
      ],
      "execution_count": 0,
      "outputs": [
        {
          "output_type": "stream",
          "text": [
            "train_acc: 0.98625\n",
            "train_loss: 0.052200346793979405\n",
            "validation_acc: 0.64\n",
            "validation_loss: 1.8389247393608092\n"
          ],
          "name": "stdout"
        },
        {
          "output_type": "display_data",
          "data": {
            "image/png": "[encoded data removed]",
            "text/plain": [
              "<Figure size 432x288 with 1 Axes>"
            ]
          },
          "metadata": {
            "tags": []
          }
        },
        {
          "output_type": "display_data",
          "data": {
            "image/png": "[encoded data removed]",
            "text/plain": [
              "<Figure size 432x288 with 1 Axes>"
            ]
          },
          "metadata": {
            "tags": []
          }
        }
      ]
    },
    {
      "cell_type": "code",
      "metadata": {
        "id": "wBHiNk074r2N",
        "colab_type": "code",
        "colab": {}
      },
      "source": [
        "model.save('/content/drive/My Drive/Multi-Class Weather/model1.h5')"
      ],
      "execution_count": 0,
      "outputs": []
    },
    {
      "cell_type": "markdown",
      "metadata": {
        "id": "B9tfAi-H5cp0",
        "colab_type": "text"
      },
      "source": [
        "Model 2 - 16 32 64 / 256 Dropout / 0.001\n",
        "Add convolution layer with 64 filters and dropout"
      ]
    },
    {
      "cell_type": "code",
      "metadata": {
        "id": "5h65NGTy4r_N",
        "colab_type": "code",
        "outputId": "39a8ec31-0c5b-4d33-fe19-e897447d3632",
        "colab": {
          "base_uri": "https://localhost:8080/",
          "height": 514
        }
      },
      "source": [
        "# Model 2\n",
        "from keras import layers\n",
        "from keras import models\n",
        "\n",
        "model = models. Sequential()\n",
        "model.add(layers.Conv2D(16, (3, 3), activation='relu', input_shape=(150, 150, 3)))\n",
        "model.add(layers.MaxPooling2D((2, 2)))\n",
        "model.add(layers.Conv2D(32, (3, 3), activation='relu'))\n",
        "model.add(layers.MaxPooling2D((2, 2)))\n",
        "model.add(layers.Conv2D(64, (3, 3), activation='relu'))\n",
        "model.add(layers.MaxPooling2D((2, 2)))\n",
        "model.add(layers.Flatten())\n",
        "model.add(layers.Dense(256, activation='relu'))\n",
        "model.add(layers.Dropout(0.5))\n",
        "model.add(layers.Dense(4, activation='softmax'))\n",
        "\n",
        "model.summary()"
      ],
      "execution_count": 0,
      "outputs": [
        {
          "output_type": "stream",
          "text": [
            "Model: \"sequential_7\"\n",
            "_________________________________________________________________\n",
            "Layer (type)                 Output Shape              Param #   \n",
            "=================================================================\n",
            "conv2d_14 (Conv2D)           (None, 148, 148, 16)      448       \n",
            "_________________________________________________________________\n",
            "max_pooling2d_14 (MaxPooling (None, 74, 74, 16)        0         \n",
            "_________________________________________________________________\n",
            "conv2d_15 (Conv2D)           (None, 72, 72, 32)        4640      \n",
            "_________________________________________________________________\n",
            "max_pooling2d_15 (MaxPooling (None, 36, 36, 32)        0         \n",
            "_________________________________________________________________\n",
            "conv2d_16 (Conv2D)           (None, 34, 34, 64)        18496     \n",
            "_________________________________________________________________\n",
            "max_pooling2d_16 (MaxPooling (None, 17, 17, 64)        0         \n",
            "_________________________________________________________________\n",
            "flatten_7 (Flatten)          (None, 18496)             0         \n",
            "_________________________________________________________________\n",
            "dense_13 (Dense)             (None, 256)               4735232   \n",
            "_________________________________________________________________\n",
            "dropout_2 (Dropout)          (None, 256)               0         \n",
            "_________________________________________________________________\n",
            "dense_14 (Dense)             (None, 4)                 1028      \n",
            "=================================================================\n",
            "Total params: 4,759,844\n",
            "Trainable params: 4,759,844\n",
            "Non-trainable params: 0\n",
            "_________________________________________________________________\n"
          ],
          "name": "stdout"
        }
      ]
    },
    {
      "cell_type": "code",
      "metadata": {
        "id": "ls6gET285oFs",
        "colab_type": "code",
        "outputId": "63288821-c036-4a84-fce5-7912cf8b8c0f",
        "colab": {
          "base_uri": "https://localhost:8080/",
          "height": 407
        }
      },
      "source": [
        "from keras.preprocessing.image import ImageDataGenerator\n",
        "from keras import optimizers \n",
        "\n",
        "train_datagen = ImageDataGenerator(rescale=1./255)\n",
        "test_datagen = ImageDataGenerator(rescale=1./255)\n",
        "\n",
        "train_generator = train_datagen.flow_from_directory(\n",
        "        train_dir,  \n",
        "        target_size=(150, 150),  \n",
        "        batch_size=32,\n",
        "        class_mode='categorical')\n",
        "\n",
        "validation_generator = test_datagen.flow_from_directory(\n",
        "        validation_dir,\n",
        "        target_size=(150, 150),\n",
        "        batch_size=32,\n",
        "        class_mode='categorical')\n",
        "\n",
        "model.compile(loss='categorical_crossentropy',\n",
        "              optimizer= optimizers.RMSprop(lr=0.001),\n",
        "              metrics=['acc'])\n",
        "\n",
        "model_history = model.fit_generator(\n",
        "      train_generator,\n",
        "      steps_per_epoch=750,  # 24000 images = batch_size * steps\n",
        "      epochs=10,\n",
        "      validation_data=validation_generator,\n",
        "      validation_steps=250,  # 8000 images = batch_size * steps\n",
        "      verbose=2)\n"
      ],
      "execution_count": 0,
      "outputs": [
        {
          "output_type": "stream",
          "text": [
            "Found 24000 images belonging to 4 classes.\n",
            "Found 8000 images belonging to 4 classes.\n",
            "Epoch 1/10\n",
            " - 160s - loss: 1.0313 - acc: 0.5677 - val_loss: 0.9297 - val_acc: 0.6179\n",
            "Epoch 2/10\n",
            " - 160s - loss: 0.8765 - acc: 0.6486 - val_loss: 0.8334 - val_acc: 0.6518\n",
            "Epoch 3/10\n",
            " - 167s - loss: 0.8233 - acc: 0.6699 - val_loss: 0.8936 - val_acc: 0.6617\n",
            "Epoch 4/10\n",
            " - 157s - loss: 0.7997 - acc: 0.6860 - val_loss: 0.7944 - val_acc: 0.6783\n",
            "Epoch 5/10\n",
            " - 142s - loss: 0.7791 - acc: 0.6934 - val_loss: 0.8007 - val_acc: 0.6871\n",
            "Epoch 6/10\n",
            " - 143s - loss: 0.7719 - acc: 0.7022 - val_loss: 0.8221 - val_acc: 0.6849\n",
            "Epoch 7/10\n",
            " - 143s - loss: 0.7601 - acc: 0.7059 - val_loss: 0.7600 - val_acc: 0.7056\n",
            "Epoch 8/10\n",
            " - 144s - loss: 0.7605 - acc: 0.7108 - val_loss: 0.7858 - val_acc: 0.6911\n",
            "Epoch 9/10\n",
            " - 144s - loss: 0.7562 - acc: 0.7089 - val_loss: 0.8841 - val_acc: 0.6860\n",
            "Epoch 10/10\n",
            " - 143s - loss: 0.7690 - acc: 0.7127 - val_loss: 0.7830 - val_acc: 0.6860\n"
          ],
          "name": "stdout"
        }
      ]
    },
    {
      "cell_type": "code",
      "metadata": {
        "id": "on1PTDDe5tqb",
        "colab_type": "code",
        "outputId": "76691faf-5893-40a7-b6f5-418d79b4d215",
        "colab": {
          "base_uri": "https://localhost:8080/",
          "height": 616
        }
      },
      "source": [
        "train_loss, train_acc = model.evaluate_generator(train_generator, steps=50)\n",
        "print('train_acc:', train_acc)\n",
        "print('train_loss:', train_loss)\n",
        "\n",
        "validation_loss, validation_acc = model.evaluate_generator(validation_generator, steps=50)\n",
        "print('validation_acc:', validation_acc)\n",
        "print('validation_loss:', validation_loss)\n",
        "\n",
        "import matplotlib.pyplot as plt\n",
        "\n",
        "acc = model_history.history['acc']\n",
        "val_acc = model_history.history['val_acc']\n",
        "loss = model_history.history['loss']\n",
        "val_loss = model_history.history['val_loss']\n",
        "\n",
        "epochs = range(1, len(acc) + 1)\n",
        "\n",
        "plt.plot(epochs, acc, 'bo', label='Training acc')\n",
        "plt.plot(epochs, val_acc, 'b', label='Validation acc')\n",
        "plt.title('Training and validation accuracy')\n",
        "plt.legend()\n",
        "\n",
        "plt.figure()\n",
        "\n",
        "# Plot training and validation loss per epoch\n",
        "plt.plot(epochs, loss, 'bo', label='Training loss')\n",
        "plt.plot(epochs, val_loss, 'b', label='Validation loss')\n",
        "plt.title('Training and validation loss')\n",
        "plt.legend()\n",
        "\n",
        "plt.show()"
      ],
      "execution_count": 0,
      "outputs": [
        {
          "output_type": "stream",
          "text": [
            "train_acc: 0.7375\n",
            "train_loss: 0.6366726231575012\n",
            "validation_acc: 0.68875\n",
            "validation_loss: 0.7643835133314133\n"
          ],
          "name": "stdout"
        },
        {
          "output_type": "display_data",
          "data": {
            "image/png": "[encoded data removed]",
            "text/plain": [
              "<Figure size 432x288 with 1 Axes>"
            ]
          },
          "metadata": {
            "tags": []
          }
        },
        {
          "output_type": "display_data",
          "data": {
            "image/png": "[encoded data removed]",
            "text/plain": [
              "<Figure size 432x288 with 1 Axes>"
            ]
          },
          "metadata": {
            "tags": []
          }
        }
      ]
    },
    {
      "cell_type": "code",
      "metadata": {
        "id": "MTNaUW2w51Hr",
        "colab_type": "code",
        "colab": {}
      },
      "source": [
        "model.save('/content/drive/My Drive/Multi-Class Weather/model2.h5')"
      ],
      "execution_count": 0,
      "outputs": []
    },
    {
      "cell_type": "markdown",
      "metadata": {
        "id": "eoAeQLzJ51rM",
        "colab_type": "text"
      },
      "source": [
        "Model 3 - 16 32 64 128 / 128 Dropout / 0.001\n",
        "Add convolution layer with 128 filters  and reduce number of neurons to 128 of fully connected layer"
      ]
    },
    {
      "cell_type": "code",
      "metadata": {
        "id": "8BXIgICh7-iB",
        "colab_type": "code",
        "outputId": "79844c15-b4e9-44d3-a284-e207dbac90ec",
        "colab": {
          "base_uri": "https://localhost:8080/",
          "height": 585
        }
      },
      "source": [
        "# Model 3\n",
        "from keras import layers\n",
        "from keras import models\n",
        "\n",
        "model = models. Sequential()\n",
        "model.add(layers.Conv2D(16, (3, 3), activation='relu', input_shape=(150, 150, 3)))\n",
        "model.add(layers.MaxPooling2D((2, 2)))\n",
        "model.add(layers.Conv2D(32, (3, 3), activation='relu'))\n",
        "model.add(layers.MaxPooling2D((2, 2)))\n",
        "model.add(layers.Conv2D(64, (3, 3), activation='relu'))\n",
        "model.add(layers.MaxPooling2D((2, 2)))\n",
        "model.add(layers.Conv2D(128, (3, 3), activation='relu'))\n",
        "model.add(layers.MaxPooling2D((2, 2)))\n",
        "model.add(layers.Flatten())\n",
        "model.add(layers.Dense(128, activation='relu'))\n",
        "model.add(layers.Dropout(0.5))\n",
        "model.add(layers.Dense(4, activation='softmax'))\n",
        "\n",
        "model.summary()"
      ],
      "execution_count": 0,
      "outputs": [
        {
          "output_type": "stream",
          "text": [
            "Model: \"sequential_8\"\n",
            "_________________________________________________________________\n",
            "Layer (type)                 Output Shape              Param #   \n",
            "=================================================================\n",
            "conv2d_17 (Conv2D)           (None, 148, 148, 16)      448       \n",
            "_________________________________________________________________\n",
            "max_pooling2d_17 (MaxPooling (None, 74, 74, 16)        0         \n",
            "_________________________________________________________________\n",
            "conv2d_18 (Conv2D)           (None, 72, 72, 32)        4640      \n",
            "_________________________________________________________________\n",
            "max_pooling2d_18 (MaxPooling (None, 36, 36, 32)        0         \n",
            "_________________________________________________________________\n",
            "conv2d_19 (Conv2D)           (None, 34, 34, 64)        18496     \n",
            "_________________________________________________________________\n",
            "max_pooling2d_19 (MaxPooling (None, 17, 17, 64)        0         \n",
            "_________________________________________________________________\n",
            "conv2d_20 (Conv2D)           (None, 15, 15, 128)       73856     \n",
            "_________________________________________________________________\n",
            "max_pooling2d_20 (MaxPooling (None, 7, 7, 128)         0         \n",
            "_________________________________________________________________\n",
            "flatten_8 (Flatten)          (None, 6272)              0         \n",
            "_________________________________________________________________\n",
            "dense_15 (Dense)             (None, 128)               802944    \n",
            "_________________________________________________________________\n",
            "dropout_3 (Dropout)          (None, 128)               0         \n",
            "_________________________________________________________________\n",
            "dense_16 (Dense)             (None, 4)                 516       \n",
            "=================================================================\n",
            "Total params: 900,900\n",
            "Trainable params: 900,900\n",
            "Non-trainable params: 0\n",
            "_________________________________________________________________\n"
          ],
          "name": "stdout"
        }
      ]
    },
    {
      "cell_type": "code",
      "metadata": {
        "id": "s5ZUtD92_CP0",
        "colab_type": "code",
        "outputId": "b7ceff50-8c35-40e7-820d-294b3d83d3e8",
        "colab": {
          "base_uri": "https://localhost:8080/",
          "height": 407
        }
      },
      "source": [
        "from keras.preprocessing.image import ImageDataGenerator\n",
        "from keras import optimizers \n",
        "\n",
        "train_datagen = ImageDataGenerator(rescale=1./255)\n",
        "test_datagen = ImageDataGenerator(rescale=1./255)\n",
        "\n",
        "train_generator = train_datagen.flow_from_directory(\n",
        "        train_dir,  \n",
        "        target_size=(150, 150),  \n",
        "        batch_size=32,\n",
        "        class_mode='categorical')\n",
        "\n",
        "validation_generator = test_datagen.flow_from_directory(\n",
        "        validation_dir,\n",
        "        target_size=(150, 150),\n",
        "        batch_size=32,\n",
        "        class_mode='categorical')\n",
        "\n",
        "model.compile(loss='categorical_crossentropy',\n",
        "              optimizer= optimizers.RMSprop(lr=0.001),\n",
        "              metrics=['acc'])\n",
        "\n",
        "model_history = model.fit_generator(\n",
        "      train_generator,\n",
        "      steps_per_epoch=750,  # 24000 images = batch_size * steps\n",
        "      epochs=10,\n",
        "      validation_data=validation_generator,\n",
        "      validation_steps=250,  # 8000 images = batch_size * steps\n",
        "      verbose=2)"
      ],
      "execution_count": 0,
      "outputs": [
        {
          "output_type": "stream",
          "text": [
            "Found 24000 images belonging to 4 classes.\n",
            "Found 8000 images belonging to 4 classes.\n",
            "Epoch 1/10\n",
            " - 143s - loss: 1.0722 - acc: 0.5406 - val_loss: 0.8626 - val_acc: 0.6445\n",
            "Epoch 2/10\n",
            " - 143s - loss: 0.8917 - acc: 0.6407 - val_loss: 0.7946 - val_acc: 0.6739\n",
            "Epoch 3/10\n",
            " - 143s - loss: 0.8299 - acc: 0.6698 - val_loss: 0.8249 - val_acc: 0.6629\n",
            "Epoch 4/10\n",
            " - 146s - loss: 0.7984 - acc: 0.6825 - val_loss: 1.0532 - val_acc: 0.5810\n",
            "Epoch 5/10\n",
            " - 146s - loss: 0.7805 - acc: 0.6922 - val_loss: 1.1857 - val_acc: 0.5925\n",
            "Epoch 6/10\n",
            " - 146s - loss: 0.7744 - acc: 0.6984 - val_loss: 0.7767 - val_acc: 0.6946\n",
            "Epoch 7/10\n",
            " - 146s - loss: 0.7748 - acc: 0.7008 - val_loss: 0.7861 - val_acc: 0.6753\n",
            "Epoch 8/10\n",
            " - 143s - loss: 0.7657 - acc: 0.7026 - val_loss: 0.7530 - val_acc: 0.6996\n",
            "Epoch 9/10\n",
            " - 140s - loss: 0.7712 - acc: 0.7029 - val_loss: 0.8368 - val_acc: 0.6651\n",
            "Epoch 10/10\n",
            " - 153s - loss: 0.7751 - acc: 0.6980 - val_loss: 0.9975 - val_acc: 0.6548\n"
          ],
          "name": "stdout"
        }
      ]
    },
    {
      "cell_type": "code",
      "metadata": {
        "id": "xkzJnKu9_CaD",
        "colab_type": "code",
        "outputId": "1bb61dca-1066-4c57-a257-a0e9edabfae0",
        "colab": {
          "base_uri": "https://localhost:8080/",
          "height": 616
        }
      },
      "source": [
        "train_loss, train_acc = model.evaluate_generator(train_generator, steps=50)\n",
        "print('train_acc:', train_acc)\n",
        "print('train_loss:', train_loss)\n",
        "\n",
        "validation_loss, validation_acc = model.evaluate_generator(validation_generator, steps=50)\n",
        "print('validation_acc:', validation_acc)\n",
        "print('validation_loss:', validation_loss)\n",
        "\n",
        "import matplotlib.pyplot as plt\n",
        "\n",
        "acc = model_history.history['acc']\n",
        "val_acc = model_history.history['val_acc']\n",
        "loss = model_history.history['loss']\n",
        "val_loss = model_history.history['val_loss']\n",
        "\n",
        "epochs = range(1, len(acc) + 1)\n",
        "\n",
        "plt.plot(epochs, acc, 'bo', label='Training acc')\n",
        "plt.plot(epochs, val_acc, 'b', label='Validation acc')\n",
        "plt.title('Training and validation accuracy')\n",
        "plt.legend()\n",
        "\n",
        "plt.figure()\n",
        "\n",
        "# Plot training and validation loss per epoch\n",
        "plt.plot(epochs, loss, 'bo', label='Training loss')\n",
        "plt.plot(epochs, val_loss, 'b', label='Validation loss')\n",
        "plt.title('Training and validation loss')\n",
        "plt.legend()\n",
        "\n",
        "plt.show()"
      ],
      "execution_count": 0,
      "outputs": [
        {
          "output_type": "stream",
          "text": [
            "train_acc: 0.6725\n",
            "train_loss: 0.8793222296237946\n",
            "validation_acc: 0.670625\n",
            "validation_loss: 0.9356501436233521\n"
          ],
          "name": "stdout"
        },
        {
          "output_type": "display_data",
          "data": {
            "image/png": "[encoded data removed]",
            "text/plain": [
              "<Figure size 432x288 with 1 Axes>"
            ]
          },
          "metadata": {
            "tags": []
          }
        },
        {
          "output_type": "display_data",
          "data": {
            "image/png": "[encoded data removed]",
            "text/plain": [
              "<Figure size 432x288 with 1 Axes>"
            ]
          },
          "metadata": {
            "tags": []
          }
        }
      ]
    },
    {
      "cell_type": "code",
      "metadata": {
        "id": "d57muTf__Clq",
        "colab_type": "code",
        "colab": {}
      },
      "source": [
        "model.save('/content/drive/My Drive/Multi-Class Weather/model3.h5')"
      ],
      "execution_count": 0,
      "outputs": []
    },
    {
      "cell_type": "markdown",
      "metadata": {
        "id": "P-rZ0xsK_M4U",
        "colab_type": "text"
      },
      "source": [
        "Model 4 - 16 32 64 128 / 128 Dropout 128 Dropout / 0.0001\n",
        "Lower the learning rate to 0.0001 and add fully connected layer"
      ]
    },
    {
      "cell_type": "code",
      "metadata": {
        "id": "7ESE9hpz_MAj",
        "colab_type": "code",
        "outputId": "ae8bbf2c-462f-40ec-d3f4-2c9ebd35f6f4",
        "colab": {
          "base_uri": "https://localhost:8080/",
          "height": 656
        }
      },
      "source": [
        "# Model 4\n",
        "from keras import layers\n",
        "from keras import models\n",
        "\n",
        "model = models. Sequential()\n",
        "model.add(layers.Conv2D(16, (3, 3), activation='relu', input_shape=(150, 150, 3)))\n",
        "model.add(layers.MaxPooling2D((2, 2)))\n",
        "model.add(layers.Conv2D(32, (3, 3), activation='relu'))\n",
        "model.add(layers.MaxPooling2D((2, 2)))\n",
        "model.add(layers.Conv2D(64, (3, 3), activation='relu'))\n",
        "model.add(layers.MaxPooling2D((2, 2)))\n",
        "model.add(layers.Conv2D(128, (3, 3), activation='relu'))\n",
        "model.add(layers.MaxPooling2D((2, 2)))\n",
        "model.add(layers.Flatten())\n",
        "model.add(layers.Dense(128, activation='relu'))\n",
        "model.add(layers.Dropout(0.5))\n",
        "model.add(layers.Dense(128, activation='relu'))\n",
        "model.add(layers.Dropout(0.5))\n",
        "model.add(layers.Dense(4, activation='softmax'))\n",
        "\n",
        "model.summary()"
      ],
      "execution_count": 0,
      "outputs": [
        {
          "output_type": "stream",
          "text": [
            "Model: \"sequential_9\"\n",
            "_________________________________________________________________\n",
            "Layer (type)                 Output Shape              Param #   \n",
            "=================================================================\n",
            "conv2d_21 (Conv2D)           (None, 148, 148, 16)      448       \n",
            "_________________________________________________________________\n",
            "max_pooling2d_21 (MaxPooling (None, 74, 74, 16)        0         \n",
            "_________________________________________________________________\n",
            "conv2d_22 (Conv2D)           (None, 72, 72, 32)        4640      \n",
            "_________________________________________________________________\n",
            "max_pooling2d_22 (MaxPooling (None, 36, 36, 32)        0         \n",
            "_________________________________________________________________\n",
            "conv2d_23 (Conv2D)           (None, 34, 34, 64)        18496     \n",
            "_________________________________________________________________\n",
            "max_pooling2d_23 (MaxPooling (None, 17, 17, 64)        0         \n",
            "_________________________________________________________________\n",
            "conv2d_24 (Conv2D)           (None, 15, 15, 128)       73856     \n",
            "_________________________________________________________________\n",
            "max_pooling2d_24 (MaxPooling (None, 7, 7, 128)         0         \n",
            "_________________________________________________________________\n",
            "flatten_9 (Flatten)          (None, 6272)              0         \n",
            "_________________________________________________________________\n",
            "dense_17 (Dense)             (None, 128)               802944    \n",
            "_________________________________________________________________\n",
            "dropout_4 (Dropout)          (None, 128)               0         \n",
            "_________________________________________________________________\n",
            "dense_18 (Dense)             (None, 128)               16512     \n",
            "_________________________________________________________________\n",
            "dropout_5 (Dropout)          (None, 128)               0         \n",
            "_________________________________________________________________\n",
            "dense_19 (Dense)             (None, 4)                 516       \n",
            "=================================================================\n",
            "Total params: 917,412\n",
            "Trainable params: 917,412\n",
            "Non-trainable params: 0\n",
            "_________________________________________________________________\n"
          ],
          "name": "stdout"
        }
      ]
    },
    {
      "cell_type": "code",
      "metadata": {
        "id": "Jv8jikwODWjl",
        "colab_type": "code",
        "outputId": "f76cea73-1eac-44a0-91d6-29dfe9d65f2b",
        "colab": {
          "base_uri": "https://localhost:8080/",
          "height": 407
        }
      },
      "source": [
        "from keras.preprocessing.image import ImageDataGenerator\n",
        "from keras import optimizers \n",
        "\n",
        "train_datagen = ImageDataGenerator(rescale=1./255)\n",
        "test_datagen = ImageDataGenerator(rescale=1./255)\n",
        "\n",
        "train_generator = train_datagen.flow_from_directory(\n",
        "        train_dir,  \n",
        "        target_size=(150, 150),  \n",
        "        batch_size=32,\n",
        "        class_mode='categorical')\n",
        "\n",
        "validation_generator = test_datagen.flow_from_directory(\n",
        "        validation_dir,\n",
        "        target_size=(150, 150),\n",
        "        batch_size=32,\n",
        "        class_mode='categorical')\n",
        "\n",
        "model.compile(loss='categorical_crossentropy',\n",
        "              optimizer= optimizers.RMSprop(lr=0.0001),\n",
        "              metrics=['acc'])\n",
        "\n",
        "model_history = model.fit_generator(\n",
        "      train_generator,\n",
        "      steps_per_epoch=750,  # 24000 images = batch_size * steps\n",
        "      epochs=10,\n",
        "      validation_data=validation_generator,\n",
        "      validation_steps=250,  # 8000 images = batch_size * steps\n",
        "      verbose=2)"
      ],
      "execution_count": 0,
      "outputs": [
        {
          "output_type": "stream",
          "text": [
            "Found 24000 images belonging to 4 classes.\n",
            "Found 8000 images belonging to 4 classes.\n",
            "Epoch 1/10\n",
            " - 148s - loss: 1.1976 - acc: 0.4566 - val_loss: 0.9933 - val_acc: 0.5833\n",
            "Epoch 2/10\n",
            " - 145s - loss: 1.0309 - acc: 0.5680 - val_loss: 0.9318 - val_acc: 0.6135\n",
            "Epoch 3/10\n",
            " - 142s - loss: 0.9499 - acc: 0.6098 - val_loss: 0.8698 - val_acc: 0.6385\n",
            "Epoch 4/10\n",
            " - 144s - loss: 0.9035 - acc: 0.6372 - val_loss: 0.8614 - val_acc: 0.6472\n",
            "Epoch 5/10\n",
            " - 155s - loss: 0.8698 - acc: 0.6508 - val_loss: 0.8212 - val_acc: 0.6650\n",
            "Epoch 6/10\n",
            " - 144s - loss: 0.8422 - acc: 0.6618 - val_loss: 0.8014 - val_acc: 0.6717\n",
            "Epoch 7/10\n",
            " - 144s - loss: 0.8177 - acc: 0.6737 - val_loss: 0.7888 - val_acc: 0.6805\n",
            "Epoch 8/10\n",
            " - 146s - loss: 0.7965 - acc: 0.6860 - val_loss: 0.7767 - val_acc: 0.6826\n",
            "Epoch 9/10\n",
            " - 146s - loss: 0.7790 - acc: 0.6940 - val_loss: 0.7485 - val_acc: 0.6946\n",
            "Epoch 10/10\n",
            " - 143s - loss: 0.7597 - acc: 0.7011 - val_loss: 0.7228 - val_acc: 0.7034\n"
          ],
          "name": "stdout"
        }
      ]
    },
    {
      "cell_type": "code",
      "metadata": {
        "id": "BOoBnRldDYcU",
        "colab_type": "code",
        "outputId": "9a52031c-9b1a-41c2-836c-ab94258df625",
        "colab": {
          "base_uri": "https://localhost:8080/",
          "height": 616
        }
      },
      "source": [
        "train_loss, train_acc = model.evaluate_generator(train_generator, steps=50)\n",
        "print('train_acc:', train_acc)\n",
        "print('train_loss:', train_loss)\n",
        "\n",
        "validation_loss, validation_acc = model.evaluate_generator(validation_generator, steps=50)\n",
        "print('validation_acc:', validation_acc)\n",
        "print('validation_loss:', validation_loss)\n",
        "\n",
        "import matplotlib.pyplot as plt\n",
        "\n",
        "acc = model_history.history['acc']\n",
        "val_acc = model_history.history['val_acc']\n",
        "loss = model_history.history['loss']\n",
        "val_loss = model_history.history['val_loss']\n",
        "\n",
        "epochs = range(1, len(acc) + 1)\n",
        "\n",
        "plt.plot(epochs, acc, 'bo', label='Training acc')\n",
        "plt.plot(epochs, val_acc, 'b', label='Validation acc')\n",
        "plt.title('Training and validation accuracy')\n",
        "plt.legend()\n",
        "\n",
        "plt.figure()\n",
        "\n",
        "# Plot training and validation loss per epoch\n",
        "plt.plot(epochs, loss, 'bo', label='Training loss')\n",
        "plt.plot(epochs, val_loss, 'b', label='Validation loss')\n",
        "plt.title('Training and validation loss')\n",
        "plt.legend()\n",
        "\n",
        "plt.show()"
      ],
      "execution_count": 0,
      "outputs": [
        {
          "output_type": "stream",
          "text": [
            "train_acc: 0.740625\n",
            "train_loss: 0.6647499674558639\n",
            "validation_acc: 0.705625\n",
            "validation_loss: 0.7158958393335343\n"
          ],
          "name": "stdout"
        },
        {
          "output_type": "display_data",
          "data": {
            "image/png": "[encoded data removed]",
            "text/plain": [
              "<Figure size 432x288 with 1 Axes>"
            ]
          },
          "metadata": {
            "tags": []
          }
        },
        {
          "output_type": "display_data",
          "data": {
            "image/png": "[encoded data removed]",
            "text/plain": [
              "<Figure size 432x288 with 1 Axes>"
            ]
          },
          "metadata": {
            "tags": []
          }
        }
      ]
    },
    {
      "cell_type": "code",
      "metadata": {
        "id": "Ziz2YVP0ITeh",
        "colab_type": "code",
        "colab": {}
      },
      "source": [
        "model.save('/content/drive/My Drive/Multi-Class Weather/model4.h5')"
      ],
      "execution_count": 0,
      "outputs": []
    },
    {
      "cell_type": "markdown",
      "metadata": {
        "id": "7OcYI9DsIV0i",
        "colab_type": "text"
      },
      "source": [
        "Model 5 - 16 32 64 128 / 128 Dropout 128 Dropout / 0.0001 / 64\n",
        "Increase batch size"
      ]
    },
    {
      "cell_type": "code",
      "metadata": {
        "id": "TSVA2C-VIalU",
        "colab_type": "code",
        "outputId": "d008646e-92b1-4944-9998-cd9aaa07aaa7",
        "colab": {
          "base_uri": "https://localhost:8080/",
          "height": 656
        }
      },
      "source": [
        "# Model 4\n",
        "from keras import layers\n",
        "from keras import models\n",
        "\n",
        "model = models. Sequential()\n",
        "model.add(layers.Conv2D(16, (3, 3), activation='relu', input_shape=(150, 150, 3)))\n",
        "model.add(layers.MaxPooling2D((2, 2)))\n",
        "model.add(layers.Conv2D(32, (3, 3), activation='relu'))\n",
        "model.add(layers.MaxPooling2D((2, 2)))\n",
        "model.add(layers.Conv2D(64, (3, 3), activation='relu'))\n",
        "model.add(layers.MaxPooling2D((2, 2)))\n",
        "model.add(layers.Conv2D(128, (3, 3), activation='relu'))\n",
        "model.add(layers.MaxPooling2D((2, 2)))\n",
        "model.add(layers.Flatten())\n",
        "model.add(layers.Dense(128, activation='relu'))\n",
        "model.add(layers.Dropout(0.5))\n",
        "model.add(layers.Dense(128, activation='relu'))\n",
        "model.add(layers.Dropout(0.5))\n",
        "model.add(layers.Dense(4, activation='softmax'))\n",
        "\n",
        "model.summary()"
      ],
      "execution_count": 0,
      "outputs": [
        {
          "output_type": "stream",
          "text": [
            "Model: \"sequential_10\"\n",
            "_________________________________________________________________\n",
            "Layer (type)                 Output Shape              Param #   \n",
            "=================================================================\n",
            "conv2d_25 (Conv2D)           (None, 148, 148, 16)      448       \n",
            "_________________________________________________________________\n",
            "max_pooling2d_25 (MaxPooling (None, 74, 74, 16)        0         \n",
            "_________________________________________________________________\n",
            "conv2d_26 (Conv2D)           (None, 72, 72, 32)        4640      \n",
            "_________________________________________________________________\n",
            "max_pooling2d_26 (MaxPooling (None, 36, 36, 32)        0         \n",
            "_________________________________________________________________\n",
            "conv2d_27 (Conv2D)           (None, 34, 34, 64)        18496     \n",
            "_________________________________________________________________\n",
            "max_pooling2d_27 (MaxPooling (None, 17, 17, 64)        0         \n",
            "_________________________________________________________________\n",
            "conv2d_28 (Conv2D)           (None, 15, 15, 128)       73856     \n",
            "_________________________________________________________________\n",
            "max_pooling2d_28 (MaxPooling (None, 7, 7, 128)         0         \n",
            "_________________________________________________________________\n",
            "flatten_10 (Flatten)         (None, 6272)              0         \n",
            "_________________________________________________________________\n",
            "dense_20 (Dense)             (None, 128)               802944    \n",
            "_________________________________________________________________\n",
            "dropout_6 (Dropout)          (None, 128)               0         \n",
            "_________________________________________________________________\n",
            "dense_21 (Dense)             (None, 128)               16512     \n",
            "_________________________________________________________________\n",
            "dropout_7 (Dropout)          (None, 128)               0         \n",
            "_________________________________________________________________\n",
            "dense_22 (Dense)             (None, 4)                 516       \n",
            "=================================================================\n",
            "Total params: 917,412\n",
            "Trainable params: 917,412\n",
            "Non-trainable params: 0\n",
            "_________________________________________________________________\n"
          ],
          "name": "stdout"
        }
      ]
    },
    {
      "cell_type": "code",
      "metadata": {
        "id": "UG93ytnQIdMQ",
        "colab_type": "code",
        "outputId": "69b57aa9-91a2-4b55-f730-e50ba916c988",
        "colab": {
          "base_uri": "https://localhost:8080/",
          "height": 407
        }
      },
      "source": [
        "from keras.preprocessing.image import ImageDataGenerator\n",
        "from keras import optimizers \n",
        "\n",
        "train_datagen = ImageDataGenerator(rescale=1./255)\n",
        "test_datagen = ImageDataGenerator(rescale=1./255)\n",
        "\n",
        "train_generator = train_datagen.flow_from_directory(\n",
        "        train_dir,  \n",
        "        target_size=(150, 150),  \n",
        "        batch_size=64,\n",
        "        class_mode='categorical')\n",
        "\n",
        "validation_generator = test_datagen.flow_from_directory(\n",
        "        validation_dir,\n",
        "        target_size=(150, 150),\n",
        "        batch_size=64,\n",
        "        class_mode='categorical')\n",
        "\n",
        "model.compile(loss='categorical_crossentropy',\n",
        "              optimizer= optimizers.RMSprop(lr=0.0001),\n",
        "              metrics=['acc'])\n",
        "\n",
        "model_history = model.fit_generator(\n",
        "      train_generator,\n",
        "      steps_per_epoch=375,  # 24000 images = batch_size * steps\n",
        "      epochs=10,\n",
        "      validation_data=validation_generator,\n",
        "      validation_steps=125,  # 8000 images = batch_size * steps\n",
        "      verbose=2)"
      ],
      "execution_count": 0,
      "outputs": [
        {
          "output_type": "stream",
          "text": [
            "Found 24000 images belonging to 4 classes.\n",
            "Found 8000 images belonging to 4 classes.\n",
            "Epoch 1/10\n",
            " - 156s - loss: 1.2728 - acc: 0.3896 - val_loss: 1.1131 - val_acc: 0.5252\n",
            "Epoch 2/10\n",
            " - 164s - loss: 1.1075 - acc: 0.5202 - val_loss: 1.0129 - val_acc: 0.5740\n",
            "Epoch 3/10\n",
            " - 139s - loss: 1.0303 - acc: 0.5647 - val_loss: 0.9462 - val_acc: 0.6040\n",
            "Epoch 4/10\n",
            " - 139s - loss: 0.9839 - acc: 0.5894 - val_loss: 0.9172 - val_acc: 0.6154\n",
            "Epoch 5/10\n",
            " - 139s - loss: 0.9461 - acc: 0.6091 - val_loss: 0.8760 - val_acc: 0.6330\n",
            "Epoch 6/10\n",
            " - 139s - loss: 0.9139 - acc: 0.6315 - val_loss: 0.8564 - val_acc: 0.6439\n",
            "Epoch 7/10\n",
            " - 137s - loss: 0.8978 - acc: 0.6420 - val_loss: 0.8456 - val_acc: 0.6498\n",
            "Epoch 8/10\n",
            " - 142s - loss: 0.8717 - acc: 0.6477 - val_loss: 0.8076 - val_acc: 0.6676\n",
            "Epoch 9/10\n",
            " - 142s - loss: 0.8502 - acc: 0.6609 - val_loss: 0.8281 - val_acc: 0.6615\n",
            "Epoch 10/10\n",
            " - 139s - loss: 0.8325 - acc: 0.6674 - val_loss: 0.7905 - val_acc: 0.6764\n"
          ],
          "name": "stdout"
        }
      ]
    },
    {
      "cell_type": "code",
      "metadata": {
        "id": "e0H2CZQ5IdRt",
        "colab_type": "code",
        "outputId": "777f300e-32d5-4a49-b6da-fa910a75ceef",
        "colab": {
          "base_uri": "https://localhost:8080/",
          "height": 616
        }
      },
      "source": [
        "train_loss, train_acc = model.evaluate_generator(train_generator, steps=50)\n",
        "print('train_acc:', train_acc)\n",
        "print('train_loss:', train_loss)\n",
        "\n",
        "validation_loss, validation_acc = model.evaluate_generator(validation_generator, steps=50)\n",
        "print('validation_acc:', validation_acc)\n",
        "print('validation_loss:', validation_loss)\n",
        "\n",
        "import matplotlib.pyplot as plt\n",
        "\n",
        "acc = model_history.history['acc']\n",
        "val_acc = model_history.history['val_acc']\n",
        "loss = model_history.history['loss']\n",
        "val_loss = model_history.history['val_loss']\n",
        "\n",
        "epochs = range(1, len(acc) + 1)\n",
        "\n",
        "plt.plot(epochs, acc, 'bo', label='Training acc')\n",
        "plt.plot(epochs, val_acc, 'b', label='Validation acc')\n",
        "plt.title('Training and validation accuracy')\n",
        "plt.legend()\n",
        "\n",
        "plt.figure()\n",
        "\n",
        "# Plot training and validation loss per epoch\n",
        "plt.plot(epochs, loss, 'bo', label='Training loss')\n",
        "plt.plot(epochs, val_loss, 'b', label='Validation loss')\n",
        "plt.title('Training and validation loss')\n",
        "plt.legend()\n",
        "\n",
        "plt.show()"
      ],
      "execution_count": 0,
      "outputs": [
        {
          "output_type": "stream",
          "text": [
            "train_acc: 0.6934375\n",
            "train_loss: 0.7651762616634369\n",
            "validation_acc: 0.6765625\n",
            "validation_loss: 0.786713740825653\n"
          ],
          "name": "stdout"
        },
        {
          "output_type": "display_data",
          "data": {
            "image/png": "[encoded data removed]",
            "text/plain": [
              "<Figure size 432x288 with 1 Axes>"
            ]
          },
          "metadata": {
            "tags": []
          }
        },
        {
          "output_type": "display_data",
          "data": {
            "image/png": "[encoded data removed]",
            "text/plain": [
              "<Figure size 432x288 with 1 Axes>"
            ]
          },
          "metadata": {
            "tags": []
          }
        }
      ]
    },
    {
      "cell_type": "code",
      "metadata": {
        "id": "eb5scgf3If2p",
        "colab_type": "code",
        "colab": {}
      },
      "source": [
        "model.save('/content/drive/My Drive/Multi-Class Weather/model5.h5')"
      ],
      "execution_count": 0,
      "outputs": []
    },
    {
      "cell_type": "markdown",
      "metadata": {
        "id": "oCVudMtEdB-e",
        "colab_type": "text"
      },
      "source": [
        "Model 6 - 32 64 128 256 / 256 Dropout 256 Dropout / 0.0001 "
      ]
    },
    {
      "cell_type": "code",
      "metadata": {
        "id": "fN6NX5UeccMp",
        "colab_type": "code",
        "outputId": "4dc02b93-0d59-408e-f30c-3a89f756432b",
        "colab": {
          "base_uri": "https://localhost:8080/",
          "height": 656
        }
      },
      "source": [
        "# Model 5\n",
        "from keras import layers\n",
        "from keras import models\n",
        "\n",
        "model = models. Sequential()\n",
        "model.add(layers.Conv2D(32, (3, 3), activation='relu', input_shape=(150, 150, 3)))\n",
        "model.add(layers.MaxPooling2D((2, 2)))\n",
        "model.add(layers.Conv2D(64, (3, 3), activation='relu'))\n",
        "model.add(layers.MaxPooling2D((2, 2)))\n",
        "model.add(layers.Conv2D(128, (3, 3), activation='relu'))\n",
        "model.add(layers.MaxPooling2D((2, 2)))\n",
        "model.add(layers.Conv2D(256, (3, 3), activation='relu'))\n",
        "model.add(layers.MaxPooling2D((2, 2)))\n",
        "model.add(layers.Flatten())\n",
        "model.add(layers.Dense(256, activation='relu'))\n",
        "model.add(layers.Dropout(0.5))\n",
        "model.add(layers.Dense(256, activation='relu'))\n",
        "model.add(layers.Dropout(0.5))\n",
        "model.add(layers.Dense(4, activation='softmax'))\n",
        "\n",
        "model.summary()"
      ],
      "execution_count": 0,
      "outputs": [
        {
          "output_type": "stream",
          "text": [
            "Model: \"sequential_11\"\n",
            "_________________________________________________________________\n",
            "Layer (type)                 Output Shape              Param #   \n",
            "=================================================================\n",
            "conv2d_29 (Conv2D)           (None, 148, 148, 32)      896       \n",
            "_________________________________________________________________\n",
            "max_pooling2d_29 (MaxPooling (None, 74, 74, 32)        0         \n",
            "_________________________________________________________________\n",
            "conv2d_30 (Conv2D)           (None, 72, 72, 64)        18496     \n",
            "_________________________________________________________________\n",
            "max_pooling2d_30 (MaxPooling (None, 36, 36, 64)        0         \n",
            "_________________________________________________________________\n",
            "conv2d_31 (Conv2D)           (None, 34, 34, 128)       73856     \n",
            "_________________________________________________________________\n",
            "max_pooling2d_31 (MaxPooling (None, 17, 17, 128)       0         \n",
            "_________________________________________________________________\n",
            "conv2d_32 (Conv2D)           (None, 15, 15, 256)       295168    \n",
            "_________________________________________________________________\n",
            "max_pooling2d_32 (MaxPooling (None, 7, 7, 256)         0         \n",
            "_________________________________________________________________\n",
            "flatten_11 (Flatten)         (None, 12544)             0         \n",
            "_________________________________________________________________\n",
            "dense_23 (Dense)             (None, 256)               3211520   \n",
            "_________________________________________________________________\n",
            "dropout_8 (Dropout)          (None, 256)               0         \n",
            "_________________________________________________________________\n",
            "dense_24 (Dense)             (None, 256)               65792     \n",
            "_________________________________________________________________\n",
            "dropout_9 (Dropout)          (None, 256)               0         \n",
            "_________________________________________________________________\n",
            "dense_25 (Dense)             (None, 4)                 1028      \n",
            "=================================================================\n",
            "Total params: 3,666,756\n",
            "Trainable params: 3,666,756\n",
            "Non-trainable params: 0\n",
            "_________________________________________________________________\n"
          ],
          "name": "stdout"
        }
      ]
    },
    {
      "cell_type": "code",
      "metadata": {
        "id": "mz5DI0yzclM9",
        "colab_type": "code",
        "outputId": "45ace324-01e5-4d02-861c-af3e11f9ba78",
        "colab": {
          "base_uri": "https://localhost:8080/",
          "height": 407
        }
      },
      "source": [
        "from keras.preprocessing.image import ImageDataGenerator\n",
        "from keras import optimizers \n",
        "\n",
        "train_datagen = ImageDataGenerator(rescale=1./255)\n",
        "test_datagen = ImageDataGenerator(rescale=1./255)\n",
        "\n",
        "train_generator = train_datagen.flow_from_directory(\n",
        "        train_dir,  \n",
        "        target_size=(150, 150),  \n",
        "        batch_size=32,\n",
        "        class_mode='categorical')\n",
        "\n",
        "validation_generator = test_datagen.flow_from_directory(\n",
        "        validation_dir,\n",
        "        target_size=(150, 150),\n",
        "        batch_size=32,\n",
        "        class_mode='categorical')\n",
        "\n",
        "model.compile(loss='categorical_crossentropy',\n",
        "              optimizer= optimizers.RMSprop(lr=0.0001),\n",
        "              metrics=['acc'])\n",
        "\n",
        "model_history = model.fit_generator(\n",
        "      train_generator,\n",
        "      steps_per_epoch=750,  # 24000 images = batch_size * steps\n",
        "      epochs=10,\n",
        "      validation_data=validation_generator,\n",
        "      validation_steps=250,  # 8000 images = batch_size * steps\n",
        "      verbose=2)"
      ],
      "execution_count": 0,
      "outputs": [
        {
          "output_type": "stream",
          "text": [
            "Found 24000 images belonging to 4 classes.\n",
            "Found 8000 images belonging to 4 classes.\n",
            "Epoch 1/10\n",
            " - 155s - loss: 1.1390 - acc: 0.4899 - val_loss: 0.9237 - val_acc: 0.6095\n",
            "Epoch 2/10\n",
            " - 152s - loss: 0.9404 - acc: 0.6143 - val_loss: 0.8451 - val_acc: 0.6556\n",
            "Epoch 3/10\n",
            " - 152s - loss: 0.8708 - acc: 0.6491 - val_loss: 0.7951 - val_acc: 0.6737\n",
            "Epoch 4/10\n",
            " - 152s - loss: 0.8191 - acc: 0.6712 - val_loss: 0.8063 - val_acc: 0.6779\n",
            "Epoch 5/10\n",
            " - 152s - loss: 0.7804 - acc: 0.6908 - val_loss: 0.7575 - val_acc: 0.6956\n",
            "Epoch 6/10\n",
            " - 152s - loss: 0.7502 - acc: 0.7034 - val_loss: 0.7406 - val_acc: 0.6935\n",
            "Epoch 7/10\n",
            " - 155s - loss: 0.7212 - acc: 0.7185 - val_loss: 0.7326 - val_acc: 0.7045\n",
            "Epoch 8/10\n",
            " - 153s - loss: 0.6947 - acc: 0.7254 - val_loss: 0.7105 - val_acc: 0.7153\n",
            "Epoch 9/10\n",
            " - 154s - loss: 0.6711 - acc: 0.7383 - val_loss: 0.7010 - val_acc: 0.7179\n",
            "Epoch 10/10\n",
            " - 154s - loss: 0.6518 - acc: 0.7481 - val_loss: 0.7082 - val_acc: 0.7256\n"
          ],
          "name": "stdout"
        }
      ]
    },
    {
      "cell_type": "code",
      "metadata": {
        "id": "ERw9liXAc0rb",
        "colab_type": "code",
        "outputId": "29d71fcc-8a32-4682-f3b4-7a6335f1e448",
        "colab": {
          "base_uri": "https://localhost:8080/",
          "height": 616
        }
      },
      "source": [
        "train_loss, train_acc = model.evaluate_generator(train_generator, steps=50)\n",
        "print('train_acc:', train_acc)\n",
        "print('train_loss:', train_loss)\n",
        "\n",
        "validation_loss, validation_acc = model.evaluate_generator(validation_generator, steps=50)\n",
        "print('validation_acc:', validation_acc)\n",
        "print('validation_loss:', validation_loss)\n",
        "\n",
        "import matplotlib.pyplot as plt\n",
        "\n",
        "acc = model_history.history['acc']\n",
        "val_acc = model_history.history['val_acc']\n",
        "loss = model_history.history['loss']\n",
        "val_loss = model_history.history['val_loss']\n",
        "\n",
        "epochs = range(1, len(acc) + 1)\n",
        "\n",
        "plt.plot(epochs, acc, 'bo', label='Training acc')\n",
        "plt.plot(epochs, val_acc, 'b', label='Validation acc')\n",
        "plt.title('Training and validation accuracy')\n",
        "plt.legend()\n",
        "\n",
        "plt.figure()\n",
        "\n",
        "# Plot training and validation loss per epoch\n",
        "plt.plot(epochs, loss, 'bo', label='Training loss')\n",
        "plt.plot(epochs, val_loss, 'b', label='Validation loss')\n",
        "plt.title('Training and validation loss')\n",
        "plt.legend()\n",
        "\n",
        "plt.show()"
      ],
      "execution_count": 0,
      "outputs": [
        {
          "output_type": "stream",
          "text": [
            "train_acc: 0.76875\n",
            "train_loss: 0.5814917516708374\n",
            "validation_acc: 0.73125\n",
            "validation_loss: 0.7046154272556305\n"
          ],
          "name": "stdout"
        },
        {
          "output_type": "display_data",
          "data": {
            "image/png": "[encoded data removed]",
            "text/plain": [
              "<Figure size 432x288 with 1 Axes>"
            ]
          },
          "metadata": {
            "tags": []
          }
        },
        {
          "output_type": "display_data",
          "data": {
            "image/png": "[encoded data removed]",
            "text/plain": [
              "<Figure size 432x288 with 1 Axes>"
            ]
          },
          "metadata": {
            "tags": []
          }
        }
      ]
    },
    {
      "cell_type": "code",
      "metadata": {
        "id": "Qv5sukRIc6iV",
        "colab_type": "code",
        "colab": {}
      },
      "source": [
        "model.save('/content/drive/My Drive/Multi-Class Weather/model6.h5')"
      ],
      "execution_count": 0,
      "outputs": []
    },
    {
      "cell_type": "markdown",
      "metadata": {
        "id": "nFVHUo9ZwFor",
        "colab_type": "text"
      },
      "source": [
        "Model 7 - 32 64 128 256 / 256 Dropout 256 Dropout / 0.0001 20 epoch"
      ]
    },
    {
      "cell_type": "code",
      "metadata": {
        "id": "z7f1rRUqfpny",
        "colab_type": "code",
        "outputId": "d0328406-13a6-4992-8852-3327ba421333",
        "colab": {
          "base_uri": "https://localhost:8080/",
          "height": 763
        }
      },
      "source": [
        "from keras.preprocessing.image import ImageDataGenerator\n",
        "from keras import optimizers \n",
        "\n",
        "train_datagen = ImageDataGenerator(rescale=1./255)\n",
        "test_datagen = ImageDataGenerator(rescale=1./255)\n",
        "\n",
        "train_generator = train_datagen.flow_from_directory(\n",
        "        train_dir,  \n",
        "        target_size=(150, 150),  \n",
        "        batch_size=32,\n",
        "        class_mode='categorical')\n",
        "\n",
        "validation_generator = test_datagen.flow_from_directory(\n",
        "        validation_dir,\n",
        "        target_size=(150, 150),\n",
        "        batch_size=32,\n",
        "        class_mode='categorical')\n",
        "\n",
        "model.compile(loss='categorical_crossentropy',\n",
        "              optimizer= optimizers.RMSprop(lr=0.0001),\n",
        "              metrics=['acc'])\n",
        "\n",
        "model_history = model.fit_generator(\n",
        "      train_generator,\n",
        "      steps_per_epoch=750,  # 24000 images = batch_size * steps\n",
        "      epochs=20,\n",
        "      validation_data=validation_generator,\n",
        "      validation_steps=250,  # 8000 images = batch_size * steps\n",
        "      verbose=2)"
      ],
      "execution_count": 0,
      "outputs": [
        {
          "output_type": "stream",
          "text": [
            "Found 24000 images belonging to 4 classes.\n",
            "Found 8000 images belonging to 4 classes.\n",
            "Epoch 1/20\n",
            " - 170s - loss: 0.6341 - acc: 0.7535 - val_loss: 0.7822 - val_acc: 0.7145\n",
            "Epoch 2/20\n",
            " - 173s - loss: 0.6161 - acc: 0.7646 - val_loss: 0.7219 - val_acc: 0.7348\n",
            "Epoch 3/20\n",
            " - 174s - loss: 0.5982 - acc: 0.7733 - val_loss: 0.7238 - val_acc: 0.7319\n",
            "Epoch 4/20\n",
            " - 164s - loss: 0.5903 - acc: 0.7762 - val_loss: 0.7433 - val_acc: 0.7285\n",
            "Epoch 5/20\n",
            " - 151s - loss: 0.5735 - acc: 0.7827 - val_loss: 0.6621 - val_acc: 0.7431\n",
            "Epoch 6/20\n",
            " - 152s - loss: 0.5611 - acc: 0.7870 - val_loss: 0.7857 - val_acc: 0.7185\n",
            "Epoch 7/20\n",
            " - 150s - loss: 0.5495 - acc: 0.7939 - val_loss: 0.7266 - val_acc: 0.7124\n",
            "Epoch 8/20\n",
            " - 151s - loss: 0.5371 - acc: 0.7982 - val_loss: 0.7440 - val_acc: 0.7276\n",
            "Epoch 9/20\n",
            " - 151s - loss: 0.5277 - acc: 0.8045 - val_loss: 0.7166 - val_acc: 0.7376\n",
            "Epoch 10/20\n",
            " - 152s - loss: 0.5158 - acc: 0.8100 - val_loss: 0.7007 - val_acc: 0.7509\n",
            "Epoch 11/20\n",
            " - 151s - loss: 0.5043 - acc: 0.8128 - val_loss: 0.8340 - val_acc: 0.7219\n",
            "Epoch 12/20\n",
            " - 151s - loss: 0.5003 - acc: 0.8153 - val_loss: 0.7023 - val_acc: 0.7415\n",
            "Epoch 13/20\n",
            " - 153s - loss: 0.4902 - acc: 0.8183 - val_loss: 0.8043 - val_acc: 0.7254\n",
            "Epoch 14/20\n",
            " - 154s - loss: 0.4819 - acc: 0.8230 - val_loss: 0.7107 - val_acc: 0.7359\n",
            "Epoch 15/20\n",
            " - 153s - loss: 0.4740 - acc: 0.8265 - val_loss: 0.8995 - val_acc: 0.7036\n",
            "Epoch 16/20\n",
            " - 150s - loss: 0.4664 - acc: 0.8273 - val_loss: 0.7327 - val_acc: 0.7454\n",
            "Epoch 17/20\n",
            " - 154s - loss: 0.4611 - acc: 0.8315 - val_loss: 0.8391 - val_acc: 0.7368\n",
            "Epoch 18/20\n",
            " - 154s - loss: 0.4579 - acc: 0.8352 - val_loss: 0.7639 - val_acc: 0.7411\n",
            "Epoch 19/20\n",
            " - 160s - loss: 0.4578 - acc: 0.8353 - val_loss: 0.8186 - val_acc: 0.7073\n",
            "Epoch 20/20\n",
            " - 168s - loss: 0.4543 - acc: 0.8366 - val_loss: 0.7815 - val_acc: 0.7395\n"
          ],
          "name": "stdout"
        }
      ]
    },
    {
      "cell_type": "code",
      "metadata": {
        "id": "PgWD-Zpmv2kh",
        "colab_type": "code",
        "outputId": "990c9b75-84f1-4e34-fd15-a11f95190c29",
        "colab": {
          "base_uri": "https://localhost:8080/",
          "height": 616
        }
      },
      "source": [
        "train_loss, train_acc = model.evaluate_generator(train_generator, steps=50)\n",
        "print('train_acc:', train_acc)\n",
        "print('train_loss:', train_loss)\n",
        "\n",
        "validation_loss, validation_acc = model.evaluate_generator(validation_generator, steps=50)\n",
        "print('validation_acc:', validation_acc)\n",
        "print('validation_loss:', validation_loss)\n",
        "\n",
        "import matplotlib.pyplot as plt\n",
        "\n",
        "acc = model_history.history['acc']\n",
        "val_acc = model_history.history['val_acc']\n",
        "loss = model_history.history['loss']\n",
        "val_loss = model_history.history['val_loss']\n",
        "\n",
        "epochs = range(1, len(acc) + 1)\n",
        "\n",
        "plt.plot(epochs, acc, 'bo', label='Training acc')\n",
        "plt.plot(epochs, val_acc, 'b', label='Validation acc')\n",
        "plt.title('Training and validation accuracy')\n",
        "plt.legend()\n",
        "\n",
        "plt.figure()\n",
        "\n",
        "# Plot training and validation loss per epoch\n",
        "plt.plot(epochs, loss, 'bo', label='Training loss')\n",
        "plt.plot(epochs, val_loss, 'b', label='Validation loss')\n",
        "plt.title('Training and validation loss')\n",
        "plt.legend()\n",
        "\n",
        "plt.show()"
      ],
      "execution_count": 0,
      "outputs": [
        {
          "output_type": "stream",
          "text": [
            "train_acc: 0.8725\n",
            "train_loss: 0.33625185444951056\n",
            "validation_acc: 0.7425\n",
            "validation_loss: 0.777758896946907\n"
          ],
          "name": "stdout"
        },
        {
          "output_type": "display_data",
          "data": {
            "image/png": "[encoded data removed]",
            "text/plain": [
              "<Figure size 432x288 with 1 Axes>"
            ]
          },
          "metadata": {
            "tags": []
          }
        },
        {
          "output_type": "display_data",
          "data": {
            "image/png": "[encoded data removed]",
            "text/plain": [
              "<Figure size 432x288 with 1 Axes>"
            ]
          },
          "metadata": {
            "tags": []
          }
        }
      ]
    },
    {
      "cell_type": "code",
      "metadata": {
        "id": "peqBV9Ojv7D9",
        "colab_type": "code",
        "colab": {}
      },
      "source": [
        "model.save('/content/drive/My Drive/Multi-Class Weather/model7.h5')"
      ],
      "execution_count": 0,
      "outputs": []
    },
    {
      "cell_type": "markdown",
      "metadata": {
        "id": "17FYGkv976Rq",
        "colab_type": "text"
      },
      "source": [
        "Model 8 - 16 32 64 128 / 256 Dropout 256 Dropout / 0.0001 "
      ]
    },
    {
      "cell_type": "code",
      "metadata": {
        "id": "zxJOczVIwDh7",
        "colab_type": "code",
        "outputId": "206e59e5-671a-475f-b711-b3ddfae979c8",
        "colab": {
          "base_uri": "https://localhost:8080/",
          "height": 656
        }
      },
      "source": [
        "# Model 8\n",
        "from keras import layers\n",
        "from keras import models\n",
        "\n",
        "model = models. Sequential()\n",
        "model.add(layers.Conv2D(16, (3, 3), activation='relu', input_shape=(150, 150, 3)))\n",
        "model.add(layers.MaxPooling2D((2, 2)))\n",
        "model.add(layers.Conv2D(32, (3, 3), activation='relu'))\n",
        "model.add(layers.MaxPooling2D((2, 2)))\n",
        "model.add(layers.Conv2D(64, (3, 3), activation='relu'))\n",
        "model.add(layers.MaxPooling2D((2, 2)))\n",
        "model.add(layers.Conv2D(128, (3, 3), activation='relu'))\n",
        "model.add(layers.MaxPooling2D((2, 2)))\n",
        "model.add(layers.Flatten())\n",
        "model.add(layers.Dense(256, activation='relu'))\n",
        "model.add(layers.Dropout(0.5))\n",
        "model.add(layers.Dense(256, activation='relu'))\n",
        "model.add(layers.Dropout(0.5))\n",
        "model.add(layers.Dense(4, activation='softmax'))\n",
        "\n",
        "model.summary()"
      ],
      "execution_count": 0,
      "outputs": [
        {
          "output_type": "stream",
          "text": [
            "Model: \"sequential_12\"\n",
            "_________________________________________________________________\n",
            "Layer (type)                 Output Shape              Param #   \n",
            "=================================================================\n",
            "conv2d_33 (Conv2D)           (None, 148, 148, 16)      448       \n",
            "_________________________________________________________________\n",
            "max_pooling2d_33 (MaxPooling (None, 74, 74, 16)        0         \n",
            "_________________________________________________________________\n",
            "conv2d_34 (Conv2D)           (None, 72, 72, 32)        4640      \n",
            "_________________________________________________________________\n",
            "max_pooling2d_34 (MaxPooling (None, 36, 36, 32)        0         \n",
            "_________________________________________________________________\n",
            "conv2d_35 (Conv2D)           (None, 34, 34, 64)        18496     \n",
            "_________________________________________________________________\n",
            "max_pooling2d_35 (MaxPooling (None, 17, 17, 64)        0         \n",
            "_________________________________________________________________\n",
            "conv2d_36 (Conv2D)           (None, 15, 15, 128)       73856     \n",
            "_________________________________________________________________\n",
            "max_pooling2d_36 (MaxPooling (None, 7, 7, 128)         0         \n",
            "_________________________________________________________________\n",
            "flatten_12 (Flatten)         (None, 6272)              0         \n",
            "_________________________________________________________________\n",
            "dense_26 (Dense)             (None, 256)               1605888   \n",
            "_________________________________________________________________\n",
            "dropout_10 (Dropout)         (None, 256)               0         \n",
            "_________________________________________________________________\n",
            "dense_27 (Dense)             (None, 256)               65792     \n",
            "_________________________________________________________________\n",
            "dropout_11 (Dropout)         (None, 256)               0         \n",
            "_________________________________________________________________\n",
            "dense_28 (Dense)             (None, 4)                 1028      \n",
            "=================================================================\n",
            "Total params: 1,770,148\n",
            "Trainable params: 1,770,148\n",
            "Non-trainable params: 0\n",
            "_________________________________________________________________\n"
          ],
          "name": "stdout"
        }
      ]
    },
    {
      "cell_type": "code",
      "metadata": {
        "id": "6ya3J872zvVH",
        "colab_type": "code",
        "outputId": "4bbc9dab-d310-497d-fc7c-f76beb8333f9",
        "colab": {
          "base_uri": "https://localhost:8080/",
          "height": 407
        }
      },
      "source": [
        "from keras.preprocessing.image import ImageDataGenerator\n",
        "from keras import optimizers \n",
        "\n",
        "train_datagen = ImageDataGenerator(rescale=1./255)\n",
        "test_datagen = ImageDataGenerator(rescale=1./255)\n",
        "\n",
        "train_generator = train_datagen.flow_from_directory(\n",
        "        train_dir,  \n",
        "        target_size=(150, 150),  \n",
        "        batch_size=32,\n",
        "        class_mode='categorical')\n",
        "\n",
        "validation_generator = test_datagen.flow_from_directory(\n",
        "        validation_dir,\n",
        "        target_size=(150, 150),\n",
        "        batch_size=32,\n",
        "        class_mode='categorical')\n",
        "\n",
        "model.compile(loss='categorical_crossentropy',\n",
        "              optimizer= optimizers.RMSprop(lr=0.0001),\n",
        "              metrics=['acc'])\n",
        "\n",
        "model_history = model.fit_generator(\n",
        "      train_generator,\n",
        "      steps_per_epoch=750,  # 24000 images = batch_size * steps\n",
        "      epochs=10,\n",
        "      validation_data=validation_generator,\n",
        "      validation_steps=250,  # 8000 images = batch_size * steps\n",
        "      verbose=2)"
      ],
      "execution_count": 0,
      "outputs": [
        {
          "output_type": "stream",
          "text": [
            "Found 24000 images belonging to 4 classes.\n",
            "Found 8000 images belonging to 4 classes.\n",
            "Epoch 1/10\n",
            " - 147s - loss: 1.1570 - acc: 0.4791 - val_loss: 1.0833 - val_acc: 0.5292\n",
            "Epoch 2/10\n",
            " - 144s - loss: 0.9837 - acc: 0.5854 - val_loss: 0.8916 - val_acc: 0.6295\n",
            "Epoch 3/10\n",
            " - 143s - loss: 0.9069 - acc: 0.6272 - val_loss: 0.9027 - val_acc: 0.6295\n",
            "Epoch 4/10\n",
            " - 145s - loss: 0.8687 - acc: 0.6490 - val_loss: 0.8179 - val_acc: 0.6634\n",
            "Epoch 5/10\n",
            " - 146s - loss: 0.8371 - acc: 0.6597 - val_loss: 0.7940 - val_acc: 0.6721\n",
            "Epoch 6/10\n",
            " - 147s - loss: 0.8131 - acc: 0.6757 - val_loss: 0.8417 - val_acc: 0.6593\n",
            "Epoch 7/10\n",
            " - 146s - loss: 0.7871 - acc: 0.6849 - val_loss: 0.9109 - val_acc: 0.6452\n",
            "Epoch 8/10\n",
            " - 144s - loss: 0.7652 - acc: 0.6970 - val_loss: 0.7536 - val_acc: 0.6925\n",
            "Epoch 9/10\n",
            " - 143s - loss: 0.7396 - acc: 0.7057 - val_loss: 0.7359 - val_acc: 0.6995\n",
            "Epoch 10/10\n",
            " - 146s - loss: 0.7205 - acc: 0.7151 - val_loss: 0.7859 - val_acc: 0.6785\n"
          ],
          "name": "stdout"
        }
      ]
    },
    {
      "cell_type": "code",
      "metadata": {
        "id": "-aEOTXWRzz9h",
        "colab_type": "code",
        "outputId": "95d8a57a-1fa2-47e7-e7f1-ce14febda018",
        "colab": {
          "base_uri": "https://localhost:8080/",
          "height": 616
        }
      },
      "source": [
        "train_loss, train_acc = model.evaluate_generator(train_generator, steps=50)\n",
        "print('train_acc:', train_acc)\n",
        "print('train_loss:', train_loss)\n",
        "\n",
        "validation_loss, validation_acc = model.evaluate_generator(validation_generator, steps=50)\n",
        "print('validation_acc:', validation_acc)\n",
        "print('validation_loss:', validation_loss)\n",
        "\n",
        "import matplotlib.pyplot as plt\n",
        "\n",
        "acc = model_history.history['acc']\n",
        "val_acc = model_history.history['val_acc']\n",
        "loss = model_history.history['loss']\n",
        "val_loss = model_history.history['val_loss']\n",
        "\n",
        "epochs = range(1, len(acc) + 1)\n",
        "\n",
        "plt.plot(epochs, acc, 'bo', label='Training acc')\n",
        "plt.plot(epochs, val_acc, 'b', label='Validation acc')\n",
        "plt.title('Training and validation accuracy')\n",
        "plt.legend()\n",
        "\n",
        "plt.figure()\n",
        "\n",
        "# Plot training and validation loss per epoch\n",
        "plt.plot(epochs, loss, 'bo', label='Training loss')\n",
        "plt.plot(epochs, val_loss, 'b', label='Validation loss')\n",
        "plt.title('Training and validation loss')\n",
        "plt.legend()\n",
        "\n",
        "plt.show()"
      ],
      "execution_count": 0,
      "outputs": [
        {
          "output_type": "stream",
          "text": [
            "train_acc: 0.7225\n",
            "train_loss: 0.7026557719707489\n",
            "validation_acc: 0.680625\n",
            "validation_loss: 0.792124034166336\n"
          ],
          "name": "stdout"
        },
        {
          "output_type": "display_data",
          "data": {
            "image/png": "[encoded data removed]",
            "text/plain": [
              "<Figure size 432x288 with 1 Axes>"
            ]
          },
          "metadata": {
            "tags": []
          }
        },
        {
          "output_type": "display_data",
          "data": {
            "image/png": "[encoded data removed]",
            "text/plain": [
              "<Figure size 432x288 with 1 Axes>"
            ]
          },
          "metadata": {
            "tags": []
          }
        }
      ]
    },
    {
      "cell_type": "code",
      "metadata": {
        "id": "uId5C689z1WX",
        "colab_type": "code",
        "colab": {}
      },
      "source": [
        "model.save('/content/drive/My Drive/Multi-Class Weather/model8.h5')"
      ],
      "execution_count": 0,
      "outputs": []
    },
    {
      "cell_type": "markdown",
      "metadata": {
        "id": "j7RR-dCL8Gc2",
        "colab_type": "text"
      },
      "source": [
        "Model 9 - 32 64 128 256 / 512 Dropout 512 Dropout / 0.0001 "
      ]
    },
    {
      "cell_type": "code",
      "metadata": {
        "id": "oib5AJFq4MI3",
        "colab_type": "code",
        "outputId": "4d14f215-a01b-487e-ff34-145681072f1e",
        "colab": {
          "base_uri": "https://localhost:8080/",
          "height": 656
        }
      },
      "source": [
        "# Model 9\n",
        "from keras import layers\n",
        "from keras import models\n",
        "\n",
        "model = models. Sequential()\n",
        "model.add(layers.Conv2D(32, (3, 3), activation='relu', input_shape=(150, 150, 3)))\n",
        "model.add(layers.MaxPooling2D((2, 2)))\n",
        "model.add(layers.Conv2D(64, (3, 3), activation='relu'))\n",
        "model.add(layers.MaxPooling2D((2, 2)))\n",
        "model.add(layers.Conv2D(128, (3, 3), activation='relu'))\n",
        "model.add(layers.MaxPooling2D((2, 2)))\n",
        "model.add(layers.Conv2D(256, (3, 3), activation='relu'))\n",
        "model.add(layers.MaxPooling2D((2, 2)))\n",
        "model.add(layers.Flatten())\n",
        "model.add(layers.Dense(512, activation='relu'))\n",
        "model.add(layers.Dropout(0.5))\n",
        "model.add(layers.Dense(512, activation='relu'))\n",
        "model.add(layers.Dropout(0.5))\n",
        "model.add(layers.Dense(4, activation='softmax'))\n",
        "\n",
        "model.summary()"
      ],
      "execution_count": 0,
      "outputs": [
        {
          "output_type": "stream",
          "text": [
            "Model: \"sequential_13\"\n",
            "_________________________________________________________________\n",
            "Layer (type)                 Output Shape              Param #   \n",
            "=================================================================\n",
            "conv2d_37 (Conv2D)           (None, 148, 148, 32)      896       \n",
            "_________________________________________________________________\n",
            "max_pooling2d_37 (MaxPooling (None, 74, 74, 32)        0         \n",
            "_________________________________________________________________\n",
            "conv2d_38 (Conv2D)           (None, 72, 72, 64)        18496     \n",
            "_________________________________________________________________\n",
            "max_pooling2d_38 (MaxPooling (None, 36, 36, 64)        0         \n",
            "_________________________________________________________________\n",
            "conv2d_39 (Conv2D)           (None, 34, 34, 128)       73856     \n",
            "_________________________________________________________________\n",
            "max_pooling2d_39 (MaxPooling (None, 17, 17, 128)       0         \n",
            "_________________________________________________________________\n",
            "conv2d_40 (Conv2D)           (None, 15, 15, 256)       295168    \n",
            "_________________________________________________________________\n",
            "max_pooling2d_40 (MaxPooling (None, 7, 7, 256)         0         \n",
            "_________________________________________________________________\n",
            "flatten_13 (Flatten)         (None, 12544)             0         \n",
            "_________________________________________________________________\n",
            "dense_29 (Dense)             (None, 512)               6423040   \n",
            "_________________________________________________________________\n",
            "dropout_12 (Dropout)         (None, 512)               0         \n",
            "_________________________________________________________________\n",
            "dense_30 (Dense)             (None, 512)               262656    \n",
            "_________________________________________________________________\n",
            "dropout_13 (Dropout)         (None, 512)               0         \n",
            "_________________________________________________________________\n",
            "dense_31 (Dense)             (None, 4)                 2052      \n",
            "=================================================================\n",
            "Total params: 7,076,164\n",
            "Trainable params: 7,076,164\n",
            "Non-trainable params: 0\n",
            "_________________________________________________________________\n"
          ],
          "name": "stdout"
        }
      ]
    },
    {
      "cell_type": "code",
      "metadata": {
        "id": "kVGqV1BM4T4_",
        "colab_type": "code",
        "outputId": "7f917ac9-56bc-480f-fc84-820a89ad360a",
        "colab": {
          "base_uri": "https://localhost:8080/",
          "height": 407
        }
      },
      "source": [
        "from keras.preprocessing.image import ImageDataGenerator\n",
        "from keras import optimizers \n",
        "\n",
        "train_datagen = ImageDataGenerator(rescale=1./255)\n",
        "test_datagen = ImageDataGenerator(rescale=1./255)\n",
        "\n",
        "train_generator = train_datagen.flow_from_directory(\n",
        "        train_dir,  \n",
        "        target_size=(150, 150),  \n",
        "        batch_size=32,\n",
        "        class_mode='categorical')\n",
        "\n",
        "validation_generator = test_datagen.flow_from_directory(\n",
        "        validation_dir,\n",
        "        target_size=(150, 150),\n",
        "        batch_size=32,\n",
        "        class_mode='categorical')\n",
        "\n",
        "model.compile(loss='categorical_crossentropy',\n",
        "              optimizer= optimizers.RMSprop(lr=0.0001),\n",
        "              metrics=['acc'])\n",
        "\n",
        "model_history = model.fit_generator(\n",
        "      train_generator,\n",
        "      steps_per_epoch=750,  # 24000 images = batch_size * steps\n",
        "      epochs=10,\n",
        "      validation_data=validation_generator,\n",
        "      validation_steps=250,  # 8000 images = batch_size * steps\n",
        "      verbose=2)"
      ],
      "execution_count": 0,
      "outputs": [
        {
          "output_type": "stream",
          "text": [
            "Found 24000 images belonging to 4 classes.\n",
            "Found 8000 images belonging to 4 classes.\n",
            "Epoch 1/10\n",
            " - 161s - loss: 1.0580 - acc: 0.5372 - val_loss: 0.9609 - val_acc: 0.5827\n",
            "Epoch 2/10\n",
            " - 169s - loss: 0.8832 - acc: 0.6413 - val_loss: 0.8378 - val_acc: 0.6631\n",
            "Epoch 3/10\n",
            " - 178s - loss: 0.8182 - acc: 0.6736 - val_loss: 0.7944 - val_acc: 0.6754\n",
            "Epoch 4/10\n",
            " - 156s - loss: 0.7748 - acc: 0.6891 - val_loss: 0.7557 - val_acc: 0.6910\n",
            "Epoch 5/10\n",
            " - 153s - loss: 0.7349 - acc: 0.7073 - val_loss: 0.7325 - val_acc: 0.6996\n",
            "Epoch 6/10\n",
            " - 152s - loss: 0.7003 - acc: 0.7222 - val_loss: 0.7018 - val_acc: 0.7180\n",
            "Epoch 7/10\n",
            " - 153s - loss: 0.6687 - acc: 0.7340 - val_loss: 0.6876 - val_acc: 0.7249\n",
            "Epoch 8/10\n",
            " - 153s - loss: 0.6417 - acc: 0.7481 - val_loss: 0.6931 - val_acc: 0.7212\n",
            "Epoch 9/10\n",
            " - 153s - loss: 0.6183 - acc: 0.7603 - val_loss: 0.6772 - val_acc: 0.7334\n",
            "Epoch 10/10\n",
            " - 155s - loss: 0.5953 - acc: 0.7679 - val_loss: 0.7189 - val_acc: 0.7200\n"
          ],
          "name": "stdout"
        }
      ]
    },
    {
      "cell_type": "code",
      "metadata": {
        "id": "EhkLogti4YsJ",
        "colab_type": "code",
        "outputId": "4d03da3e-5d80-45e9-8e1e-b4f7cf375d78",
        "colab": {
          "base_uri": "https://localhost:8080/",
          "height": 616
        }
      },
      "source": [
        "train_loss, train_acc = model.evaluate_generator(train_generator, steps=50)\n",
        "print('train_acc:', train_acc)\n",
        "print('train_loss:', train_loss)\n",
        "\n",
        "validation_loss, validation_acc = model.evaluate_generator(validation_generator, steps=50)\n",
        "print('validation_acc:', validation_acc)\n",
        "print('validation_loss:', validation_loss)\n",
        "\n",
        "import matplotlib.pyplot as plt\n",
        "\n",
        "acc = model_history.history['acc']\n",
        "val_acc = model_history.history['val_acc']\n",
        "loss = model_history.history['loss']\n",
        "val_loss = model_history.history['val_loss']\n",
        "\n",
        "epochs = range(1, len(acc) + 1)\n",
        "\n",
        "plt.plot(epochs, acc, 'bo', label='Training acc')\n",
        "plt.plot(epochs, val_acc, 'b', label='Validation acc')\n",
        "plt.title('Training and validation accuracy')\n",
        "plt.legend()\n",
        "\n",
        "plt.figure()\n",
        "\n",
        "# Plot training and validation loss per epoch\n",
        "plt.plot(epochs, loss, 'bo', label='Training loss')\n",
        "plt.plot(epochs, val_loss, 'b', label='Validation loss')\n",
        "plt.title('Training and validation loss')\n",
        "plt.legend()\n",
        "\n",
        "plt.show()"
      ],
      "execution_count": 0,
      "outputs": [
        {
          "output_type": "stream",
          "text": [
            "train_acc: 0.786875\n",
            "train_loss: 0.5276969566941261\n",
            "validation_acc: 0.725\n",
            "validation_loss: 0.6771620750427246\n"
          ],
          "name": "stdout"
        },
        {
          "output_type": "display_data",
          "data": {
            "image/png": "[encoded data removed]",
            "text/plain": [
              "<Figure size 432x288 with 1 Axes>"
            ]
          },
          "metadata": {
            "tags": []
          }
        },
        {
          "output_type": "display_data",
          "data": {
            "image/png": "[encoded data removed]",
            "text/plain": [
              "<Figure size 432x288 with 1 Axes>"
            ]
          },
          "metadata": {
            "tags": []
          }
        }
      ]
    },
    {
      "cell_type": "code",
      "metadata": {
        "id": "ztEyudMCAUqC",
        "colab_type": "code",
        "colab": {}
      },
      "source": [
        "model.save('/content/drive/My Drive/Multi-Class Weather/model9.h5')"
      ],
      "execution_count": 0,
      "outputs": []
    },
    {
      "cell_type": "markdown",
      "metadata": {
        "id": "dLJEZg8UCJM3",
        "colab_type": "text"
      },
      "source": [
        "Model 10 - 32 64 128 256 / 512 Dropout 512 Dropout / 0.0001 / 7 epoch"
      ]
    },
    {
      "cell_type": "code",
      "metadata": {
        "id": "Vwm47VpRCJZA",
        "colab_type": "code",
        "outputId": "08ecf152-4684-49bb-b5ea-10fbca78914d",
        "colab": {
          "base_uri": "https://localhost:8080/",
          "height": 301
        }
      },
      "source": [
        "from keras.preprocessing.image import ImageDataGenerator\n",
        "from keras import optimizers \n",
        "\n",
        "train_datagen = ImageDataGenerator(rescale=1./255)\n",
        "test_datagen = ImageDataGenerator(rescale=1./255)\n",
        "\n",
        "train_generator = train_datagen.flow_from_directory(\n",
        "        train_dir,  \n",
        "        target_size=(150, 150),  \n",
        "        batch_size=32,\n",
        "        class_mode='categorical')\n",
        "\n",
        "validation_generator = test_datagen.flow_from_directory(\n",
        "        validation_dir,\n",
        "        target_size=(150, 150),\n",
        "        batch_size=32,\n",
        "        class_mode='categorical')\n",
        "\n",
        "model.compile(loss='categorical_crossentropy',\n",
        "              optimizer= optimizers.RMSprop(lr=0.0001),\n",
        "              metrics=['acc'])\n",
        "\n",
        "model_history = model.fit_generator(\n",
        "      train_generator,\n",
        "      steps_per_epoch=750,  # 24000 images = batch_size * steps\n",
        "      epochs=7,\n",
        "      validation_data=validation_generator,\n",
        "      validation_steps=250,  # 8000 images = batch_size * steps\n",
        "      verbose=2)"
      ],
      "execution_count": 0,
      "outputs": [
        {
          "output_type": "stream",
          "text": [
            "Found 24000 images belonging to 4 classes.\n",
            "Found 8000 images belonging to 4 classes.\n",
            "Epoch 1/7\n",
            " - 159s - loss: 0.5758 - acc: 0.7820 - val_loss: 0.6794 - val_acc: 0.7296\n",
            "Epoch 2/7\n",
            " - 163s - loss: 0.5525 - acc: 0.7909 - val_loss: 0.7328 - val_acc: 0.7296\n",
            "Epoch 3/7\n",
            " - 170s - loss: 0.5384 - acc: 0.7978 - val_loss: 0.7208 - val_acc: 0.7385\n",
            "Epoch 4/7\n",
            " - 176s - loss: 0.5231 - acc: 0.8043 - val_loss: 0.7427 - val_acc: 0.7195\n",
            "Epoch 5/7\n",
            " - 174s - loss: 0.5055 - acc: 0.8095 - val_loss: 0.7939 - val_acc: 0.7315\n",
            "Epoch 6/7\n",
            " - 153s - loss: 0.4941 - acc: 0.8160 - val_loss: 0.7555 - val_acc: 0.7325\n",
            "Epoch 7/7\n",
            " - 152s - loss: 0.4846 - acc: 0.8197 - val_loss: 0.9944 - val_acc: 0.6929\n"
          ],
          "name": "stdout"
        }
      ]
    },
    {
      "cell_type": "code",
      "metadata": {
        "id": "g0BxnH6MCSjP",
        "colab_type": "code",
        "outputId": "c81257cc-2c77-4b00-db41-91696c34acaa",
        "colab": {
          "base_uri": "https://localhost:8080/",
          "height": 616
        }
      },
      "source": [
        "train_loss, train_acc = model.evaluate_generator(train_generator, steps=50)\n",
        "print('train_acc:', train_acc)\n",
        "print('train_loss:', train_loss)\n",
        "\n",
        "validation_loss, validation_acc = model.evaluate_generator(validation_generator, steps=50)\n",
        "print('validation_acc:', validation_acc)\n",
        "print('validation_loss:', validation_loss)\n",
        "\n",
        "import matplotlib.pyplot as plt\n",
        "\n",
        "acc = model_history.history['acc']\n",
        "val_acc = model_history.history['val_acc']\n",
        "loss = model_history.history['loss']\n",
        "val_loss = model_history.history['val_loss']\n",
        "\n",
        "epochs = range(1, len(acc) + 1)\n",
        "\n",
        "plt.plot(epochs, acc, 'bo', label='Training acc')\n",
        "plt.plot(epochs, val_acc, 'b', label='Validation acc')\n",
        "plt.title('Training and validation accuracy')\n",
        "plt.legend()\n",
        "\n",
        "plt.figure()\n",
        "\n",
        "# Plot training and validation loss per epoch\n",
        "plt.plot(epochs, loss, 'bo', label='Training loss')\n",
        "plt.plot(epochs, val_loss, 'b', label='Validation loss')\n",
        "plt.title('Training and validation loss')\n",
        "plt.legend()\n",
        "\n",
        "plt.show()"
      ],
      "execution_count": 0,
      "outputs": [
        {
          "output_type": "stream",
          "text": [
            "train_acc: 0.788125\n",
            "train_loss: 0.5744686877727508\n",
            "validation_acc: 0.69125\n",
            "validation_loss: 1.0315448158979417\n"
          ],
          "name": "stdout"
        },
        {
          "output_type": "display_data",
          "data": {
            "image/png": "[encoded data removed]",
            "text/plain": [
              "<Figure size 432x288 with 1 Axes>"
            ]
          },
          "metadata": {
            "tags": []
          }
        },
        {
          "output_type": "display_data",
          "data": {
            "image/png": "[encoded data removed]",
            "text/plain": [
              "<Figure size 432x288 with 1 Axes>"
            ]
          },
          "metadata": {
            "tags": []
          }
        }
      ]
    },
    {
      "cell_type": "code",
      "metadata": {
        "id": "3B0YgaNeCXvi",
        "colab_type": "code",
        "colab": {}
      },
      "source": [
        "model.save('/content/drive/My Drive/Multi-Class Weather/model10.h5')"
      ],
      "execution_count": 0,
      "outputs": []
    },
    {
      "cell_type": "code",
      "metadata": {
        "id": "wmEfbQjcWC7N",
        "colab_type": "code",
        "colab": {
          "base_uri": "https://localhost:8080/",
          "height": 665
        },
        "outputId": "639cc52c-3c87-464d-d8d5-827af7635d77"
      },
      "source": [
        "from keras.models import load_model\n",
        "model = load_model(\"/content/drive/My Drive/Multi-Class Weather/model9.h5\")\n",
        "model.summary()"
      ],
      "execution_count": 54,
      "outputs": [
        {
          "output_type": "stream",
          "text": [
            "Model: \"sequential_13\"\n",
            "_________________________________________________________________\n",
            "Layer (type)                 Output Shape              Param #   \n",
            "=================================================================\n",
            "conv2d_37 (Conv2D)           (None, 148, 148, 32)      896       \n",
            "_________________________________________________________________\n",
            "max_pooling2d_37 (MaxPooling (None, 74, 74, 32)        0         \n",
            "_________________________________________________________________\n",
            "conv2d_38 (Conv2D)           (None, 72, 72, 64)        18496     \n",
            "_________________________________________________________________\n",
            "max_pooling2d_38 (MaxPooling (None, 36, 36, 64)        0         \n",
            "_________________________________________________________________\n",
            "conv2d_39 (Conv2D)           (None, 34, 34, 128)       73856     \n",
            "_________________________________________________________________\n",
            "max_pooling2d_39 (MaxPooling (None, 17, 17, 128)       0         \n",
            "_________________________________________________________________\n",
            "conv2d_40 (Conv2D)           (None, 15, 15, 256)       295168    \n",
            "_________________________________________________________________\n",
            "max_pooling2d_40 (MaxPooling (None, 7, 7, 256)         0         \n",
            "_________________________________________________________________\n",
            "flatten_13 (Flatten)         (None, 12544)             0         \n",
            "_________________________________________________________________\n",
            "dense_29 (Dense)             (None, 512)               6423040   \n",
            "_________________________________________________________________\n",
            "dropout_12 (Dropout)         (None, 512)               0         \n",
            "_________________________________________________________________\n",
            "dense_30 (Dense)             (None, 512)               262656    \n",
            "_________________________________________________________________\n",
            "dropout_13 (Dropout)         (None, 512)               0         \n",
            "_________________________________________________________________\n",
            "dense_31 (Dense)             (None, 4)                 2052      \n",
            "=================================================================\n",
            "Total params: 7,076,164\n",
            "Trainable params: 7,076,164\n",
            "Non-trainable params: 0\n",
            "_________________________________________________________________\n"
          ],
          "name": "stdout"
        }
      ]
    },
    {
      "cell_type": "code",
      "metadata": {
        "id": "CKq1z_g7WK2F",
        "colab_type": "code",
        "colab": {
          "base_uri": "https://localhost:8080/",
          "height": 53
        },
        "outputId": "827dfbf4-a798-4c90-9cb0-4eb6273bc6ee"
      },
      "source": [
        "test_generator = test_datagen.flow_from_directory(\n",
        "        test_dir,\n",
        "        target_size=(150, 150),\n",
        "        batch_size=32,\n",
        "        class_mode='categorical')\n",
        "\n",
        "test_loss, test_acc = model.evaluate_generator(test_generator, steps=50)\n",
        "print('test_acc:', test_acc)"
      ],
      "execution_count": 55,
      "outputs": [
        {
          "output_type": "stream",
          "text": [
            "Found 8000 images belonging to 4 classes.\n",
            "test_acc: 0.674375\n"
          ],
          "name": "stdout"
        }
      ]
    },
    {
      "cell_type": "code",
      "metadata": {
        "id": "ho5_1iukgTH6",
        "colab_type": "code",
        "colab": {}
      },
      "source": [
        "prediction = model.predict(img_tensor)\n",
        "print(prediction)"
      ],
      "execution_count": 0,
      "outputs": []
    }
  ]
}