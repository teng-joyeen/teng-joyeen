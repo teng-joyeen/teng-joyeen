{
  "nbformat": 4,
  "nbformat_minor": 0,
  "metadata": {
    "colab": {
      "name": "FINAL_Multi-Class Weather Recognition and Classification On Outdoor Images",
      "provenance": [],
      "collapsed_sections": [],
      "include_colab_link": true
    },
    "kernelspec": {
      "name": "python3",
      "display_name": "Python 3"
    },
    "accelerator": "GPU"
  },
  "cells": [
    {
      "cell_type": "markdown",
      "metadata": {
        "id": "view-in-github",
        "colab_type": "text"
      },
      "source": [
        "<a href=\"https://colab.research.google.com/github/teng-joyeen/teng-joyeen.github.io/blob/master/FINAL_Multi_Class_Weather_Recognition_and_Classification_On_Outdoor_Images.ipynb\" target=\"_parent\"><img src=\"https://colab.research.google.com/assets/colab-badge.svg\" alt=\"Open In Colab\"/></a>"
      ]
    },
    {
      "cell_type": "code",
      "metadata": {
        "id": "yuo-EhHpK2vW",
        "colab_type": "code",
        "colab": {}
      },
      "source": [
        "# Install the PyDrive wrapper & import libraries.\n",
        "# This only needs to be done once per notebook.\n",
        "!pip install -U -q PyDrive\n",
        "from pydrive.auth import GoogleAuth\n",
        "from pydrive.drive import GoogleDrive\n",
        "from google.colab import auth\n",
        "from oauth2client.client import GoogleCredentials\n",
        "\n",
        "# Authenticate and create the PyDrive client.\n",
        "# This only needs to be done once per notebook.\n",
        "auth.authenticate_user()\n",
        "gauth = GoogleAuth()\n",
        "gauth.credentials = GoogleCredentials.get_application_default()\n",
        "drive = GoogleDrive(gauth)"
      ],
      "execution_count": 0,
      "outputs": []
    },
    {
      "cell_type": "code",
      "metadata": {
        "id": "UeG3r3g88vIt",
        "colab_type": "code",
        "outputId": "72a44a4e-b70e-46f8-9349-b08b6d330785",
        "colab": {
          "base_uri": "https://localhost:8080/",
          "height": 127
        }
      },
      "source": [
        "from google.colab import drive\n",
        "drive.mount('/content/drive')"
      ],
      "execution_count": 0,
      "outputs": [
        {
          "output_type": "stream",
          "text": [
            "Go to this URL in a browser: https://accounts.google.com/o/oauth2/auth?client_id=947318989803-6bn6qk8qdgf4n4g3pfee6491hc0brc4i.apps.googleusercontent.com&redirect_uri=urn%3aietf%3awg%3aoauth%3a2.0%3aoob&response_type=code&scope=email%20https%3a%2f%2fwww.googleapis.com%2fauth%2fdocs.test%20https%3a%2f%2fwww.googleapis.com%2fauth%2fdrive%20https%3a%2f%2fwww.googleapis.com%2fauth%2fdrive.photos.readonly%20https%3a%2f%2fwww.googleapis.com%2fauth%2fpeopleapi.readonly\n",
            "\n",
            "Enter your authorization code:\n",
            "··········\n",
            "Mounted at /content/drive\n"
          ],
          "name": "stdout"
        }
      ]
    },
    {
      "cell_type": "code",
      "metadata": {
        "id": "T70sAYvk8_gv",
        "colab_type": "code",
        "colab": {}
      },
      "source": [
        "import os\n",
        "import zipfile\n",
        "\n",
        "local_zip = '/content/drive/My Drive/weather_classification.zip'\n",
        "zip_ref = zipfile.ZipFile(local_zip, 'r')\n",
        "zip_ref.extractall('/My Drive/weather_classification')\n",
        "zip_ref.close()\n",
        "\n",
        "!rm -rf weather_classification.zip"
      ],
      "execution_count": 0,
      "outputs": []
    },
    {
      "cell_type": "code",
      "metadata": {
        "id": "qWDdfsIaDpDL",
        "colab_type": "code",
        "colab": {}
      },
      "source": [
        "import os, shutil\n",
        "\n",
        "cloudy_dataset_dir = '/My Drive/weather_classification/cloudy'\n",
        "rainy_dataset_dir = '/My Drive/weather_classification/rainy'\n",
        "sunny_dataset_dir = '/My Drive/weather_classification/sunny'\n",
        "snowy_dataset_dir = '/My Drive/weather_classification/snowy'\n",
        "\n",
        "base_dir = '/My Drive/weather'\n",
        "os.mkdir(base_dir)\n",
        "\n",
        "train_dir = os.path.join(base_dir, 'train')\n",
        "os.mkdir(train_dir)\n",
        "validation_dir = os.path.join(base_dir, 'validation')\n",
        "os.mkdir(validation_dir)\n",
        "test_dir = os.path.join(base_dir, 'test')\n",
        "os.mkdir(test_dir)\n",
        "\n",
        "train_cloudy_dir = os.path.join(train_dir, 'cloudy')\n",
        "os.mkdir(train_cloudy_dir)\n",
        "train_rainy_dir = os.path.join(train_dir, 'rainy')\n",
        "os.mkdir(train_rainy_dir)\n",
        "train_sunny_dir = os.path.join(train_dir, 'sunny')\n",
        "os.mkdir(train_sunny_dir)\n",
        "train_snowy_dir = os.path.join(train_dir, 'snowy')\n",
        "os.mkdir(train_snowy_dir)\n",
        "\n",
        "validation_cloudy_dir = os.path.join(validation_dir, 'cloudy')\n",
        "os.mkdir(validation_cloudy_dir)\n",
        "validation_rainy_dir = os.path.join(validation_dir, 'rainy')\n",
        "os.mkdir(validation_rainy_dir)\n",
        "validation_sunny_dir = os.path.join(validation_dir, 'sunny')\n",
        "os.mkdir(validation_sunny_dir)\n",
        "validation_snowy_dir = os.path.join(validation_dir, 'snowy')\n",
        "os.mkdir(validation_snowy_dir)\n",
        "\n",
        "test_cloudy_dir = os.path.join(test_dir, 'cloudy')\n",
        "os.mkdir(test_cloudy_dir)\n",
        "test_rainy_dir = os.path.join(test_dir, 'rainy')\n",
        "os.mkdir(test_rainy_dir)\n",
        "test_sunny_dir = os.path.join(test_dir, 'sunny')\n",
        "os.mkdir(test_sunny_dir)\n",
        "test_snowy_dir = os.path.join(test_dir, 'snowy')\n",
        "os.mkdir(test_snowy_dir)"
      ],
      "execution_count": 0,
      "outputs": []
    },
    {
      "cell_type": "code",
      "metadata": {
        "id": "HFHb73XU3Pk3",
        "colab_type": "code",
        "outputId": "c54e96d8-56df-4672-af3f-c170fa816fcb",
        "colab": {
          "base_uri": "https://localhost:8080/",
          "height": 233
        }
      },
      "source": [
        "fnames = ['cloudy_0000{}.jpg'.format(i) for i in range(0, 10)]\n",
        "for fname in fnames:\n",
        "  src = os.path.join(cloudy_dataset_dir, fname)\n",
        "  dst = os.path.join(train_cloudy_dir, fname)\n",
        "  shutil.copyfile(src, dst)\n",
        "\n",
        "fnames = ['cloudy_000{}.jpg'.format(i) for i in range(10, 100)]\n",
        "for fname in fnames:\n",
        "  src = os.path.join(cloudy_dataset_dir, fname)\n",
        "  dst = os.path.join(train_cloudy_dir, fname)\n",
        "  shutil.copyfile(src, dst)\n",
        "  \n",
        "fnames = ['cloudy_00{}.jpg'.format(i) for i in range(100, 1000)]\n",
        "for fname in fnames:\n",
        "  src = os.path.join(cloudy_dataset_dir, fname)\n",
        "  dst = os.path.join(train_cloudy_dir, fname)\n",
        "  shutil.copyfile(src, dst)\n",
        "  \n",
        "fnames = ['cloudy_0{}.jpg'.format(i) for i in range(1000, 6000)]\n",
        "for fname in fnames:\n",
        "  src = os.path.join(cloudy_dataset_dir, fname)\n",
        "  dst = os.path.join(train_cloudy_dir, fname)\n",
        "  shutil.copyfile(src, dst)  \n",
        "  \n",
        "fnames = ['cloudy_0{}.jpg'.format(i) for i in range(6000, 8000)]\n",
        "for fname in fnames:\n",
        "  src = os.path.join(cloudy_dataset_dir, fname)\n",
        "  dst = os.path.join(validation_cloudy_dir, fname)\n",
        "  shutil.copyfile(src, dst)\n",
        "  \n",
        "fnames = ['cloudy_0{}.jpg'.format(i) for i in range(8000, 10000)]\n",
        "for fname in fnames:\n",
        "  src = os.path.join(cloudy_dataset_dir, fname)\n",
        "  dst = os.path.join(test_cloudy_dir, fname)\n",
        "  shutil.copyfile(src, dst)\n",
        "  \n",
        "fnames = ['rainy_0000{}.jpg'.format(i) for i in range(0, 10)]\n",
        "for fname in fnames:\n",
        "  src = os.path.join(rainy_dataset_dir, fname)\n",
        "  dst = os.path.join(train_rainy_dir, fname)\n",
        "  shutil.copyfile(src, dst)\n",
        "\n",
        "fnames = ['rainy_000{}.jpg'.format(i) for i in range(10, 100)]\n",
        "for fname in fnames:\n",
        "  src = os.path.join(rainy_dataset_dir, fname)\n",
        "  dst = os.path.join(train_rainy_dir, fname)\n",
        "  shutil.copyfile(src, dst)\n",
        "  \n",
        "fnames = ['rainy_00{}.jpg'.format(i) for i in range(100, 1000)]\n",
        "for fname in fnames:\n",
        "  src = os.path.join(rainy_dataset_dir, fname)\n",
        "  dst = os.path.join(train_rainy_dir, fname)\n",
        "  shutil.copyfile(src, dst)\n",
        "  \n",
        "fnames = ['rainy_0{}.jpg'.format(i) for i in range(1000, 6000)]\n",
        "for fname in fnames:\n",
        "  src = os.path.join(rainy_dataset_dir, fname)\n",
        "  dst = os.path.join(train_rainy_dir, fname)\n",
        "  shutil.copyfile(src, dst)  \n",
        "  \n",
        "fnames = ['rainy_0{}.jpg'.format(i) for i in range(6000, 8000)]\n",
        "for fname in fnames:\n",
        "  src = os.path.join(rainy_dataset_dir, fname)\n",
        "  dst = os.path.join(validation_rainy_dir, fname)\n",
        "  shutil.copyfile(src, dst)\n",
        "\n",
        "fnames = ['rainy_0{}.jpg'.format(i) for i in range(8000, 10000)]\n",
        "for fname in fnames:\n",
        "  src = os.path.join(rainy_dataset_dir, fname)\n",
        "  dst = os.path.join(test_rainy_dir, fname)\n",
        "  shutil.copyfile(src, dst) \n",
        "\n",
        "fnames = ['sunny_0000{}.jpg'.format(i) for i in range(0, 10)]\n",
        "for fname in fnames:\n",
        "  src = os.path.join(sunny_dataset_dir, fname)\n",
        "  dst = os.path.join(train_sunny_dir, fname)\n",
        "  shutil.copyfile(src, dst)\n",
        "\n",
        "fnames = ['sunny_000{}.jpg'.format(i) for i in range(10, 100)]\n",
        "for fname in fnames:\n",
        "  src = os.path.join(sunny_dataset_dir, fname)\n",
        "  dst = os.path.join(train_sunny_dir, fname)\n",
        "  shutil.copyfile(src, dst)\n",
        "  \n",
        "fnames = ['sunny_00{}.jpg'.format(i) for i in range(100, 1000)]\n",
        "for fname in fnames:\n",
        "  src = os.path.join(sunny_dataset_dir, fname)\n",
        "  dst = os.path.join(train_sunny_dir, fname)\n",
        "  shutil.copyfile(src, dst)\n",
        "  \n",
        "fnames = ['sunny_0{}.jpg'.format(i) for i in range(1000, 6000)]\n",
        "for fname in fnames:\n",
        "  src = os.path.join(sunny_dataset_dir, fname)\n",
        "  dst = os.path.join(train_sunny_dir, fname)\n",
        "  shutil.copyfile(src, dst)  \n",
        "  \n",
        "fnames = ['sunny_0{}.jpg'.format(i) for i in range(6000, 8000)]\n",
        "for fname in fnames:\n",
        "  src = os.path.join(sunny_dataset_dir, fname)\n",
        "  dst = os.path.join(validation_sunny_dir, fname)\n",
        "  shutil.copyfile(src, dst)\n",
        "\n",
        "fnames = ['sunny_0{}.jpg'.format(i) for i in range(8000, 10000)]\n",
        "for fname in fnames:\n",
        "  src = os.path.join(sunny_dataset_dir, fname)\n",
        "  dst = os.path.join(test_sunny_dir, fname)\n",
        "  shutil.copyfile(src, dst)\n",
        "  \n",
        "fnames = ['snow_0000{}.jpg'.format(i) for i in range(0, 10)]\n",
        "for fname in fnames:\n",
        "  src = os.path.join(snowy_dataset_dir, fname)\n",
        "  dst = os.path.join(train_snowy_dir, fname)\n",
        "  shutil.copyfile(src, dst)\n",
        "\n",
        "fnames = ['snow_000{}.jpg'.format(i) for i in range(10, 100)]\n",
        "for fname in fnames:\n",
        "  src = os.path.join(snowy_dataset_dir, fname)\n",
        "  dst = os.path.join(train_snowy_dir, fname)\n",
        "  shutil.copyfile(src, dst)\n",
        "  \n",
        "fnames = ['snow_00{}.jpg'.format(i) for i in range(100, 1000)]\n",
        "for fname in fnames:\n",
        "  src = os.path.join(snowy_dataset_dir, fname)\n",
        "  dst = os.path.join(train_snowy_dir, fname)\n",
        "  shutil.copyfile(src, dst)\n",
        "  \n",
        "fnames = ['snow_0{}.jpg'.format(i) for i in range(1000, 6000)]\n",
        "for fname in fnames:\n",
        "  src = os.path.join(snowy_dataset_dir, fname)\n",
        "  dst = os.path.join(train_snowy_dir, fname)\n",
        "  shutil.copyfile(src, dst)  \n",
        "  \n",
        "fnames = ['snow_0{}.jpg'.format(i) for i in range(6000, 8000)]\n",
        "for fname in fnames:\n",
        "  src = os.path.join(snowy_dataset_dir, fname)\n",
        "  dst = os.path.join(validation_snowy_dir, fname)\n",
        "  shutil.copyfile(src, dst)\n",
        "\n",
        "fnames = ['snow_0{}.jpg'.format(i) for i in range(8000, 10000)]\n",
        "for fname in fnames:\n",
        "  src = os.path.join(snowy_dataset_dir, fname)\n",
        "  dst = os.path.join(test_snowy_dir, fname)\n",
        "  shutil.copyfile(src, dst)\n",
        "  \n",
        "print('total training cloudy images:', len(os.listdir(train_cloudy_dir)))\n",
        "print('total training rainy images:', len(os.listdir(train_rainy_dir)))\n",
        "print('total training sunny images:', len(os.listdir(train_sunny_dir)))\n",
        "print('total training snowy images:', len(os.listdir(train_snowy_dir)))\n",
        "  \n",
        "print('total validation cloudy images:', len(os.listdir(validation_cloudy_dir)))\n",
        "print('total validation rainy images:', len(os.listdir(validation_rainy_dir)))\n",
        "print('total validation sunny images:', len(os.listdir(validation_sunny_dir)))\n",
        "print('total validation snowy images:', len(os.listdir(validation_snowy_dir)))\n",
        "\n",
        "print('total test cloudy images:', len(os.listdir(test_cloudy_dir)))\n",
        "print('total test rainy images:', len(os.listdir(test_rainy_dir)))\n",
        "print('total test sunny images:', len(os.listdir(test_sunny_dir)))\n",
        "print('total test snowy images:', len(os.listdir(test_snowy_dir)))"
      ],
      "execution_count": 0,
      "outputs": [
        {
          "output_type": "stream",
          "text": [
            "total training cloudy images: 6000\n",
            "total training rainy images: 6000\n",
            "total training sunny images: 6000\n",
            "total training snowy images: 6000\n",
            "total validation cloudy images: 2000\n",
            "total validation rainy images: 2000\n",
            "total validation sunny images: 2000\n",
            "total validation snowy images: 2000\n",
            "total test cloudy images: 2000\n",
            "total test rainy images: 2000\n",
            "total test sunny images: 2000\n",
            "total test snowy images: 2000\n"
          ],
          "name": "stdout"
        }
      ]
    },
    {
      "cell_type": "markdown",
      "metadata": {
        "id": "j7RR-dCL8Gc2",
        "colab_type": "text"
      },
      "source": [
        "# Final Model - 32 64 128 256 / 512 Dropout 512 Dropout / 0.0001 "
      ]
    },
    {
      "cell_type": "code",
      "metadata": {
        "id": "8xozoBKBvmtK",
        "colab_type": "code",
        "outputId": "e1d1dac8-9f17-4eab-f8bd-b91a2a9f577e",
        "colab": {
          "base_uri": "https://localhost:8080/",
          "height": 53
        }
      },
      "source": [
        "from keras.preprocessing.image import ImageDataGenerator\n",
        "from keras import optimizers \n",
        "\n",
        "train_datagen = ImageDataGenerator(rescale=1./255)\n",
        "test_datagen = ImageDataGenerator(rescale=1./255)\n",
        "\n",
        "train_generator = train_datagen.flow_from_directory(\n",
        "        train_dir,  \n",
        "        target_size=(150, 150),  \n",
        "        batch_size=32,\n",
        "        classes = ['cloudy', 'rainy', 'sunny', 'snowy'],\n",
        "        class_mode='categorical')\n",
        "\n",
        "validation_generator = test_datagen.flow_from_directory(\n",
        "        validation_dir,\n",
        "        target_size=(150, 150),\n",
        "        batch_size=32,\n",
        "        classes = ['cloudy', 'rainy', 'sunny', 'snowy'],\n",
        "        class_mode='categorical')"
      ],
      "execution_count": 0,
      "outputs": [
        {
          "output_type": "stream",
          "text": [
            "Found 24000 images belonging to 4 classes.\n",
            "Found 8000 images belonging to 4 classes.\n"
          ],
          "name": "stdout"
        }
      ]
    },
    {
      "cell_type": "code",
      "metadata": {
        "id": "oib5AJFq4MI3",
        "colab_type": "code",
        "outputId": "8c337750-dc39-411f-a67f-3119faf7b64e",
        "colab": {
          "base_uri": "https://localhost:8080/",
          "height": 665
        }
      },
      "source": [
        "# Model 9\n",
        "from keras import layers\n",
        "from keras import models\n",
        "\n",
        "model = models. Sequential()\n",
        "model.add(layers.Conv2D(32, (3, 3), activation='relu', input_shape=(150, 150, 3)))\n",
        "model.add(layers.MaxPooling2D((2, 2)))\n",
        "model.add(layers.Conv2D(64, (3, 3), activation='relu'))\n",
        "model.add(layers.MaxPooling2D((2, 2)))\n",
        "model.add(layers.Conv2D(128, (3, 3), activation='relu'))\n",
        "model.add(layers.MaxPooling2D((2, 2)))\n",
        "model.add(layers.Conv2D(256, (3, 3), activation='relu'))\n",
        "model.add(layers.MaxPooling2D((2, 2)))\n",
        "model.add(layers.Flatten())\n",
        "model.add(layers.Dense(512, activation='relu'))\n",
        "model.add(layers.Dropout(0.5))\n",
        "model.add(layers.Dense(512, activation='relu'))\n",
        "model.add(layers.Dropout(0.5))\n",
        "model.add(layers.Dense(4, activation='softmax'))\n",
        "\n",
        "model.summary()"
      ],
      "execution_count": 0,
      "outputs": [
        {
          "output_type": "stream",
          "text": [
            "Model: \"sequential_3\"\n",
            "_________________________________________________________________\n",
            "Layer (type)                 Output Shape              Param #   \n",
            "=================================================================\n",
            "conv2d_9 (Conv2D)            (None, 148, 148, 32)      896       \n",
            "_________________________________________________________________\n",
            "max_pooling2d_9 (MaxPooling2 (None, 74, 74, 32)        0         \n",
            "_________________________________________________________________\n",
            "conv2d_10 (Conv2D)           (None, 72, 72, 64)        18496     \n",
            "_________________________________________________________________\n",
            "max_pooling2d_10 (MaxPooling (None, 36, 36, 64)        0         \n",
            "_________________________________________________________________\n",
            "conv2d_11 (Conv2D)           (None, 34, 34, 128)       73856     \n",
            "_________________________________________________________________\n",
            "max_pooling2d_11 (MaxPooling (None, 17, 17, 128)       0         \n",
            "_________________________________________________________________\n",
            "conv2d_12 (Conv2D)           (None, 15, 15, 256)       295168    \n",
            "_________________________________________________________________\n",
            "max_pooling2d_12 (MaxPooling (None, 7, 7, 256)         0         \n",
            "_________________________________________________________________\n",
            "flatten_3 (Flatten)          (None, 12544)             0         \n",
            "_________________________________________________________________\n",
            "dense_7 (Dense)              (None, 512)               6423040   \n",
            "_________________________________________________________________\n",
            "dropout_5 (Dropout)          (None, 512)               0         \n",
            "_________________________________________________________________\n",
            "dense_8 (Dense)              (None, 512)               262656    \n",
            "_________________________________________________________________\n",
            "dropout_6 (Dropout)          (None, 512)               0         \n",
            "_________________________________________________________________\n",
            "dense_9 (Dense)              (None, 4)                 2052      \n",
            "=================================================================\n",
            "Total params: 7,076,164\n",
            "Trainable params: 7,076,164\n",
            "Non-trainable params: 0\n",
            "_________________________________________________________________\n"
          ],
          "name": "stdout"
        }
      ]
    },
    {
      "cell_type": "code",
      "metadata": {
        "id": "kVGqV1BM4T4_",
        "colab_type": "code",
        "outputId": "f94d0042-fedc-418c-fc37-6789fb7b0349",
        "colab": {
          "base_uri": "https://localhost:8080/",
          "height": 377
        }
      },
      "source": [
        "model.compile(loss='categorical_crossentropy',\n",
        "              optimizer= optimizers.RMSprop(lr=0.0001),\n",
        "              metrics=['acc'])\n",
        "\n",
        "model_history = model.fit_generator(\n",
        "      train_generator,\n",
        "      steps_per_epoch=750,  # 24000 images = batch_size * steps\n",
        "      epochs=10,\n",
        "      validation_data=validation_generator,\n",
        "      validation_steps=250,  # 8000 images = batch_size * steps\n",
        "      verbose=2)"
      ],
      "execution_count": 0,
      "outputs": [
        {
          "output_type": "stream",
          "text": [
            "Epoch 1/10\n",
            " - 147s - loss: 1.0873 - acc: 0.5226 - val_loss: 0.8872 - val_acc: 0.6360\n",
            "Epoch 2/10\n",
            " - 145s - loss: 0.9055 - acc: 0.6298 - val_loss: 0.8427 - val_acc: 0.6536\n",
            "Epoch 3/10\n",
            " - 145s - loss: 0.8380 - acc: 0.6640 - val_loss: 0.8044 - val_acc: 0.6765\n",
            "Epoch 4/10\n",
            " - 144s - loss: 0.7885 - acc: 0.6878 - val_loss: 0.7543 - val_acc: 0.6933\n",
            "Epoch 5/10\n",
            " - 145s - loss: 0.7407 - acc: 0.7055 - val_loss: 0.7460 - val_acc: 0.6979\n",
            "Epoch 6/10\n",
            " - 144s - loss: 0.7029 - acc: 0.7234 - val_loss: 0.7692 - val_acc: 0.7040\n",
            "Epoch 7/10\n",
            " - 144s - loss: 0.6761 - acc: 0.7360 - val_loss: 0.6953 - val_acc: 0.7199\n",
            "Epoch 8/10\n",
            " - 144s - loss: 0.6430 - acc: 0.7498 - val_loss: 0.6883 - val_acc: 0.7266\n",
            "Epoch 9/10\n",
            " - 145s - loss: 0.6186 - acc: 0.7584 - val_loss: 0.7588 - val_acc: 0.6991\n",
            "Epoch 10/10\n",
            " - 143s - loss: 0.5985 - acc: 0.7691 - val_loss: 0.6925 - val_acc: 0.7319\n"
          ],
          "name": "stdout"
        }
      ]
    },
    {
      "cell_type": "code",
      "metadata": {
        "id": "EhkLogti4YsJ",
        "colab_type": "code",
        "outputId": "c2e6d9f5-2341-4c50-b0fa-cfbf1b248115",
        "colab": {
          "base_uri": "https://localhost:8080/",
          "height": 617
        }
      },
      "source": [
        "train_loss, train_acc = model.evaluate_generator(train_generator, steps=50)\n",
        "print('train_acc:', train_acc)\n",
        "print('train_loss:', train_loss)\n",
        "\n",
        "validation_loss, validation_acc = model.evaluate_generator(validation_generator, steps=50)\n",
        "print('validation_acc:', validation_acc)\n",
        "print('validation_loss:', validation_loss)\n",
        "\n",
        "import matplotlib.pyplot as plt\n",
        "\n",
        "acc = model_history.history['acc']\n",
        "val_acc = model_history.history['val_acc']\n",
        "loss = model_history.history['loss']\n",
        "val_loss = model_history.history['val_loss']\n",
        "\n",
        "epochs = range(1, len(acc) + 1)\n",
        "\n",
        "plt.plot(epochs, acc, 'bo', label='Training acc')\n",
        "plt.plot(epochs, val_acc, 'b', label='Validation acc')\n",
        "plt.title('Training and validation accuracy')\n",
        "plt.legend()\n",
        "\n",
        "plt.figure()\n",
        "\n",
        "# Plot training and validation loss per epoch\n",
        "plt.plot(epochs, loss, 'bo', label='Training loss')\n",
        "plt.plot(epochs, val_loss, 'b', label='Validation loss')\n",
        "plt.title('Training and validation loss')\n",
        "plt.legend()\n",
        "\n",
        "plt.show()"
      ],
      "execution_count": 0,
      "outputs": [
        {
          "output_type": "stream",
          "text": [
            "train_acc: 0.8\n",
            "train_loss: 0.5043092179298401\n",
            "validation_acc: 0.730625\n",
            "validation_loss: 0.6733470094203949\n"
          ],
          "name": "stdout"
        },
        {
          "output_type": "display_data",
          "data": {
            "image/png": "[encoded data removed]",
            "text/plain": [
              "<Figure size 432x288 with 1 Axes>"
            ]
          },
          "metadata": {
            "tags": []
          }
        },
        {
          "output_type": "display_data",
          "data": {
            "image/png": "[encoded data removed]",
            "text/plain": [
              "<Figure size 432x288 with 1 Axes>"
            ]
          },
          "metadata": {
            "tags": []
          }
        }
      ]
    },
    {
      "cell_type": "code",
      "metadata": {
        "id": "b6CSh8hzLMRy",
        "colab_type": "code",
        "outputId": "4912df46-d107-4f65-e057-3cc686890824",
        "colab": {
          "base_uri": "https://localhost:8080/",
          "height": 1000
        }
      },
      "source": [
        "model.compile(loss='categorical_crossentropy',\n",
        "              optimizer= optimizers.RMSprop(lr=0.0001),\n",
        "              metrics=['acc'])\n",
        "\n",
        "model_history = model.fit_generator(\n",
        "      train_generator,\n",
        "      steps_per_epoch=750,  # 24000 images = batch_size * steps\n",
        "      epochs=50,\n",
        "      validation_data=validation_generator,\n",
        "      validation_steps=250,  # 8000 images = batch_size * steps\n",
        "      verbose=2)"
      ],
      "execution_count": 0,
      "outputs": [
        {
          "output_type": "stream",
          "text": [
            "Epoch 1/50\n",
            " - 148s - loss: 0.5807 - acc: 0.7799 - val_loss: 0.7440 - val_acc: 0.7335\n",
            "Epoch 2/50\n",
            " - 144s - loss: 0.5528 - acc: 0.7903 - val_loss: 0.6771 - val_acc: 0.7352\n",
            "Epoch 3/50\n",
            " - 146s - loss: 0.5366 - acc: 0.7980 - val_loss: 0.7175 - val_acc: 0.7330\n",
            "Epoch 4/50\n",
            " - 146s - loss: 0.5234 - acc: 0.8024 - val_loss: 0.6878 - val_acc: 0.7391\n",
            "Epoch 5/50\n",
            " - 145s - loss: 0.5074 - acc: 0.8088 - val_loss: 0.7232 - val_acc: 0.7290\n",
            "Epoch 6/50\n",
            " - 144s - loss: 0.4885 - acc: 0.8183 - val_loss: 0.7657 - val_acc: 0.7340\n",
            "Epoch 7/50\n",
            " - 145s - loss: 0.4700 - acc: 0.8251 - val_loss: 0.7293 - val_acc: 0.7386\n",
            "Epoch 8/50\n",
            " - 141s - loss: 0.4634 - acc: 0.8271 - val_loss: 0.7654 - val_acc: 0.7219\n",
            "Epoch 9/50\n",
            " - 138s - loss: 0.4519 - acc: 0.8342 - val_loss: 0.8077 - val_acc: 0.7428\n",
            "Epoch 10/50\n",
            " - 137s - loss: 0.4393 - acc: 0.8397 - val_loss: 0.8696 - val_acc: 0.7348\n",
            "Epoch 11/50\n",
            " - 137s - loss: 0.4325 - acc: 0.8424 - val_loss: 0.9753 - val_acc: 0.7362\n",
            "Epoch 12/50\n",
            " - 136s - loss: 0.4233 - acc: 0.8463 - val_loss: 0.7263 - val_acc: 0.7421\n",
            "Epoch 13/50\n",
            " - 137s - loss: 0.4134 - acc: 0.8478 - val_loss: 0.8101 - val_acc: 0.7340\n",
            "Epoch 14/50\n",
            " - 138s - loss: 0.4094 - acc: 0.8492 - val_loss: 0.8661 - val_acc: 0.7394\n",
            "Epoch 15/50\n",
            " - 138s - loss: 0.4062 - acc: 0.8536 - val_loss: 1.0618 - val_acc: 0.7166\n",
            "Epoch 16/50\n",
            " - 138s - loss: 0.4051 - acc: 0.8547 - val_loss: 1.0503 - val_acc: 0.6981\n",
            "Epoch 17/50\n",
            " - 139s - loss: 0.3946 - acc: 0.8569 - val_loss: 0.8583 - val_acc: 0.7356\n",
            "Epoch 18/50\n",
            " - 142s - loss: 0.3870 - acc: 0.8614 - val_loss: 0.8818 - val_acc: 0.7305\n",
            "Epoch 19/50\n",
            " - 142s - loss: 0.3926 - acc: 0.8614 - val_loss: 0.8381 - val_acc: 0.7394\n",
            "Epoch 20/50\n",
            " - 144s - loss: 0.3761 - acc: 0.8652 - val_loss: 0.9178 - val_acc: 0.7246\n",
            "Epoch 21/50\n",
            " - 144s - loss: 0.3797 - acc: 0.8666 - val_loss: 0.9738 - val_acc: 0.7351\n",
            "Epoch 22/50\n",
            " - 143s - loss: 0.3777 - acc: 0.8660 - val_loss: 0.8713 - val_acc: 0.7196\n",
            "Epoch 23/50\n",
            " - 143s - loss: 0.3729 - acc: 0.8660 - val_loss: 1.1422 - val_acc: 0.6989\n",
            "Epoch 24/50\n",
            " - 144s - loss: 0.3837 - acc: 0.8659 - val_loss: 1.1651 - val_acc: 0.7332\n",
            "Epoch 25/50\n",
            " - 144s - loss: 0.3773 - acc: 0.8679 - val_loss: 1.1794 - val_acc: 0.7440\n",
            "Epoch 26/50\n",
            " - 143s - loss: 0.3783 - acc: 0.8672 - val_loss: 1.0992 - val_acc: 0.7181\n",
            "Epoch 27/50\n",
            " - 144s - loss: 0.3801 - acc: 0.8708 - val_loss: 1.1683 - val_acc: 0.7054\n",
            "Epoch 28/50\n",
            " - 143s - loss: 0.3755 - acc: 0.8672 - val_loss: 1.3266 - val_acc: 0.7321\n",
            "Epoch 29/50\n",
            " - 144s - loss: 0.3856 - acc: 0.8651 - val_loss: 1.1010 - val_acc: 0.6800\n",
            "Epoch 30/50\n",
            " - 146s - loss: 0.3878 - acc: 0.8670 - val_loss: 1.1141 - val_acc: 0.7341\n",
            "Epoch 31/50\n",
            " - 144s - loss: 0.3946 - acc: 0.8673 - val_loss: 1.1483 - val_acc: 0.7275\n",
            "Epoch 32/50\n",
            " - 144s - loss: 0.4029 - acc: 0.8629 - val_loss: 1.2344 - val_acc: 0.7111\n",
            "Epoch 33/50\n",
            " - 144s - loss: 0.3955 - acc: 0.8625 - val_loss: 0.9939 - val_acc: 0.7255\n",
            "Epoch 34/50\n",
            " - 144s - loss: 0.4046 - acc: 0.8598 - val_loss: 1.2054 - val_acc: 0.6653\n",
            "Epoch 35/50\n",
            " - 145s - loss: 0.4063 - acc: 0.8596 - val_loss: 1.1610 - val_acc: 0.7123\n",
            "Epoch 36/50\n",
            " - 144s - loss: 0.4076 - acc: 0.8612 - val_loss: 0.9649 - val_acc: 0.7311\n",
            "Epoch 37/50\n",
            " - 143s - loss: 0.4191 - acc: 0.8547 - val_loss: 1.1413 - val_acc: 0.6847\n",
            "Epoch 38/50\n",
            " - 139s - loss: 0.4269 - acc: 0.8562 - val_loss: 1.1202 - val_acc: 0.7001\n",
            "Epoch 39/50\n",
            " - 138s - loss: 0.4301 - acc: 0.8518 - val_loss: 1.1399 - val_acc: 0.7245\n",
            "Epoch 40/50\n",
            " - 137s - loss: 0.4452 - acc: 0.8487 - val_loss: 1.1853 - val_acc: 0.6740\n",
            "Epoch 41/50\n",
            " - 136s - loss: 0.4474 - acc: 0.8505 - val_loss: 1.0926 - val_acc: 0.7328\n",
            "Epoch 42/50\n",
            " - 141s - loss: 0.4454 - acc: 0.8485 - val_loss: 0.9145 - val_acc: 0.7045\n",
            "Epoch 43/50\n",
            " - 144s - loss: 0.4454 - acc: 0.8497 - val_loss: 0.9974 - val_acc: 0.7073\n",
            "Epoch 44/50\n",
            " - 144s - loss: 0.4639 - acc: 0.8446 - val_loss: 0.9842 - val_acc: 0.7236\n",
            "Epoch 45/50\n",
            " - 144s - loss: 0.4574 - acc: 0.8430 - val_loss: 0.8165 - val_acc: 0.7130\n",
            "Epoch 46/50\n",
            " - 143s - loss: 0.4581 - acc: 0.8433 - val_loss: 1.5550 - val_acc: 0.6800\n",
            "Epoch 47/50\n",
            " - 143s - loss: 0.4662 - acc: 0.8396 - val_loss: 0.8468 - val_acc: 0.7044\n",
            "Epoch 48/50\n",
            " - 144s - loss: 0.4644 - acc: 0.8419 - val_loss: 1.2457 - val_acc: 0.6743\n",
            "Epoch 49/50\n",
            " - 144s - loss: 0.4626 - acc: 0.8416 - val_loss: 0.7982 - val_acc: 0.6909\n",
            "Epoch 50/50\n",
            " - 143s - loss: 0.4673 - acc: 0.8414 - val_loss: 0.8008 - val_acc: 0.7175\n"
          ],
          "name": "stdout"
        }
      ]
    },
    {
      "cell_type": "code",
      "metadata": {
        "id": "zhuZdIWIt4rU",
        "colab_type": "code",
        "outputId": "f0404664-cc04-492d-ab2a-6244954fb7a9",
        "colab": {
          "base_uri": "https://localhost:8080/",
          "height": 617
        }
      },
      "source": [
        "train_loss, train_acc = model.evaluate_generator(train_generator, steps=50)\n",
        "print('train_acc:', train_acc)\n",
        "print('train_loss:', train_loss)\n",
        "\n",
        "validation_loss, validation_acc = model.evaluate_generator(validation_generator, steps=50)\n",
        "print('validation_acc:', validation_acc)\n",
        "print('validation_loss:', validation_loss)\n",
        "\n",
        "import matplotlib.pyplot as plt\n",
        "\n",
        "acc = model_history.history['acc']\n",
        "val_acc = model_history.history['val_acc']\n",
        "loss = model_history.history['loss']\n",
        "val_loss = model_history.history['val_loss']\n",
        "\n",
        "epochs = range(1, len(acc) + 1)\n",
        "\n",
        "plt.plot(epochs, acc, 'bo', label='Training acc')\n",
        "plt.plot(epochs, val_acc, 'b', label='Validation acc')\n",
        "plt.title('Training and validation accuracy')\n",
        "plt.legend()\n",
        "\n",
        "plt.figure()\n",
        "\n",
        "# Plot training and validation loss per epoch\n",
        "plt.plot(epochs, loss, 'bo', label='Training loss')\n",
        "plt.plot(epochs, val_loss, 'b', label='Validation loss')\n",
        "plt.title('Training and validation loss')\n",
        "plt.legend()\n",
        "\n",
        "plt.show()"
      ],
      "execution_count": 0,
      "outputs": [
        {
          "output_type": "stream",
          "text": [
            "train_acc: 0.9075\n",
            "train_loss: 0.3011844024062157\n",
            "validation_acc: 0.7125\n",
            "validation_loss: 0.769312613606453\n"
          ],
          "name": "stdout"
        },
        {
          "output_type": "display_data",
          "data": {
            "image/png": "[encoded data removed]",
            "text/plain": [
              "<Figure size 432x288 with 1 Axes>"
            ]
          },
          "metadata": {
            "tags": []
          }
        },
        {
          "output_type": "display_data",
          "data": {
            "image/png": "[encoded data removed]",
            "text/plain": [
              "<Figure size 432x288 with 1 Axes>"
            ]
          },
          "metadata": {
            "tags": []
          }
        }
      ]
    },
    {
      "cell_type": "code",
      "metadata": {
        "id": "ztEyudMCAUqC",
        "colab_type": "code",
        "colab": {}
      },
      "source": [
        "model.save('/content/drive/My Drive/Multi-Class Weather/50model.h5')"
      ],
      "execution_count": 0,
      "outputs": []
    },
    {
      "cell_type": "code",
      "metadata": {
        "id": "cRezotxSxw7z",
        "colab_type": "code",
        "outputId": "2a1591b4-88ea-4145-f08d-b0e78e3e966e",
        "colab": {
          "base_uri": "https://localhost:8080/",
          "height": 737
        }
      },
      "source": [
        "model.compile(loss='categorical_crossentropy',\n",
        "              optimizer= optimizers.RMSprop(lr=0.0001),\n",
        "              metrics=['acc'])\n",
        "\n",
        "model_history = model.fit_generator(\n",
        "      train_generator,\n",
        "      steps_per_epoch=750,  # 24000 images = batch_size * steps\n",
        "      epochs=20,\n",
        "      validation_data=validation_generator,\n",
        "      validation_steps=250,  # 8000 images = batch_size * steps\n",
        "      verbose=2)"
      ],
      "execution_count": 0,
      "outputs": [
        {
          "output_type": "stream",
          "text": [
            "Epoch 1/20\n",
            " - 142s - loss: 0.4796 - acc: 0.8374 - val_loss: 0.8451 - val_acc: 0.7284\n",
            "Epoch 2/20\n",
            " - 140s - loss: 0.4623 - acc: 0.8415 - val_loss: 0.8940 - val_acc: 0.7199\n",
            "Epoch 3/20\n",
            " - 141s - loss: 0.4686 - acc: 0.8379 - val_loss: 1.2830 - val_acc: 0.7033\n",
            "Epoch 4/20\n",
            " - 145s - loss: 0.4688 - acc: 0.8395 - val_loss: 0.9437 - val_acc: 0.7186\n",
            "Epoch 5/20\n",
            " - 143s - loss: 0.4550 - acc: 0.8424 - val_loss: 1.3433 - val_acc: 0.7190\n",
            "Epoch 6/20\n",
            " - 141s - loss: 0.4676 - acc: 0.8418 - val_loss: 1.2607 - val_acc: 0.6869\n",
            "Epoch 7/20\n",
            " - 144s - loss: 0.4574 - acc: 0.8416 - val_loss: 0.8790 - val_acc: 0.7169\n",
            "Epoch 8/20\n",
            " - 144s - loss: 0.4499 - acc: 0.8436 - val_loss: 0.9258 - val_acc: 0.7191\n",
            "Epoch 9/20\n",
            " - 142s - loss: 0.4559 - acc: 0.8442 - val_loss: 1.0305 - val_acc: 0.7269\n",
            "Epoch 10/20\n",
            " - 140s - loss: 0.4400 - acc: 0.8473 - val_loss: 1.0609 - val_acc: 0.6759\n",
            "Epoch 11/20\n",
            " - 141s - loss: 0.4556 - acc: 0.8494 - val_loss: 0.7583 - val_acc: 0.7251\n",
            "Epoch 12/20\n",
            " - 141s - loss: 0.4553 - acc: 0.8492 - val_loss: 0.8797 - val_acc: 0.7019\n",
            "Epoch 13/20\n",
            " - 141s - loss: 0.4405 - acc: 0.8522 - val_loss: 0.9954 - val_acc: 0.7173\n",
            "Epoch 14/20\n",
            " - 141s - loss: 0.4341 - acc: 0.8541 - val_loss: 1.0135 - val_acc: 0.7105\n",
            "Epoch 15/20\n",
            " - 141s - loss: 0.4332 - acc: 0.8547 - val_loss: 1.0542 - val_acc: 0.6927\n",
            "Epoch 16/20\n",
            " - 141s - loss: 0.4364 - acc: 0.8516 - val_loss: 1.1138 - val_acc: 0.7086\n",
            "Epoch 17/20\n",
            " - 142s - loss: 0.4381 - acc: 0.8555 - val_loss: 1.1689 - val_acc: 0.6914\n",
            "Epoch 18/20\n",
            " - 141s - loss: 0.4280 - acc: 0.8562 - val_loss: 1.1989 - val_acc: 0.7123\n",
            "Epoch 19/20\n",
            " - 141s - loss: 0.4360 - acc: 0.8553 - val_loss: 1.0129 - val_acc: 0.7304\n",
            "Epoch 20/20\n",
            " - 142s - loss: 0.4371 - acc: 0.8536 - val_loss: 1.0345 - val_acc: 0.7034\n"
          ],
          "name": "stdout"
        }
      ]
    },
    {
      "cell_type": "code",
      "metadata": {
        "id": "Nimu66319Bai",
        "colab_type": "code",
        "outputId": "58247fc4-0714-4d34-f528-ef9c25a4ff41",
        "colab": {
          "base_uri": "https://localhost:8080/",
          "height": 617
        }
      },
      "source": [
        "train_loss, train_acc = model.evaluate_generator(train_generator, steps=50)\n",
        "print('train_acc:', train_acc)\n",
        "print('train_loss:', train_loss)\n",
        "\n",
        "validation_loss, validation_acc = model.evaluate_generator(validation_generator, steps=50)\n",
        "print('validation_acc:', validation_acc)\n",
        "print('validation_loss:', validation_loss)\n",
        "\n",
        "import matplotlib.pyplot as plt\n",
        "\n",
        "acc = model_history.history['acc']\n",
        "val_acc = model_history.history['val_acc']\n",
        "loss = model_history.history['loss']\n",
        "val_loss = model_history.history['val_loss']\n",
        "\n",
        "epochs = range(1, len(acc) + 1)\n",
        "\n",
        "plt.plot(epochs, acc, 'bo', label='Training acc')\n",
        "plt.plot(epochs, val_acc, 'b', label='Validation acc')\n",
        "plt.title('Training and validation accuracy')\n",
        "plt.legend()\n",
        "\n",
        "plt.figure()\n",
        "\n",
        "# Plot training and validation loss per epoch\n",
        "plt.plot(epochs, loss, 'bo', label='Training loss')\n",
        "plt.plot(epochs, val_loss, 'b', label='Validation loss')\n",
        "plt.title('Training and validation loss')\n",
        "plt.legend()\n",
        "\n",
        "plt.show()"
      ],
      "execution_count": 0,
      "outputs": [
        {
          "output_type": "stream",
          "text": [
            "train_acc: 0.893125\n",
            "train_loss: 0.3088299433887005\n",
            "validation_acc: 0.715\n",
            "validation_loss: 0.989215350151062\n"
          ],
          "name": "stdout"
        },
        {
          "output_type": "display_data",
          "data": {
            "image/png": "[encoded data removed]",
            "text/plain": [
              "<Figure size 432x288 with 1 Axes>"
            ]
          },
          "metadata": {
            "tags": []
          }
        },
        {
          "output_type": "display_data",
          "data": {
            "image/png": "[encoded data removed]",
            "text/plain": [
              "<Figure size 432x288 with 1 Axes>"
            ]
          },
          "metadata": {
            "tags": []
          }
        }
      ]
    },
    {
      "cell_type": "code",
      "metadata": {
        "id": "5En5hjO3xyaW",
        "colab_type": "code",
        "colab": {}
      },
      "source": [
        "test_generator = test_datagen.flow_from_directory(\n",
        "        test_dir,\n",
        "        target_size=(150, 150),\n",
        "        batch_size=32,\n",
        "        classes = ['cloudy', 'rainy', 'sunny', 'snowy'],\n",
        "        class_mode='categorical')\n",
        "\n",
        "test_loss, test_acc = model.evaluate_generator(test_generator, steps=50)\n",
        "print('test_acc:', test_acc)"
      ],
      "execution_count": 0,
      "outputs": []
    }
  ]
}