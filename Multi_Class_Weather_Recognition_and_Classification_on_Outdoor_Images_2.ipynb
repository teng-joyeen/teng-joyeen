{
  "nbformat": 4,
  "nbformat_minor": 0,
  "metadata": {
    "colab": {
      "name": "Multi-Class Weather Recognition and Classification on Outdoor Images 2.ipynb",
      "provenance": [],
      "collapsed_sections": [],
      "include_colab_link": true
    },
    "kernelspec": {
      "name": "python3",
      "display_name": "Python 3"
    },
    "accelerator": "GPU"
  },
  "cells": [
    {
      "cell_type": "markdown",
      "metadata": {
        "id": "view-in-github",
        "colab_type": "text"
      },
      "source": [
        "<a href=\"https://colab.research.google.com/github/teng-joyeen/teng-joyeen.github.io/blob/master/Multi_Class_Weather_Recognition_and_Classification_on_Outdoor_Images_2.ipynb\" target=\"_parent\"><img src=\"https://colab.research.google.com/assets/colab-badge.svg\" alt=\"Open In Colab\"/></a>"
      ]
    },
    {
      "cell_type": "code",
      "metadata": {
        "id": "MaNTN_e5fv2e",
        "colab_type": "code",
        "colab": {}
      },
      "source": [
        "# Install the PyDrive wrapper & import libraries.\n",
        "# This only needs to be done once per notebook.\n",
        "!pip install -U -q PyDrive\n",
        "from pydrive.auth import GoogleAuth\n",
        "from pydrive.drive import GoogleDrive\n",
        "from google.colab import auth\n",
        "from oauth2client.client import GoogleCredentials\n",
        "\n",
        "# Authenticate and create the PyDrive client.\n",
        "# This only needs to be done once per notebook.\n",
        "auth.authenticate_user()\n",
        "gauth = GoogleAuth()\n",
        "gauth.credentials = GoogleCredentials.get_application_default()\n",
        "drive = GoogleDrive(gauth)"
      ],
      "execution_count": 0,
      "outputs": []
    },
    {
      "cell_type": "code",
      "metadata": {
        "id": "gj3KsuUmr2OI",
        "colab_type": "code",
        "outputId": "c88047c3-dddf-44aa-fe6f-343dc5ce1923",
        "colab": {
          "base_uri": "https://localhost:8080/",
          "height": 127
        }
      },
      "source": [
        "from google.colab import drive\n",
        "drive.mount('/content/drive')"
      ],
      "execution_count": 0,
      "outputs": [
        {
          "output_type": "stream",
          "text": [
            "Go to this URL in a browser: https://accounts.google.com/o/oauth2/auth?client_id=947318989803-6bn6qk8qdgf4n4g3pfee6491hc0brc4i.apps.googleusercontent.com&redirect_uri=urn%3Aietf%3Awg%3Aoauth%3A2.0%3Aoob&scope=email%20https%3A%2F%2Fwww.googleapis.com%2Fauth%2Fdocs.test%20https%3A%2F%2Fwww.googleapis.com%2Fauth%2Fdrive%20https%3A%2F%2Fwww.googleapis.com%2Fauth%2Fdrive.photos.readonly%20https%3A%2F%2Fwww.googleapis.com%2Fauth%2Fpeopleapi.readonly&response_type=code\n",
            "\n",
            "Enter your authorization code:\n",
            "··········\n",
            "Mounted at /content/drive\n"
          ],
          "name": "stdout"
        }
      ]
    },
    {
      "cell_type": "code",
      "metadata": {
        "id": "aJSUI6XUsYXf",
        "colab_type": "code",
        "colab": {}
      },
      "source": [
        "import os\n",
        "import zipfile\n",
        "\n",
        "local_zip = '/content/drive/My Drive/weather_classification.zip'\n",
        "zip_ref = zipfile.ZipFile(local_zip, 'r')\n",
        "zip_ref.extractall('/My Drive/weather_classification')\n",
        "zip_ref.close()"
      ],
      "execution_count": 0,
      "outputs": []
    },
    {
      "cell_type": "code",
      "metadata": {
        "id": "ZOUqEpocoOwI",
        "colab_type": "code",
        "colab": {}
      },
      "source": [
        "!rm -rf weather_classification.zip"
      ],
      "execution_count": 0,
      "outputs": []
    },
    {
      "cell_type": "code",
      "metadata": {
        "id": "czSIQE2K0m5V",
        "colab_type": "code",
        "colab": {}
      },
      "source": [
        "import os, shutil\n",
        "\n",
        "cloudy_dataset_dir = '/My Drive/weather_classification/cloudy'\n",
        "rainy_dataset_dir = '/My Drive/weather_classification/rainy'\n",
        "sunny_dataset_dir = '/My Drive/weather_classification/sunny'\n",
        "snowy_dataset_dir = '/My Drive/weather_classification/snowy'\n",
        "\n",
        "base_dir = '/My Drive/weather'\n",
        "os.mkdir(base_dir)\n",
        "\n",
        "train_dir = os.path.join(base_dir, 'train')\n",
        "os.mkdir(train_dir)\n",
        "validation_dir = os.path.join(base_dir, 'validation')\n",
        "os.mkdir(validation_dir)\n",
        "test_dir = os.path.join(base_dir, 'test')\n",
        "os.mkdir(test_dir)\n",
        "\n",
        "train_cloudy_dir = os.path.join(train_dir, 'cloudy')\n",
        "os.mkdir(train_cloudy_dir)\n",
        "train_rainy_dir = os.path.join(train_dir, 'rainy')\n",
        "os.mkdir(train_rainy_dir)\n",
        "train_sunny_dir = os.path.join(train_dir, 'sunny')\n",
        "os.mkdir(train_sunny_dir)\n",
        "train_snowy_dir = os.path.join(train_dir, 'snowy')\n",
        "os.mkdir(train_snowy_dir)\n",
        "\n",
        "validation_cloudy_dir = os.path.join(validation_dir, 'cloudy')\n",
        "os.mkdir(validation_cloudy_dir)\n",
        "validation_rainy_dir = os.path.join(validation_dir, 'rainy')\n",
        "os.mkdir(validation_rainy_dir)\n",
        "validation_sunny_dir = os.path.join(validation_dir, 'sunny')\n",
        "os.mkdir(validation_sunny_dir)\n",
        "validation_snowy_dir = os.path.join(validation_dir, 'snowy')\n",
        "os.mkdir(validation_snowy_dir)\n",
        "\n",
        "test_cloudy_dir = os.path.join(test_dir, 'cloudy')\n",
        "os.mkdir(test_cloudy_dir)\n",
        "test_rainy_dir = os.path.join(test_dir, 'rainy')\n",
        "os.mkdir(test_rainy_dir)\n",
        "test_sunny_dir = os.path.join(test_dir, 'sunny')\n",
        "os.mkdir(test_sunny_dir)\n",
        "test_snowy_dir = os.path.join(test_dir, 'snowy')\n",
        "os.mkdir(test_snowy_dir)"
      ],
      "execution_count": 0,
      "outputs": []
    },
    {
      "cell_type": "code",
      "metadata": {
        "id": "-EmjHPQWxQQX",
        "colab_type": "code",
        "outputId": "3f9f5bff-c81e-4897-96f8-c22923ec22b7",
        "colab": {
          "base_uri": "https://localhost:8080/",
          "height": 233
        }
      },
      "source": [
        "fnames = ['cloudy_0000{}.jpg'.format(i) for i in range(0, 10)]\n",
        "for fname in fnames:\n",
        "  src = os.path.join(cloudy_dataset_dir, fname)\n",
        "  dst = os.path.join(train_cloudy_dir, fname)\n",
        "  shutil.copyfile(src, dst)\n",
        "\n",
        "fnames = ['cloudy_000{}.jpg'.format(i) for i in range(10, 100)]\n",
        "for fname in fnames:\n",
        "  src = os.path.join(cloudy_dataset_dir, fname)\n",
        "  dst = os.path.join(train_cloudy_dir, fname)\n",
        "  shutil.copyfile(src, dst)\n",
        "  \n",
        "fnames = ['cloudy_00{}.jpg'.format(i) for i in range(100, 1000)]\n",
        "for fname in fnames:\n",
        "  src = os.path.join(cloudy_dataset_dir, fname)\n",
        "  dst = os.path.join(train_cloudy_dir, fname)\n",
        "  shutil.copyfile(src, dst)\n",
        "  \n",
        "fnames = ['cloudy_0{}.jpg'.format(i) for i in range(1000, 6000)]\n",
        "for fname in fnames:\n",
        "  src = os.path.join(cloudy_dataset_dir, fname)\n",
        "  dst = os.path.join(train_cloudy_dir, fname)\n",
        "  shutil.copyfile(src, dst)  \n",
        "  \n",
        "fnames = ['cloudy_0{}.jpg'.format(i) for i in range(6000, 8000)]\n",
        "for fname in fnames:\n",
        "  src = os.path.join(cloudy_dataset_dir, fname)\n",
        "  dst = os.path.join(validation_cloudy_dir, fname)\n",
        "  shutil.copyfile(src, dst)\n",
        "  \n",
        "fnames = ['cloudy_0{}.jpg'.format(i) for i in range(8000, 10000)]\n",
        "for fname in fnames:\n",
        "  src = os.path.join(cloudy_dataset_dir, fname)\n",
        "  dst = os.path.join(test_cloudy_dir, fname)\n",
        "  shutil.copyfile(src, dst)\n",
        "  \n",
        "fnames = ['rainy_0000{}.jpg'.format(i) for i in range(0, 10)]\n",
        "for fname in fnames:\n",
        "  src = os.path.join(rainy_dataset_dir, fname)\n",
        "  dst = os.path.join(train_rainy_dir, fname)\n",
        "  shutil.copyfile(src, dst)\n",
        "\n",
        "fnames = ['rainy_000{}.jpg'.format(i) for i in range(10, 100)]\n",
        "for fname in fnames:\n",
        "  src = os.path.join(rainy_dataset_dir, fname)\n",
        "  dst = os.path.join(train_rainy_dir, fname)\n",
        "  shutil.copyfile(src, dst)\n",
        "  \n",
        "fnames = ['rainy_00{}.jpg'.format(i) for i in range(100, 1000)]\n",
        "for fname in fnames:\n",
        "  src = os.path.join(rainy_dataset_dir, fname)\n",
        "  dst = os.path.join(train_rainy_dir, fname)\n",
        "  shutil.copyfile(src, dst)\n",
        "  \n",
        "fnames = ['rainy_0{}.jpg'.format(i) for i in range(1000, 6000)]\n",
        "for fname in fnames:\n",
        "  src = os.path.join(rainy_dataset_dir, fname)\n",
        "  dst = os.path.join(train_rainy_dir, fname)\n",
        "  shutil.copyfile(src, dst)  \n",
        "  \n",
        "fnames = ['rainy_0{}.jpg'.format(i) for i in range(6000, 8000)]\n",
        "for fname in fnames:\n",
        "  src = os.path.join(rainy_dataset_dir, fname)\n",
        "  dst = os.path.join(validation_rainy_dir, fname)\n",
        "  shutil.copyfile(src, dst)\n",
        "\n",
        "fnames = ['rainy_0{}.jpg'.format(i) for i in range(8000, 10000)]\n",
        "for fname in fnames:\n",
        "  src = os.path.join(rainy_dataset_dir, fname)\n",
        "  dst = os.path.join(test_rainy_dir, fname)\n",
        "  shutil.copyfile(src, dst) \n",
        "\n",
        "fnames = ['sunny_0000{}.jpg'.format(i) for i in range(0, 10)]\n",
        "for fname in fnames:\n",
        "  src = os.path.join(sunny_dataset_dir, fname)\n",
        "  dst = os.path.join(train_sunny_dir, fname)\n",
        "  shutil.copyfile(src, dst)\n",
        "\n",
        "fnames = ['sunny_000{}.jpg'.format(i) for i in range(10, 100)]\n",
        "for fname in fnames:\n",
        "  src = os.path.join(sunny_dataset_dir, fname)\n",
        "  dst = os.path.join(train_sunny_dir, fname)\n",
        "  shutil.copyfile(src, dst)\n",
        "  \n",
        "fnames = ['sunny_00{}.jpg'.format(i) for i in range(100, 1000)]\n",
        "for fname in fnames:\n",
        "  src = os.path.join(sunny_dataset_dir, fname)\n",
        "  dst = os.path.join(train_sunny_dir, fname)\n",
        "  shutil.copyfile(src, dst)\n",
        "  \n",
        "fnames = ['sunny_0{}.jpg'.format(i) for i in range(1000, 6000)]\n",
        "for fname in fnames:\n",
        "  src = os.path.join(sunny_dataset_dir, fname)\n",
        "  dst = os.path.join(train_sunny_dir, fname)\n",
        "  shutil.copyfile(src, dst)  \n",
        "  \n",
        "fnames = ['sunny_0{}.jpg'.format(i) for i in range(6000, 8000)]\n",
        "for fname in fnames:\n",
        "  src = os.path.join(sunny_dataset_dir, fname)\n",
        "  dst = os.path.join(validation_sunny_dir, fname)\n",
        "  shutil.copyfile(src, dst)\n",
        "\n",
        "fnames = ['sunny_0{}.jpg'.format(i) for i in range(8000, 10000)]\n",
        "for fname in fnames:\n",
        "  src = os.path.join(sunny_dataset_dir, fname)\n",
        "  dst = os.path.join(test_sunny_dir, fname)\n",
        "  shutil.copyfile(src, dst)\n",
        "  \n",
        "fnames = ['snow_0000{}.jpg'.format(i) for i in range(0, 10)]\n",
        "for fname in fnames:\n",
        "  src = os.path.join(snowy_dataset_dir, fname)\n",
        "  dst = os.path.join(train_snowy_dir, fname)\n",
        "  shutil.copyfile(src, dst)\n",
        "\n",
        "fnames = ['snow_000{}.jpg'.format(i) for i in range(10, 100)]\n",
        "for fname in fnames:\n",
        "  src = os.path.join(snowy_dataset_dir, fname)\n",
        "  dst = os.path.join(train_snowy_dir, fname)\n",
        "  shutil.copyfile(src, dst)\n",
        "  \n",
        "fnames = ['snow_00{}.jpg'.format(i) for i in range(100, 1000)]\n",
        "for fname in fnames:\n",
        "  src = os.path.join(snowy_dataset_dir, fname)\n",
        "  dst = os.path.join(train_snowy_dir, fname)\n",
        "  shutil.copyfile(src, dst)\n",
        "  \n",
        "fnames = ['snow_0{}.jpg'.format(i) for i in range(1000, 6000)]\n",
        "for fname in fnames:\n",
        "  src = os.path.join(snowy_dataset_dir, fname)\n",
        "  dst = os.path.join(train_snowy_dir, fname)\n",
        "  shutil.copyfile(src, dst)  \n",
        "  \n",
        "fnames = ['snow_0{}.jpg'.format(i) for i in range(6000, 8000)]\n",
        "for fname in fnames:\n",
        "  src = os.path.join(snowy_dataset_dir, fname)\n",
        "  dst = os.path.join(validation_snowy_dir, fname)\n",
        "  shutil.copyfile(src, dst)\n",
        "\n",
        "fnames = ['snow_0{}.jpg'.format(i) for i in range(8000, 10000)]\n",
        "for fname in fnames:\n",
        "  src = os.path.join(snowy_dataset_dir, fname)\n",
        "  dst = os.path.join(test_snowy_dir, fname)\n",
        "  shutil.copyfile(src, dst)\n",
        "  \n",
        "print('total training cloudy images:', len(os.listdir(train_cloudy_dir)))\n",
        "print('total training rainy images:', len(os.listdir(train_rainy_dir)))\n",
        "print('total training sunny images:', len(os.listdir(train_sunny_dir)))\n",
        "print('total training snowy images:', len(os.listdir(train_snowy_dir)))\n",
        "  \n",
        "print('total validation cloudy images:', len(os.listdir(validation_cloudy_dir)))\n",
        "print('total validation rainy images:', len(os.listdir(validation_rainy_dir)))\n",
        "print('total validation sunny images:', len(os.listdir(validation_sunny_dir)))\n",
        "print('total validation snowy images:', len(os.listdir(validation_snowy_dir)))\n",
        "\n",
        "print('total test cloudy images:', len(os.listdir(test_cloudy_dir)))\n",
        "print('total test rainy images:', len(os.listdir(test_rainy_dir)))\n",
        "print('total test sunny images:', len(os.listdir(test_sunny_dir)))\n",
        "print('total test snowy images:', len(os.listdir(test_snowy_dir)))"
      ],
      "execution_count": 0,
      "outputs": [
        {
          "output_type": "stream",
          "text": [
            "total training cloudy images: 6000\n",
            "total training rainy images: 6000\n",
            "total training sunny images: 6000\n",
            "total training snowy images: 6000\n",
            "total validation cloudy images: 2000\n",
            "total validation rainy images: 2000\n",
            "total validation sunny images: 2000\n",
            "total validation snowy images: 2000\n",
            "total test cloudy images: 2000\n",
            "total test rainy images: 2000\n",
            "total test sunny images: 2000\n",
            "total test snowy images: 2000\n"
          ],
          "name": "stdout"
        }
      ]
    },
    {
      "cell_type": "code",
      "metadata": {
        "id": "mDizE6CdCGKe",
        "colab_type": "code",
        "colab": {}
      },
      "source": [
        "!pip install -q keras"
      ],
      "execution_count": 0,
      "outputs": []
    },
    {
      "cell_type": "code",
      "metadata": {
        "id": "cHRWaMpjXPeg",
        "colab_type": "code",
        "colab": {}
      },
      "source": [
        "import keras"
      ],
      "execution_count": 0,
      "outputs": []
    },
    {
      "cell_type": "code",
      "metadata": {
        "id": "-JAIXKR9T_6N",
        "colab_type": "code",
        "outputId": "fa5d1eec-b0e0-4105-e568-7cee8bc41f61",
        "colab": {
          "base_uri": "https://localhost:8080/",
          "height": 53
        }
      },
      "source": [
        "from keras.preprocessing.image import ImageDataGenerator\n",
        "\n",
        "train_datagen = ImageDataGenerator(rescale=1./255)\n",
        "test_datagen = ImageDataGenerator(rescale=1./255)\n",
        "\n",
        "train_generator = train_datagen.flow_from_directory(\n",
        "        train_dir,  \n",
        "        target_size=(150, 150),  \n",
        "        batch_size=32,\n",
        "        class_mode='categorical')\n",
        "\n",
        "validation_generator = test_datagen.flow_from_directory(\n",
        "        validation_dir,\n",
        "        target_size=(150, 150),\n",
        "        batch_size=32,\n",
        "        class_mode='categorical')"
      ],
      "execution_count": 0,
      "outputs": [
        {
          "output_type": "stream",
          "text": [
            "Found 24000 images belonging to 4 classes.\n",
            "Found 8000 images belonging to 4 classes.\n"
          ],
          "name": "stdout"
        }
      ]
    },
    {
      "cell_type": "code",
      "metadata": {
        "id": "WLc5Mi1PEeGO",
        "colab_type": "code",
        "outputId": "b95e6cf7-314b-442a-de51-0a00ebecc7dd",
        "colab": {
          "base_uri": "https://localhost:8080/",
          "height": 527
        }
      },
      "source": [
        "# First model\n",
        "from keras import layers\n",
        "from keras import models\n",
        "\n",
        "model = models. Sequential()\n",
        "model.add(layers.Conv2D(32, (3, 3), activation='relu', input_shape=(150, 150, 3)))\n",
        "model.add(layers.MaxPooling2D((2, 2)))\n",
        "model.add(layers.Conv2D(64, (3, 3), activation='relu'))\n",
        "model.add(layers.MaxPooling2D((2, 2)))\n",
        "model.add(layers.Conv2D(128, (3, 3), activation='relu'))\n",
        "model.add(layers.MaxPooling2D((2, 2)))\n",
        "model.add(layers.Conv2D(128, (3, 3), activation='relu'))\n",
        "model.add(layers.MaxPooling2D((2, 2)))\n",
        "model.add(layers.Flatten())\n",
        "model.add(layers.Dense(512, activation='relu'))\n",
        "model.add(layers.Dense(4, activation='softmax'))\n",
        "\n",
        "model.summary()"
      ],
      "execution_count": 0,
      "outputs": [
        {
          "output_type": "stream",
          "text": [
            "Model: \"sequential_3\"\n",
            "_________________________________________________________________\n",
            "Layer (type)                 Output Shape              Param #   \n",
            "=================================================================\n",
            "conv2d_9 (Conv2D)            (None, 148, 148, 32)      896       \n",
            "_________________________________________________________________\n",
            "max_pooling2d_9 (MaxPooling2 (None, 74, 74, 32)        0         \n",
            "_________________________________________________________________\n",
            "conv2d_10 (Conv2D)           (None, 72, 72, 64)        18496     \n",
            "_________________________________________________________________\n",
            "max_pooling2d_10 (MaxPooling (None, 36, 36, 64)        0         \n",
            "_________________________________________________________________\n",
            "conv2d_11 (Conv2D)           (None, 34, 34, 128)       73856     \n",
            "_________________________________________________________________\n",
            "max_pooling2d_11 (MaxPooling (None, 17, 17, 128)       0         \n",
            "_________________________________________________________________\n",
            "conv2d_12 (Conv2D)           (None, 15, 15, 128)       147584    \n",
            "_________________________________________________________________\n",
            "max_pooling2d_12 (MaxPooling (None, 7, 7, 128)         0         \n",
            "_________________________________________________________________\n",
            "flatten_3 (Flatten)          (None, 6272)              0         \n",
            "_________________________________________________________________\n",
            "dense_5 (Dense)              (None, 512)               3211776   \n",
            "_________________________________________________________________\n",
            "dense_6 (Dense)              (None, 4)                 2052      \n",
            "=================================================================\n",
            "Total params: 3,454,660\n",
            "Trainable params: 3,454,660\n",
            "Non-trainable params: 0\n",
            "_________________________________________________________________\n"
          ],
          "name": "stdout"
        }
      ]
    },
    {
      "cell_type": "code",
      "metadata": {
        "id": "jcz4KkISEolp",
        "colab_type": "code",
        "outputId": "4a6b7c66-2555-4a6e-8c64-e21b9a3e5424",
        "colab": {
          "base_uri": "https://localhost:8080/",
          "height": 357
        }
      },
      "source": [
        "from keras import optimizers \n",
        "\n",
        "model.compile(loss='categorical_crossentropy',\n",
        "              optimizer= optimizers.RMSprop(lr=0.001),\n",
        "              metrics=['acc'])\n",
        "\n",
        "history = model.fit_generator(\n",
        "      train_generator,\n",
        "      steps_per_epoch=750,  # 24000 images = batch_size * steps\n",
        "      epochs=10,\n",
        "      validation_data=validation_generator,\n",
        "      validation_steps=250,  # 8000 images = batch_size * steps\n",
        "      verbose=2)"
      ],
      "execution_count": 0,
      "outputs": [
        {
          "output_type": "stream",
          "text": [
            "Epoch 1/10\n",
            " - 144s - loss: 1.0444 - acc: 0.5580 - val_loss: 0.8555 - val_acc: 0.6414\n",
            "Epoch 2/10\n",
            " - 143s - loss: 0.8518 - acc: 0.6529 - val_loss: 0.7900 - val_acc: 0.6741\n",
            "Epoch 3/10\n",
            " - 143s - loss: 0.7830 - acc: 0.6878 - val_loss: 0.7597 - val_acc: 0.6861\n",
            "Epoch 4/10\n",
            " - 142s - loss: 0.7369 - acc: 0.7073 - val_loss: 0.8120 - val_acc: 0.6749\n",
            "Epoch 5/10\n",
            " - 142s - loss: 0.7039 - acc: 0.7222 - val_loss: 0.7357 - val_acc: 0.6973\n",
            "Epoch 6/10\n",
            " - 143s - loss: 0.6834 - acc: 0.7344 - val_loss: 0.7117 - val_acc: 0.7131\n",
            "Epoch 7/10\n",
            " - 142s - loss: 0.6706 - acc: 0.7378 - val_loss: 0.8420 - val_acc: 0.6787\n",
            "Epoch 8/10\n",
            " - 142s - loss: 0.6687 - acc: 0.7406 - val_loss: 0.7855 - val_acc: 0.7063\n",
            "Epoch 9/10\n",
            " - 142s - loss: 0.6562 - acc: 0.7463 - val_loss: 0.8177 - val_acc: 0.6587\n",
            "Epoch 10/10\n",
            " - 143s - loss: 0.6561 - acc: 0.7490 - val_loss: 0.8705 - val_acc: 0.7094\n"
          ],
          "name": "stdout"
        }
      ]
    },
    {
      "cell_type": "code",
      "metadata": {
        "id": "zB9pimq6EpIX",
        "colab_type": "code",
        "outputId": "481bbf38-e39e-403d-a392-aa8678115168",
        "colab": {
          "base_uri": "https://localhost:8080/",
          "height": 85
        }
      },
      "source": [
        "train_loss, train_acc = model.evaluate_generator(train_generator, steps=50)\n",
        "print('train_acc:', train_acc)\n",
        "print('train_loss:', train_loss)\n",
        "\n",
        "validation_loss, validation_acc = model.evaluate_generator(validation_generator, steps=50)\n",
        "print('validation_acc:', validation_acc)\n",
        "print('validation_loss:', validation_loss)"
      ],
      "execution_count": 0,
      "outputs": [
        {
          "output_type": "stream",
          "text": [
            "train_acc: 0.79875\n",
            "train_loss: 0.5513026481866836\n",
            "validation_acc: 0.703125\n",
            "validation_loss: 0.8647859221696854\n"
          ],
          "name": "stdout"
        }
      ]
    },
    {
      "cell_type": "code",
      "metadata": {
        "id": "uUJMmyqrEpYE",
        "colab_type": "code",
        "outputId": "a06df5fa-9098-42a6-f850-43977aa765f4",
        "colab": {
          "base_uri": "https://localhost:8080/",
          "height": 545
        }
      },
      "source": [
        "import matplotlib.pyplot as plt\n",
        "\n",
        "acc = history.history['acc']\n",
        "val_acc = history.history['val_acc']\n",
        "loss = history.history['loss']\n",
        "val_loss = history.history['val_loss']\n",
        "\n",
        "epochs = range(1, len(acc) + 1)\n",
        "\n",
        "plt.plot(epochs, acc, 'bo', label='Training acc')\n",
        "plt.plot(epochs, val_acc, 'b', label='Validation acc')\n",
        "plt.title('Training and validation accuracy')\n",
        "plt.legend()\n",
        "\n",
        "plt.figure()\n",
        "\n",
        "# Plot training and validation loss per epoch\n",
        "plt.plot(epochs, loss, 'bo', label='Training loss')\n",
        "plt.plot(epochs, val_loss, 'b', label='Validation loss')\n",
        "plt.title('Training and validation loss')\n",
        "plt.legend()\n",
        "\n",
        "plt.show()"
      ],
      "execution_count": 0,
      "outputs": [
        {
          "output_type": "display_data",
          "data": {
            "image/png": "[encoded data removed]",
            "text/plain": [
              "<Figure size 432x288 with 1 Axes>"
            ]
          },
          "metadata": {
            "tags": []
          }
        },
        {
          "output_type": "display_data",
          "data": {
            "image/png": "[encoded data removed]",
            "text/plain": [
              "<Figure size 432x288 with 1 Axes>"
            ]
          },
          "metadata": {
            "tags": []
          }
        }
      ]
    },
    {
      "cell_type": "code",
      "metadata": {
        "id": "0GNhn7DLE_hd",
        "colab_type": "code",
        "colab": {}
      },
      "source": [
        "model.save('/content/drive/My Drive/Multi-Class Weather/weather_1.h5')"
      ],
      "execution_count": 0,
      "outputs": []
    },
    {
      "cell_type": "code",
      "metadata": {
        "id": "I8l1jmUpBVVd",
        "colab_type": "code",
        "outputId": "2810dfc4-2088-4990-aeba-0c722f96c60a",
        "colab": {
          "base_uri": "https://localhost:8080/",
          "height": 527
        }
      },
      "source": [
        "# Reduce number of neurons in dense layer\n",
        "from keras import layers\n",
        "from keras import models\n",
        "\n",
        "smaller_model = models. Sequential()\n",
        "smaller_model.add(layers.Conv2D(32, (3, 3), activation='relu', input_shape=(150, 150, 3)))\n",
        "smaller_model.add(layers.MaxPooling2D((2, 2)))\n",
        "smaller_model.add(layers.Conv2D(64, (3, 3), activation='relu'))\n",
        "smaller_model.add(layers.MaxPooling2D((2, 2)))\n",
        "smaller_model.add(layers.Conv2D(128, (3, 3), activation='relu'))\n",
        "smaller_model.add(layers.MaxPooling2D((2, 2)))\n",
        "smaller_model.add(layers.Conv2D(128, (3, 3), activation='relu'))\n",
        "smaller_model.add(layers.MaxPooling2D((2, 2)))\n",
        "smaller_model.add(layers.Flatten())\n",
        "smaller_model.add(layers.Dense(256, activation='relu'))\n",
        "smaller_model.add(layers.Dense(4, activation='softmax'))\n",
        "\n",
        "smaller_model.summary()"
      ],
      "execution_count": 0,
      "outputs": [
        {
          "output_type": "stream",
          "text": [
            "Model: \"sequential_4\"\n",
            "_________________________________________________________________\n",
            "Layer (type)                 Output Shape              Param #   \n",
            "=================================================================\n",
            "conv2d_13 (Conv2D)           (None, 148, 148, 32)      896       \n",
            "_________________________________________________________________\n",
            "max_pooling2d_13 (MaxPooling (None, 74, 74, 32)        0         \n",
            "_________________________________________________________________\n",
            "conv2d_14 (Conv2D)           (None, 72, 72, 64)        18496     \n",
            "_________________________________________________________________\n",
            "max_pooling2d_14 (MaxPooling (None, 36, 36, 64)        0         \n",
            "_________________________________________________________________\n",
            "conv2d_15 (Conv2D)           (None, 34, 34, 128)       73856     \n",
            "_________________________________________________________________\n",
            "max_pooling2d_15 (MaxPooling (None, 17, 17, 128)       0         \n",
            "_________________________________________________________________\n",
            "conv2d_16 (Conv2D)           (None, 15, 15, 128)       147584    \n",
            "_________________________________________________________________\n",
            "max_pooling2d_16 (MaxPooling (None, 7, 7, 128)         0         \n",
            "_________________________________________________________________\n",
            "flatten_4 (Flatten)          (None, 6272)              0         \n",
            "_________________________________________________________________\n",
            "dense_7 (Dense)              (None, 256)               1605888   \n",
            "_________________________________________________________________\n",
            "dense_8 (Dense)              (None, 4)                 1028      \n",
            "=================================================================\n",
            "Total params: 1,847,748\n",
            "Trainable params: 1,847,748\n",
            "Non-trainable params: 0\n",
            "_________________________________________________________________\n"
          ],
          "name": "stdout"
        }
      ]
    },
    {
      "cell_type": "code",
      "metadata": {
        "id": "OYIKk1JiQJqL",
        "colab_type": "code",
        "colab": {}
      },
      "source": [
        "from keras import optimizers \n",
        "\n",
        "smaller_model.compile(loss='categorical_crossentropy',\n",
        "              optimizer= optimizers.RMSprop(lr=0.001),\n",
        "              metrics=['acc'])"
      ],
      "execution_count": 0,
      "outputs": []
    },
    {
      "cell_type": "code",
      "metadata": {
        "id": "6c8Vfig2VJTt",
        "colab_type": "code",
        "outputId": "6e504b26-4512-49d4-9b5e-eb8155d687fc",
        "colab": {
          "base_uri": "https://localhost:8080/",
          "height": 357
        }
      },
      "source": [
        "smaller_history = smaller_model.fit_generator(\n",
        "      train_generator,\n",
        "      steps_per_epoch=750,  # 24000 images = batch_size * steps\n",
        "      epochs=10,\n",
        "      validation_data=validation_generator,\n",
        "      validation_steps=250,  # 8000 images = batch_size * steps\n",
        "      verbose=2)"
      ],
      "execution_count": 0,
      "outputs": [
        {
          "output_type": "stream",
          "text": [
            "Epoch 1/10\n",
            " - 146s - loss: 1.0841 - acc: 0.5388 - val_loss: 0.8561 - val_acc: 0.6462\n",
            "Epoch 2/10\n",
            " - 143s - loss: 0.8651 - acc: 0.6450 - val_loss: 0.8087 - val_acc: 0.6663\n",
            "Epoch 3/10\n",
            " - 142s - loss: 0.7876 - acc: 0.6786 - val_loss: 0.8348 - val_acc: 0.6624\n",
            "Epoch 4/10\n",
            " - 141s - loss: 0.7431 - acc: 0.7033 - val_loss: 0.7495 - val_acc: 0.6997\n",
            "Epoch 5/10\n",
            " - 142s - loss: 0.7124 - acc: 0.7174 - val_loss: 0.7398 - val_acc: 0.7059\n",
            "Epoch 6/10\n",
            " - 141s - loss: 0.6828 - acc: 0.7343 - val_loss: 0.7706 - val_acc: 0.7010\n",
            "Epoch 7/10\n",
            " - 142s - loss: 0.6704 - acc: 0.7420 - val_loss: 0.7478 - val_acc: 0.7067\n",
            "Epoch 8/10\n",
            " - 142s - loss: 0.6535 - acc: 0.7466 - val_loss: 0.9215 - val_acc: 0.6400\n",
            "Epoch 9/10\n",
            " - 142s - loss: 0.6413 - acc: 0.7517 - val_loss: 0.7612 - val_acc: 0.7096\n",
            "Epoch 10/10\n",
            " - 142s - loss: 0.6433 - acc: 0.7536 - val_loss: 0.7727 - val_acc: 0.7104\n"
          ],
          "name": "stdout"
        }
      ]
    },
    {
      "cell_type": "code",
      "metadata": {
        "id": "FBuek8QueExs",
        "colab_type": "code",
        "outputId": "8def782c-386a-44b4-c935-88cfd5a56818",
        "colab": {
          "base_uri": "https://localhost:8080/",
          "height": 85
        }
      },
      "source": [
        "train_loss, train_acc = smaller_model.evaluate_generator(train_generator, steps=50)\n",
        "print('train_acc:', train_acc)\n",
        "print('train_loss:', train_loss)\n",
        "\n",
        "validation_loss, validation_acc = smaller_model.evaluate_generator(validation_generator, steps=50)\n",
        "print('validation_acc:', validation_acc)\n",
        "print('validation_loss:', validation_loss)"
      ],
      "execution_count": 0,
      "outputs": [
        {
          "output_type": "stream",
          "text": [
            "train_acc: 0.80125\n",
            "train_loss: 0.5203821754455566\n",
            "validation_acc: 0.696875\n",
            "validation_loss: 0.7696607726812362\n"
          ],
          "name": "stdout"
        }
      ]
    },
    {
      "cell_type": "code",
      "metadata": {
        "id": "9VZP8e7KXozH",
        "colab_type": "code",
        "outputId": "0bdebdd2-1aa2-4ac6-e13c-a860b9e06061",
        "colab": {
          "base_uri": "https://localhost:8080/",
          "height": 545
        }
      },
      "source": [
        "import matplotlib.pyplot as plt\n",
        "\n",
        "acc = smaller_history.history['acc']\n",
        "val_acc = smaller_history.history['val_acc']\n",
        "loss = smaller_history.history['loss']\n",
        "val_loss = smaller_history.history['val_loss']\n",
        "\n",
        "epochs = range(1, len(acc) + 1)\n",
        "\n",
        "plt.plot(epochs, acc, 'bo', label='Training acc')\n",
        "plt.plot(epochs, val_acc, 'b', label='Validation acc')\n",
        "plt.title('Training and validation accuracy')\n",
        "plt.legend()\n",
        "\n",
        "plt.figure()\n",
        "\n",
        "# Plot training and validation loss per epoch\n",
        "plt.plot(epochs, loss, 'bo', label='Training loss')\n",
        "plt.plot(epochs, val_loss, 'b', label='Validation loss')\n",
        "plt.title('Training and validation loss')\n",
        "plt.legend()\n",
        "\n",
        "plt.show()"
      ],
      "execution_count": 0,
      "outputs": [
        {
          "output_type": "display_data",
          "data": {
            "image/png": "[encoded data removed]",
            "text/plain": [
              "<Figure size 432x288 with 1 Axes>"
            ]
          },
          "metadata": {
            "tags": []
          }
        },
        {
          "output_type": "display_data",
          "data": {
            "image/png": "[encoded data removed]",
            "text/plain": [
              "<Figure size 432x288 with 1 Axes>"
            ]
          },
          "metadata": {
            "tags": []
          }
        }
      ]
    },
    {
      "cell_type": "code",
      "metadata": {
        "id": "BJX88xe3d4e4",
        "colab_type": "code",
        "colab": {}
      },
      "source": [
        "model.save('/content/drive/My Drive/Multi-Class Weather/weather_2.h5')"
      ],
      "execution_count": 0,
      "outputs": []
    },
    {
      "cell_type": "code",
      "metadata": {
        "id": "AVGj57QJJlSa",
        "colab_type": "code",
        "outputId": "49be3af2-c8d1-4196-e5e5-892bbc2b12fc",
        "colab": {
          "base_uri": "https://localhost:8080/",
          "height": 561
        }
      },
      "source": [
        "# Add one more dense layer\n",
        "from keras import layers\n",
        "from keras import models\n",
        "\n",
        "add_model = models. Sequential()\n",
        "add_model.add(layers.Conv2D(32, (3, 3), activation='relu', input_shape=(150, 150, 3)))\n",
        "add_model.add(layers.MaxPooling2D((2, 2)))\n",
        "add_model.add(layers.Conv2D(64, (3, 3), activation='relu'))\n",
        "add_model.add(layers.MaxPooling2D((2, 2)))\n",
        "add_model.add(layers.Conv2D(128, (3, 3), activation='relu'))\n",
        "add_model.add(layers.MaxPooling2D((2, 2)))\n",
        "add_model.add(layers.Conv2D(128, (3, 3), activation='relu'))\n",
        "add_model.add(layers.MaxPooling2D((2, 2)))\n",
        "add_model.add(layers.Flatten())\n",
        "add_model.add(layers.Dense(512, activation='relu'))\n",
        "add_model.add(layers.Dense(512, activation='relu'))\n",
        "add_model.add(layers.Dense(4, activation='softmax'))\n",
        "\n",
        "add_model.summary()"
      ],
      "execution_count": 0,
      "outputs": [
        {
          "output_type": "stream",
          "text": [
            "Model: \"sequential_5\"\n",
            "_________________________________________________________________\n",
            "Layer (type)                 Output Shape              Param #   \n",
            "=================================================================\n",
            "conv2d_17 (Conv2D)           (None, 148, 148, 32)      896       \n",
            "_________________________________________________________________\n",
            "max_pooling2d_17 (MaxPooling (None, 74, 74, 32)        0         \n",
            "_________________________________________________________________\n",
            "conv2d_18 (Conv2D)           (None, 72, 72, 64)        18496     \n",
            "_________________________________________________________________\n",
            "max_pooling2d_18 (MaxPooling (None, 36, 36, 64)        0         \n",
            "_________________________________________________________________\n",
            "conv2d_19 (Conv2D)           (None, 34, 34, 128)       73856     \n",
            "_________________________________________________________________\n",
            "max_pooling2d_19 (MaxPooling (None, 17, 17, 128)       0         \n",
            "_________________________________________________________________\n",
            "conv2d_20 (Conv2D)           (None, 15, 15, 128)       147584    \n",
            "_________________________________________________________________\n",
            "max_pooling2d_20 (MaxPooling (None, 7, 7, 128)         0         \n",
            "_________________________________________________________________\n",
            "flatten_5 (Flatten)          (None, 6272)              0         \n",
            "_________________________________________________________________\n",
            "dense_9 (Dense)              (None, 512)               3211776   \n",
            "_________________________________________________________________\n",
            "dense_10 (Dense)             (None, 512)               262656    \n",
            "_________________________________________________________________\n",
            "dense_11 (Dense)             (None, 4)                 2052      \n",
            "=================================================================\n",
            "Total params: 3,717,316\n",
            "Trainable params: 3,717,316\n",
            "Non-trainable params: 0\n",
            "_________________________________________________________________\n"
          ],
          "name": "stdout"
        }
      ]
    },
    {
      "cell_type": "code",
      "metadata": {
        "id": "j0253-PtK_R-",
        "colab_type": "code",
        "outputId": "27a9f8e6-320c-43c4-938b-5720b57e881b",
        "colab": {
          "base_uri": "https://localhost:8080/",
          "height": 357
        }
      },
      "source": [
        "from keras import optimizers \n",
        "\n",
        "add_model.compile(loss='categorical_crossentropy',\n",
        "              optimizer= optimizers.RMSprop(lr=0.001),\n",
        "              metrics=['acc'])\n",
        "\n",
        "add_history = add_model.fit_generator(\n",
        "      train_generator,\n",
        "      steps_per_epoch=750,  # 24000 images = batch_size * steps\n",
        "      epochs=10,\n",
        "      validation_data=validation_generator,\n",
        "      validation_steps=250,  # 8000 images = batch_size * steps\n",
        "      verbose=2)"
      ],
      "execution_count": 0,
      "outputs": [
        {
          "output_type": "stream",
          "text": [
            "Epoch 1/10\n",
            " - 144s - loss: 0.7550 - acc: 0.7079 - val_loss: 1.2035 - val_acc: 0.5964\n",
            "Epoch 2/10\n",
            " - 141s - loss: 0.7543 - acc: 0.7080 - val_loss: 0.9522 - val_acc: 0.6621\n",
            "Epoch 3/10\n",
            " - 142s - loss: 0.7506 - acc: 0.7114 - val_loss: 0.7683 - val_acc: 0.6964\n",
            "Epoch 4/10\n",
            " - 140s - loss: 0.7613 - acc: 0.7124 - val_loss: 0.8610 - val_acc: 0.6627\n",
            "Epoch 5/10\n",
            " - 137s - loss: 0.7517 - acc: 0.7064 - val_loss: 0.8403 - val_acc: 0.6680\n",
            "Epoch 6/10\n",
            " - 137s - loss: 0.7543 - acc: 0.7123 - val_loss: 0.7360 - val_acc: 0.7130\n",
            "Epoch 7/10\n",
            " - 135s - loss: 0.7448 - acc: 0.7130 - val_loss: 0.8370 - val_acc: 0.6936\n",
            "Epoch 8/10\n",
            " - 135s - loss: 0.7785 - acc: 0.7084 - val_loss: 0.8076 - val_acc: 0.6831\n",
            "Epoch 9/10\n",
            " - 135s - loss: 0.7546 - acc: 0.7131 - val_loss: 0.9560 - val_acc: 0.6686\n",
            "Epoch 10/10\n",
            " - 135s - loss: 0.7510 - acc: 0.7170 - val_loss: 0.9428 - val_acc: 0.6155\n"
          ],
          "name": "stdout"
        }
      ]
    },
    {
      "cell_type": "code",
      "metadata": {
        "id": "dSJPlLZlblSb",
        "colab_type": "code",
        "outputId": "f08468f1-3d86-4452-8721-328aa3600866",
        "colab": {
          "base_uri": "https://localhost:8080/",
          "height": 85
        }
      },
      "source": [
        "train_loss, train_acc = add_model.evaluate_generator(train_generator, steps=50)\n",
        "print('train_acc:', train_acc)\n",
        "print('train_loss:', train_loss)\n",
        "\n",
        "validation_loss, validation_acc = add_model.evaluate_generator(validation_generator, steps=50)\n",
        "print('validation_acc:', validation_acc)\n",
        "print('validation_loss:', validation_loss)"
      ],
      "execution_count": 0,
      "outputs": [
        {
          "output_type": "stream",
          "text": [
            "train_acc: 0.64\n",
            "train_loss: 0.8231290829181671\n",
            "validation_acc: 0.605625\n",
            "validation_loss: 0.9483880198001862\n"
          ],
          "name": "stdout"
        }
      ]
    },
    {
      "cell_type": "code",
      "metadata": {
        "id": "E0Mj75LSSjie",
        "colab_type": "code",
        "outputId": "e2eb5955-59e5-40f6-bf3e-65653005c9eb",
        "colab": {
          "base_uri": "https://localhost:8080/",
          "height": 545
        }
      },
      "source": [
        "import matplotlib.pyplot as plt\n",
        "\n",
        "acc = add_history.history['acc']\n",
        "val_acc = add_history.history['val_acc']\n",
        "loss = add_history.history['loss']\n",
        "val_loss = add_history.history['val_loss']\n",
        "\n",
        "epochs = range(1, len(acc) + 1)\n",
        "\n",
        "plt.plot(epochs, acc, 'bo', label='Training acc')\n",
        "plt.plot(epochs, val_acc, 'b', label='Validation acc')\n",
        "plt.title('Training and validation accuracy')\n",
        "plt.legend()\n",
        "\n",
        "plt.figure()\n",
        "\n",
        "# Plot training and validation loss per epoch\n",
        "plt.plot(epochs, loss, 'bo', label='Training loss')\n",
        "plt.plot(epochs, val_loss, 'b', label='Validation loss')\n",
        "plt.title('Training and validation loss')\n",
        "plt.legend()\n",
        "\n",
        "plt.show()"
      ],
      "execution_count": 0,
      "outputs": [
        {
          "output_type": "display_data",
          "data": {
            "image/png": "[encoded data removed]",
            "text/plain": [
              "<Figure size 432x288 with 1 Axes>"
            ]
          },
          "metadata": {
            "tags": []
          }
        },
        {
          "output_type": "display_data",
          "data": {
            "image/png": "[encoded data removed]",
            "text/plain": [
              "<Figure size 432x288 with 1 Axes>"
            ]
          },
          "metadata": {
            "tags": []
          }
        }
      ]
    },
    {
      "cell_type": "code",
      "metadata": {
        "id": "gYa4Tzklvrj7",
        "colab_type": "code",
        "colab": {}
      },
      "source": [
        "model.save('/content/drive/My Drive/Multi-Class Weather/weather_3.h5')"
      ],
      "execution_count": 0,
      "outputs": []
    },
    {
      "cell_type": "code",
      "metadata": {
        "id": "5vrcGEU1fj5E",
        "colab_type": "code",
        "outputId": "c9acc361-33ea-47f9-9253-e8ca3762876d",
        "colab": {
          "base_uri": "https://localhost:8080/",
          "height": 561
        }
      },
      "source": [
        "# Reduce number of neurons in both dense layers \n",
        "from keras import layers\n",
        "from keras import models\n",
        "\n",
        "smaller_add_model = models. Sequential()\n",
        "smaller_add_model.add(layers.Conv2D(32, (3, 3), activation='relu', input_shape=(150, 150, 3)))\n",
        "smaller_add_model.add(layers.MaxPooling2D((2, 2)))\n",
        "smaller_add_model.add(layers.Conv2D(64, (3, 3), activation='relu'))\n",
        "smaller_add_model.add(layers.MaxPooling2D((2, 2)))\n",
        "smaller_add_model.add(layers.Conv2D(128, (3, 3), activation='relu'))\n",
        "smaller_add_model.add(layers.MaxPooling2D((2, 2)))\n",
        "smaller_add_model.add(layers.Conv2D(128, (3, 3), activation='relu'))\n",
        "smaller_add_model.add(layers.MaxPooling2D((2, 2)))\n",
        "smaller_add_model.add(layers.Flatten())\n",
        "smaller_add_model.add(layers.Dense(256, activation='relu'))\n",
        "smaller_add_model.add(layers.Dense(256, activation='relu'))\n",
        "smaller_add_model.add(layers.Dense(4, activation='softmax'))\n",
        "\n",
        "smaller_add_model.summary()"
      ],
      "execution_count": 0,
      "outputs": [
        {
          "output_type": "stream",
          "text": [
            "Model: \"sequential_7\"\n",
            "_________________________________________________________________\n",
            "Layer (type)                 Output Shape              Param #   \n",
            "=================================================================\n",
            "conv2d_25 (Conv2D)           (None, 148, 148, 32)      896       \n",
            "_________________________________________________________________\n",
            "max_pooling2d_25 (MaxPooling (None, 74, 74, 32)        0         \n",
            "_________________________________________________________________\n",
            "conv2d_26 (Conv2D)           (None, 72, 72, 64)        18496     \n",
            "_________________________________________________________________\n",
            "max_pooling2d_26 (MaxPooling (None, 36, 36, 64)        0         \n",
            "_________________________________________________________________\n",
            "conv2d_27 (Conv2D)           (None, 34, 34, 128)       73856     \n",
            "_________________________________________________________________\n",
            "max_pooling2d_27 (MaxPooling (None, 17, 17, 128)       0         \n",
            "_________________________________________________________________\n",
            "conv2d_28 (Conv2D)           (None, 15, 15, 128)       147584    \n",
            "_________________________________________________________________\n",
            "max_pooling2d_28 (MaxPooling (None, 7, 7, 128)         0         \n",
            "_________________________________________________________________\n",
            "flatten_7 (Flatten)          (None, 6272)              0         \n",
            "_________________________________________________________________\n",
            "dense_15 (Dense)             (None, 256)               1605888   \n",
            "_________________________________________________________________\n",
            "dense_16 (Dense)             (None, 256)               65792     \n",
            "_________________________________________________________________\n",
            "dense_17 (Dense)             (None, 4)                 1028      \n",
            "=================================================================\n",
            "Total params: 1,913,540\n",
            "Trainable params: 1,913,540\n",
            "Non-trainable params: 0\n",
            "_________________________________________________________________\n"
          ],
          "name": "stdout"
        }
      ]
    },
    {
      "cell_type": "code",
      "metadata": {
        "id": "ntYxd4wCfkUW",
        "colab_type": "code",
        "outputId": "b430d044-b8bc-4600-d2ca-5dd38aa60d43",
        "colab": {
          "base_uri": "https://localhost:8080/",
          "height": 357
        }
      },
      "source": [
        "from keras import optimizers \n",
        "\n",
        "smaller_add_model.compile(loss='categorical_crossentropy',\n",
        "              optimizer= optimizers.RMSprop(lr=0.001),\n",
        "              metrics=['acc'])\n",
        "\n",
        "smaller_add_history = smaller_add_model.fit_generator(\n",
        "      train_generator,\n",
        "      steps_per_epoch=750,  # 24000 images = batch_size * steps\n",
        "      epochs=10,\n",
        "      validation_data=validation_generator,\n",
        "      validation_steps=250,  # 8000 images = batch_size * steps\n",
        "      verbose=2)"
      ],
      "execution_count": 0,
      "outputs": [
        {
          "output_type": "stream",
          "text": [
            "Epoch 1/10\n",
            " - 139s - loss: 1.0712 - acc: 0.5378 - val_loss: 0.8799 - val_acc: 0.6355\n",
            "Epoch 2/10\n",
            " - 134s - loss: 0.8840 - acc: 0.6367 - val_loss: 0.8058 - val_acc: 0.6667\n",
            "Epoch 3/10\n",
            " - 134s - loss: 0.8092 - acc: 0.6715 - val_loss: 0.7820 - val_acc: 0.6816\n",
            "Epoch 4/10\n",
            " - 133s - loss: 0.7702 - acc: 0.6950 - val_loss: 0.7692 - val_acc: 0.6979\n",
            "Epoch 5/10\n",
            " - 133s - loss: 0.7393 - acc: 0.7070 - val_loss: 0.8862 - val_acc: 0.6733\n",
            "Epoch 6/10\n",
            " - 133s - loss: 0.7208 - acc: 0.7131 - val_loss: 0.8823 - val_acc: 0.6644\n",
            "Epoch 7/10\n",
            " - 132s - loss: 0.7257 - acc: 0.7166 - val_loss: 0.7837 - val_acc: 0.6911\n",
            "Epoch 8/10\n",
            " - 131s - loss: 0.7179 - acc: 0.7205 - val_loss: 0.7844 - val_acc: 0.6923\n",
            "Epoch 9/10\n",
            " - 131s - loss: 0.7232 - acc: 0.7221 - val_loss: 0.7959 - val_acc: 0.6897\n",
            "Epoch 10/10\n",
            " - 130s - loss: 0.7367 - acc: 0.7187 - val_loss: 0.8840 - val_acc: 0.6801\n"
          ],
          "name": "stdout"
        }
      ]
    },
    {
      "cell_type": "code",
      "metadata": {
        "id": "Bznl8Xp8ctRQ",
        "colab_type": "code",
        "outputId": "11559b9c-4c0e-4715-f405-1c6903766fd1",
        "colab": {
          "base_uri": "https://localhost:8080/",
          "height": 85
        }
      },
      "source": [
        "train_loss, train_acc = smaller_add_model.evaluate_generator(train_generator, steps=50)\n",
        "print('train_acc:', train_acc)\n",
        "print('train_loss:', train_loss)\n",
        "\n",
        "validation_loss, validation_acc = smaller_add_model.evaluate_generator(validation_generator, steps=50)\n",
        "print('validation_acc:', validation_acc)\n",
        "print('validation_loss:', validation_loss)"
      ],
      "execution_count": 0,
      "outputs": [
        {
          "output_type": "stream",
          "text": [
            "train_acc: 0.745\n",
            "train_loss: 0.7250849157571793\n",
            "validation_acc: 0.670625\n",
            "validation_loss: 0.8669381630420685\n"
          ],
          "name": "stdout"
        }
      ]
    },
    {
      "cell_type": "code",
      "metadata": {
        "id": "ORzo0MLXfk4O",
        "colab_type": "code",
        "outputId": "ba4e3f65-0734-4f15-da82-6c23b57618a2",
        "colab": {
          "base_uri": "https://localhost:8080/",
          "height": 545
        }
      },
      "source": [
        "import matplotlib.pyplot as plt\n",
        "\n",
        "acc = smaller_add_history.history['acc']\n",
        "val_acc = smaller_add_history.history['val_acc']\n",
        "loss = smaller_add_history.history['loss']\n",
        "val_loss = smaller_add_history.history['val_loss']\n",
        "\n",
        "epochs = range(1, len(acc) + 1)\n",
        "\n",
        "plt.plot(epochs, acc, 'bo', label='Training acc')\n",
        "plt.plot(epochs, val_acc, 'b', label='Validation acc')\n",
        "plt.title('Training and validation accuracy')\n",
        "plt.legend()\n",
        "\n",
        "plt.figure()\n",
        "\n",
        "# Plot training and validation loss per epoch\n",
        "plt.plot(epochs, loss, 'bo', label='Training loss')\n",
        "plt.plot(epochs, val_loss, 'b', label='Validation loss')\n",
        "plt.title('Training and validation loss')\n",
        "plt.legend()\n",
        "\n",
        "plt.show()"
      ],
      "execution_count": 0,
      "outputs": [
        {
          "output_type": "display_data",
          "data": {
            "image/png": "[encoded data removed]",
            "text/plain": [
              "<Figure size 432x288 with 1 Axes>"
            ]
          },
          "metadata": {
            "tags": []
          }
        },
        {
          "output_type": "display_data",
          "data": {
            "image/png": "[encoded data removed]",
            "text/plain": [
              "<Figure size 432x288 with 1 Axes>"
            ]
          },
          "metadata": {
            "tags": []
          }
        }
      ]
    },
    {
      "cell_type": "code",
      "metadata": {
        "id": "nqGHnnv7v8Me",
        "colab_type": "code",
        "colab": {}
      },
      "source": [
        "model.save('/content/drive/My Drive/Multi-Class Weather/weather_4.h5')"
      ],
      "execution_count": 0,
      "outputs": []
    },
    {
      "cell_type": "code",
      "metadata": {
        "id": "mDugLZsF4LtS",
        "colab_type": "code",
        "outputId": "a445b940-de20-4b4c-b11a-24ea94525e9a",
        "colab": {
          "base_uri": "https://localhost:8080/",
          "height": 819
        }
      },
      "source": [
        "# Add dropout to both smaller dense layers\n",
        "from keras import layers\n",
        "from keras import models\n",
        "\n",
        "dropout_model = models. Sequential()\n",
        "dropout_model.add(layers.Conv2D(32, (3, 3), activation='relu', input_shape=(150, 150, 3)))\n",
        "dropout_model.add(layers.MaxPooling2D((2, 2)))\n",
        "dropout_model.add(layers.Conv2D(64, (3, 3), activation='relu'))\n",
        "dropout_model.add(layers.MaxPooling2D((2, 2)))\n",
        "dropout_model.add(layers.Conv2D(128, (3, 3), activation='relu'))\n",
        "dropout_model.add(layers.MaxPooling2D((2, 2)))\n",
        "dropout_model.add(layers.Conv2D(128, (3, 3), activation='relu'))\n",
        "dropout_model.add(layers.MaxPooling2D((2, 2)))\n",
        "dropout_model.add(layers.Flatten())\n",
        "dropout_model.add(layers.Dense(256, activation='relu'))\n",
        "dropout_model.add(layers.Dropout(0.5))\n",
        "dropout_model.add(layers.Dense(256, activation='relu'))\n",
        "dropout_model.add(layers.Dropout(0.5))\n",
        "dropout_model.add(layers.Dense(4, activation='softmax'))\n",
        "\n",
        "dropout_model.summary()"
      ],
      "execution_count": 0,
      "outputs": [
        {
          "output_type": "stream",
          "text": [
            "WARNING:tensorflow:From /usr/local/lib/python3.6/dist-packages/keras/backend/tensorflow_backend.py:148: The name tf.placeholder_with_default is deprecated. Please use tf.compat.v1.placeholder_with_default instead.\n",
            "\n"
          ],
          "name": "stdout"
        },
        {
          "output_type": "stream",
          "text": [
            "WARNING:tensorflow:From /usr/local/lib/python3.6/dist-packages/keras/backend/tensorflow_backend.py:148: The name tf.placeholder_with_default is deprecated. Please use tf.compat.v1.placeholder_with_default instead.\n",
            "\n"
          ],
          "name": "stderr"
        },
        {
          "output_type": "stream",
          "text": [
            "WARNING:tensorflow:From /usr/local/lib/python3.6/dist-packages/keras/backend/tensorflow_backend.py:3733: calling dropout (from tensorflow.python.ops.nn_ops) with keep_prob is deprecated and will be removed in a future version.\n",
            "Instructions for updating:\n",
            "Please use `rate` instead of `keep_prob`. Rate should be set to `rate = 1 - keep_prob`.\n"
          ],
          "name": "stdout"
        },
        {
          "output_type": "stream",
          "text": [
            "WARNING:tensorflow:From /usr/local/lib/python3.6/dist-packages/keras/backend/tensorflow_backend.py:3733: calling dropout (from tensorflow.python.ops.nn_ops) with keep_prob is deprecated and will be removed in a future version.\n",
            "Instructions for updating:\n",
            "Please use `rate` instead of `keep_prob`. Rate should be set to `rate = 1 - keep_prob`.\n"
          ],
          "name": "stderr"
        },
        {
          "output_type": "stream",
          "text": [
            "Model: \"sequential_8\"\n",
            "_________________________________________________________________\n",
            "Layer (type)                 Output Shape              Param #   \n",
            "=================================================================\n",
            "conv2d_29 (Conv2D)           (None, 148, 148, 32)      896       \n",
            "_________________________________________________________________\n",
            "max_pooling2d_29 (MaxPooling (None, 74, 74, 32)        0         \n",
            "_________________________________________________________________\n",
            "conv2d_30 (Conv2D)           (None, 72, 72, 64)        18496     \n",
            "_________________________________________________________________\n",
            "max_pooling2d_30 (MaxPooling (None, 36, 36, 64)        0         \n",
            "_________________________________________________________________\n",
            "conv2d_31 (Conv2D)           (None, 34, 34, 128)       73856     \n",
            "_________________________________________________________________\n",
            "max_pooling2d_31 (MaxPooling (None, 17, 17, 128)       0         \n",
            "_________________________________________________________________\n",
            "conv2d_32 (Conv2D)           (None, 15, 15, 128)       147584    \n",
            "_________________________________________________________________\n",
            "max_pooling2d_32 (MaxPooling (None, 7, 7, 128)         0         \n",
            "_________________________________________________________________\n",
            "flatten_8 (Flatten)          (None, 6272)              0         \n",
            "_________________________________________________________________\n",
            "dense_18 (Dense)             (None, 256)               1605888   \n",
            "_________________________________________________________________\n",
            "dropout_1 (Dropout)          (None, 256)               0         \n",
            "_________________________________________________________________\n",
            "dense_19 (Dense)             (None, 256)               65792     \n",
            "_________________________________________________________________\n",
            "dropout_2 (Dropout)          (None, 256)               0         \n",
            "_________________________________________________________________\n",
            "dense_20 (Dense)             (None, 4)                 1028      \n",
            "=================================================================\n",
            "Total params: 1,913,540\n",
            "Trainable params: 1,913,540\n",
            "Non-trainable params: 0\n",
            "_________________________________________________________________\n"
          ],
          "name": "stdout"
        }
      ]
    },
    {
      "cell_type": "code",
      "metadata": {
        "id": "FJSbqryuCQhU",
        "colab_type": "code",
        "outputId": "ff9e5e86-e213-4206-c349-e0c3c94c9aec",
        "colab": {
          "base_uri": "https://localhost:8080/",
          "height": 357
        }
      },
      "source": [
        "from keras import optimizers \n",
        "\n",
        "dropout_model.compile(loss='categorical_crossentropy',\n",
        "              optimizer= optimizers.RMSprop(lr=0.001),\n",
        "              metrics=['acc'])\n",
        "\n",
        "dropout_history = dropout_model.fit_generator(\n",
        "      train_generator,\n",
        "      steps_per_epoch=750,  # 24000 images = batch_size * steps\n",
        "      epochs=10,\n",
        "      validation_data=validation_generator,\n",
        "      validation_steps=250,  # 8000 images = batch_size * steps\n",
        "      verbose=2)"
      ],
      "execution_count": 0,
      "outputs": [
        {
          "output_type": "stream",
          "text": [
            "Epoch 1/10\n",
            " - 143s - loss: 1.1033 - acc: 0.5243 - val_loss: 0.9239 - val_acc: 0.6089\n",
            "Epoch 2/10\n",
            " - 142s - loss: 0.9202 - acc: 0.6314 - val_loss: 0.9829 - val_acc: 0.5998\n",
            "Epoch 3/10\n",
            " - 140s - loss: 0.8704 - acc: 0.6592 - val_loss: 0.8828 - val_acc: 0.6376\n",
            "Epoch 4/10\n",
            " - 137s - loss: 0.8511 - acc: 0.6657 - val_loss: 0.7646 - val_acc: 0.6829\n",
            "Epoch 5/10\n",
            " - 137s - loss: 0.8321 - acc: 0.6724 - val_loss: 0.8426 - val_acc: 0.6734\n",
            "Epoch 6/10\n",
            " - 139s - loss: 0.8373 - acc: 0.6739 - val_loss: 0.7895 - val_acc: 0.6869\n",
            "Epoch 7/10\n",
            " - 141s - loss: 0.8493 - acc: 0.6677 - val_loss: 0.7702 - val_acc: 0.6933\n",
            "Epoch 8/10\n",
            " - 141s - loss: 0.8596 - acc: 0.6641 - val_loss: 0.7926 - val_acc: 0.6843\n",
            "Epoch 9/10\n",
            " - 143s - loss: 0.8787 - acc: 0.6619 - val_loss: 0.9358 - val_acc: 0.6439\n",
            "Epoch 10/10\n",
            " - 143s - loss: 0.9002 - acc: 0.6518 - val_loss: 1.0664 - val_acc: 0.5969\n"
          ],
          "name": "stdout"
        }
      ]
    },
    {
      "cell_type": "code",
      "metadata": {
        "id": "5SYTy-7vcnuB",
        "colab_type": "code",
        "outputId": "bb65fc62-cc7b-4f29-e8a6-7fe84fa9a141",
        "colab": {
          "base_uri": "https://localhost:8080/",
          "height": 85
        }
      },
      "source": [
        "train_loss, train_acc = dropout_model.evaluate_generator(train_generator, steps=50)\n",
        "print('train_acc:', train_acc)\n",
        "print('train_loss:', train_loss)\n",
        "\n",
        "validation_loss, validation_acc = dropout_model.evaluate_generator(validation_generator, steps=50)\n",
        "print('validation_acc:', validation_acc)\n",
        "print('validation_loss:', validation_loss)"
      ],
      "execution_count": 0,
      "outputs": [
        {
          "output_type": "stream",
          "text": [
            "train_acc: 0.605625\n",
            "train_loss: 0.9910908997058868\n",
            "validation_acc: 0.59625\n",
            "validation_loss: 1.053835949897766\n"
          ],
          "name": "stdout"
        }
      ]
    },
    {
      "cell_type": "code",
      "metadata": {
        "id": "BrcmvusdCMic",
        "colab_type": "code",
        "outputId": "2b839c01-e502-4d27-bc4b-5a2e3dd3b601",
        "colab": {
          "base_uri": "https://localhost:8080/",
          "height": 545
        }
      },
      "source": [
        "import matplotlib.pyplot as plt\n",
        "\n",
        "acc = dropout_history.history['acc']\n",
        "val_acc = dropout_history.history['val_acc']\n",
        "loss = dropout_history.history['loss']\n",
        "val_loss = dropout_history.history['val_loss']\n",
        "\n",
        "epochs = range(1, len(acc) + 1)\n",
        "\n",
        "plt.plot(epochs, acc, 'bo', label='Training acc')\n",
        "plt.plot(epochs, val_acc, 'b', label='Validation acc')\n",
        "plt.title('Training and validation accuracy')\n",
        "plt.legend()\n",
        "\n",
        "plt.figure()\n",
        "\n",
        "# Plot training and validation loss per epoch\n",
        "plt.plot(epochs, loss, 'bo', label='Training loss')\n",
        "plt.plot(epochs, val_loss, 'b', label='Validation loss')\n",
        "plt.title('Training and validation loss')\n",
        "plt.legend()\n",
        "\n",
        "plt.show()"
      ],
      "execution_count": 0,
      "outputs": [
        {
          "output_type": "display_data",
          "data": {
            "image/png": "[encoded data removed]",
            "text/plain": [
              "<Figure size 432x288 with 1 Axes>"
            ]
          },
          "metadata": {
            "tags": []
          }
        },
        {
          "output_type": "display_data",
          "data": {
            "image/png": "[encoded data removed]",
            "text/plain": [
              "<Figure size 432x288 with 1 Axes>"
            ]
          },
          "metadata": {
            "tags": []
          }
        }
      ]
    },
    {
      "cell_type": "code",
      "metadata": {
        "id": "1R20ulXUCZg6",
        "colab_type": "code",
        "colab": {}
      },
      "source": [
        "model.save('/content/drive/My Drive/Multi-Class Weather/weather_5.h5')"
      ],
      "execution_count": 0,
      "outputs": []
    },
    {
      "cell_type": "code",
      "metadata": {
        "id": "zCKP9yYW61nK",
        "colab_type": "code",
        "outputId": "efc58947-cef3-47dd-9dc5-53015f34ba1f",
        "colab": {
          "base_uri": "https://localhost:8080/",
          "height": 593
        }
      },
      "source": [
        "# Add dropout to dense layer\n",
        "from keras import layers\n",
        "from keras import models\n",
        "\n",
        "dropout1_model = models. Sequential()\n",
        "dropout1_model.add(layers.Conv2D(32, (3, 3), activation='relu', input_shape=(150, 150, 3)))\n",
        "dropout1_model.add(layers.MaxPooling2D((2, 2)))\n",
        "dropout1_model.add(layers.Conv2D(64, (3, 3), activation='relu'))\n",
        "dropout1_model.add(layers.MaxPooling2D((2, 2)))\n",
        "dropout1_model.add(layers.Conv2D(128, (3, 3), activation='relu'))\n",
        "dropout1_model.add(layers.MaxPooling2D((2, 2)))\n",
        "dropout1_model.add(layers.Conv2D(128, (3, 3), activation='relu'))\n",
        "dropout1_model.add(layers.MaxPooling2D((2, 2)))\n",
        "dropout1_model.add(layers.Flatten())\n",
        "dropout1_model.add(layers.Dense(256, activation='relu'))\n",
        "dropout1_model.add(layers.Dropout(0.5))\n",
        "dropout1_model.add(layers.Dense(4, activation='softmax'))\n",
        "\n",
        "dropout1_model.summary()"
      ],
      "execution_count": 0,
      "outputs": [
        {
          "output_type": "stream",
          "text": [
            "Model: \"sequential_9\"\n",
            "_________________________________________________________________\n",
            "Layer (type)                 Output Shape              Param #   \n",
            "=================================================================\n",
            "conv2d_33 (Conv2D)           (None, 148, 148, 32)      896       \n",
            "_________________________________________________________________\n",
            "max_pooling2d_33 (MaxPooling (None, 74, 74, 32)        0         \n",
            "_________________________________________________________________\n",
            "conv2d_34 (Conv2D)           (None, 72, 72, 64)        18496     \n",
            "_________________________________________________________________\n",
            "max_pooling2d_34 (MaxPooling (None, 36, 36, 64)        0         \n",
            "_________________________________________________________________\n",
            "conv2d_35 (Conv2D)           (None, 34, 34, 128)       73856     \n",
            "_________________________________________________________________\n",
            "max_pooling2d_35 (MaxPooling (None, 17, 17, 128)       0         \n",
            "_________________________________________________________________\n",
            "conv2d_36 (Conv2D)           (None, 15, 15, 128)       147584    \n",
            "_________________________________________________________________\n",
            "max_pooling2d_36 (MaxPooling (None, 7, 7, 128)         0         \n",
            "_________________________________________________________________\n",
            "flatten_9 (Flatten)          (None, 6272)              0         \n",
            "_________________________________________________________________\n",
            "dense_21 (Dense)             (None, 256)               1605888   \n",
            "_________________________________________________________________\n",
            "dropout_3 (Dropout)          (None, 256)               0         \n",
            "_________________________________________________________________\n",
            "dense_22 (Dense)             (None, 4)                 1028      \n",
            "=================================================================\n",
            "Total params: 1,847,748\n",
            "Trainable params: 1,847,748\n",
            "Non-trainable params: 0\n",
            "_________________________________________________________________\n"
          ],
          "name": "stdout"
        }
      ]
    },
    {
      "cell_type": "code",
      "metadata": {
        "id": "C2kmMD5U61vw",
        "colab_type": "code",
        "outputId": "6485e93b-ffc4-4dac-e6de-d39a0806970e",
        "colab": {
          "base_uri": "https://localhost:8080/",
          "height": 377
        }
      },
      "source": [
        "from keras import optimizers \n",
        "\n",
        "dropout1_model.compile(loss='categorical_crossentropy',\n",
        "              optimizer= optimizers.RMSprop(lr=0.001),\n",
        "              metrics=['acc'])\n",
        "\n",
        "dropout1_history = dropout1_model.fit_generator(\n",
        "      train_generator,\n",
        "      steps_per_epoch=750,  # 24000 images = batch_size * steps\n",
        "      epochs=10,\n",
        "      validation_data=validation_generator,\n",
        "      validation_steps=250,  # 8000 images = batch_size * steps\n",
        "      verbose=2)"
      ],
      "execution_count": 0,
      "outputs": [
        {
          "output_type": "stream",
          "text": [
            "Epoch 1/10\n",
            " - 121s - loss: 1.0913 - acc: 0.5355 - val_loss: 1.0015 - val_acc: 0.5865\n",
            "Epoch 2/10\n",
            " - 118s - loss: 0.8906 - acc: 0.6371 - val_loss: 0.8746 - val_acc: 0.6399\n",
            "Epoch 3/10\n",
            " - 119s - loss: 0.8300 - acc: 0.6717 - val_loss: 0.8223 - val_acc: 0.6716\n",
            "Epoch 4/10\n",
            " - 119s - loss: 0.8020 - acc: 0.6846 - val_loss: 0.7712 - val_acc: 0.6873\n",
            "Epoch 5/10\n",
            " - 119s - loss: 0.7894 - acc: 0.6890 - val_loss: 1.2205 - val_acc: 0.5487\n",
            "Epoch 6/10\n",
            " - 120s - loss: 0.7897 - acc: 0.6904 - val_loss: 0.7520 - val_acc: 0.6997\n",
            "Epoch 7/10\n",
            " - 121s - loss: 0.7889 - acc: 0.6934 - val_loss: 0.8999 - val_acc: 0.6767\n",
            "Epoch 8/10\n",
            " - 120s - loss: 0.7970 - acc: 0.6875 - val_loss: 0.7744 - val_acc: 0.7001\n",
            "Epoch 9/10\n",
            " - 121s - loss: 0.8046 - acc: 0.6886 - val_loss: 0.8020 - val_acc: 0.6891\n",
            "Epoch 10/10\n",
            " - 121s - loss: 0.8214 - acc: 0.6838 - val_loss: 0.8926 - val_acc: 0.6111\n"
          ],
          "name": "stdout"
        }
      ]
    },
    {
      "cell_type": "code",
      "metadata": {
        "id": "iP3IGnjx614J",
        "colab_type": "code",
        "outputId": "9291d5d4-bcab-44c2-f152-5906791da04e",
        "colab": {
          "base_uri": "https://localhost:8080/",
          "height": 89
        }
      },
      "source": [
        "train_loss, train_acc = dropout1_model.evaluate_generator(train_generator, steps=50)\n",
        "print('train_acc:', train_acc)\n",
        "print('train_loss:', train_loss)\n",
        "\n",
        "validation_loss, validation_acc = dropout1_model.evaluate_generator(validation_generator, steps=50)\n",
        "print('validation_acc:', validation_acc)\n",
        "print('validation_loss:', validation_loss)"
      ],
      "execution_count": 0,
      "outputs": [
        {
          "output_type": "stream",
          "text": [
            "train_acc: 0.620625\n",
            "train_loss: 0.8569272816181183\n",
            "validation_acc: 0.635\n",
            "validation_loss: 0.855298000574112\n"
          ],
          "name": "stdout"
        }
      ]
    },
    {
      "cell_type": "code",
      "metadata": {
        "id": "TY7P5LtT62AU",
        "colab_type": "code",
        "outputId": "bc038431-ed69-4468-8efc-bd955432f456",
        "colab": {
          "base_uri": "https://localhost:8080/",
          "height": 545
        }
      },
      "source": [
        "import matplotlib.pyplot as plt\n",
        "\n",
        "acc = dropout1_history.history['acc']\n",
        "val_acc = dropout1_history.history['val_acc']\n",
        "loss = dropout1_history.history['loss']\n",
        "val_loss = dropout1_history.history['val_loss']\n",
        "\n",
        "epochs = range(1, len(acc) + 1)\n",
        "\n",
        "plt.plot(epochs, acc, 'bo', label='Training acc')\n",
        "plt.plot(epochs, val_acc, 'b', label='Validation acc')\n",
        "plt.title('Training and validation accuracy')\n",
        "plt.legend()\n",
        "\n",
        "plt.figure()\n",
        "\n",
        "# Plot training and validation loss per epoch\n",
        "plt.plot(epochs, loss, 'bo', label='Training loss')\n",
        "plt.plot(epochs, val_loss, 'b', label='Validation loss')\n",
        "plt.title('Training and validation loss')\n",
        "plt.legend()\n",
        "\n",
        "plt.show()"
      ],
      "execution_count": 0,
      "outputs": [
        {
          "output_type": "display_data",
          "data": {
            "image/png": "[encoded data removed]",
            "text/plain": [
              "<Figure size 432x288 with 1 Axes>"
            ]
          },
          "metadata": {
            "tags": []
          }
        },
        {
          "output_type": "display_data",
          "data": {
            "image/png": "[encoded data removed]",
            "text/plain": [
              "<Figure size 432x288 with 1 Axes>"
            ]
          },
          "metadata": {
            "tags": []
          }
        }
      ]
    },
    {
      "cell_type": "code",
      "metadata": {
        "id": "3OuZZ3Sn62Uy",
        "colab_type": "code",
        "colab": {}
      },
      "source": [
        "model.save('/content/drive/My Drive/Multi-Class Weather/weather_6.h5')"
      ],
      "execution_count": 0,
      "outputs": []
    },
    {
      "cell_type": "code",
      "metadata": {
        "id": "47xQ63vwLzlJ",
        "colab_type": "code",
        "outputId": "edbeb92f-7497-40d1-a20c-855e888dcbee",
        "colab": {
          "base_uri": "https://localhost:8080/",
          "height": 593
        }
      },
      "source": [
        "# Add dropout to dense layer\n",
        "from keras import layers\n",
        "from keras import models\n",
        "\n",
        "dropout2_model = models. Sequential()\n",
        "dropout2_model.add(layers.Conv2D(32, (3, 3), activation='relu', input_shape=(150, 150, 3)))\n",
        "dropout2_model.add(layers.MaxPooling2D((2, 2)))\n",
        "dropout2_model.add(layers.Conv2D(64, (3, 3), activation='relu'))\n",
        "dropout2_model.add(layers.MaxPooling2D((2, 2)))\n",
        "dropout2_model.add(layers.Conv2D(128, (3, 3), activation='relu'))\n",
        "dropout2_model.add(layers.MaxPooling2D((2, 2)))\n",
        "dropout2_model.add(layers.Conv2D(128, (3, 3), activation='relu'))\n",
        "dropout2_model.add(layers.MaxPooling2D((2, 2)))\n",
        "dropout2_model.add(layers.Flatten())\n",
        "dropout2_model.add(layers.Dense(256, activation='relu'))\n",
        "dropout2_model.add(layers.Dropout(0.5))\n",
        "dropout2_model.add(layers.Dense(4, activation='softmax'))\n",
        "\n",
        "dropout2_model.summary()"
      ],
      "execution_count": 0,
      "outputs": [
        {
          "output_type": "stream",
          "text": [
            "Model: \"sequential_3\"\n",
            "_________________________________________________________________\n",
            "Layer (type)                 Output Shape              Param #   \n",
            "=================================================================\n",
            "conv2d_9 (Conv2D)            (None, 148, 148, 32)      896       \n",
            "_________________________________________________________________\n",
            "max_pooling2d_9 (MaxPooling2 (None, 74, 74, 32)        0         \n",
            "_________________________________________________________________\n",
            "conv2d_10 (Conv2D)           (None, 72, 72, 64)        18496     \n",
            "_________________________________________________________________\n",
            "max_pooling2d_10 (MaxPooling (None, 36, 36, 64)        0         \n",
            "_________________________________________________________________\n",
            "conv2d_11 (Conv2D)           (None, 34, 34, 128)       73856     \n",
            "_________________________________________________________________\n",
            "max_pooling2d_11 (MaxPooling (None, 17, 17, 128)       0         \n",
            "_________________________________________________________________\n",
            "conv2d_12 (Conv2D)           (None, 15, 15, 128)       147584    \n",
            "_________________________________________________________________\n",
            "max_pooling2d_12 (MaxPooling (None, 7, 7, 128)         0         \n",
            "_________________________________________________________________\n",
            "flatten_3 (Flatten)          (None, 6272)              0         \n",
            "_________________________________________________________________\n",
            "dense_5 (Dense)              (None, 256)               1605888   \n",
            "_________________________________________________________________\n",
            "dropout_3 (Dropout)          (None, 256)               0         \n",
            "_________________________________________________________________\n",
            "dense_6 (Dense)              (None, 4)                 1028      \n",
            "=================================================================\n",
            "Total params: 1,847,748\n",
            "Trainable params: 1,847,748\n",
            "Non-trainable params: 0\n",
            "_________________________________________________________________\n"
          ],
          "name": "stdout"
        }
      ]
    },
    {
      "cell_type": "code",
      "metadata": {
        "id": "FS9duZnAExT2",
        "colab_type": "code",
        "outputId": "82dda1ca-b32d-4211-80f1-1eb232791208",
        "colab": {
          "base_uri": "https://localhost:8080/",
          "height": 737
        }
      },
      "source": [
        "from keras import optimizers \n",
        "\n",
        "dropout2_model.compile(loss='categorical_crossentropy',\n",
        "              optimizer= optimizers.RMSprop(lr=0.001),\n",
        "              metrics=['acc'])\n",
        "\n",
        "dropout2_history = dropout2_model.fit_generator(\n",
        "      train_generator,\n",
        "      steps_per_epoch=750,  # 24000 images = batch_size * steps\n",
        "      epochs=20,\n",
        "      validation_data=validation_generator,\n",
        "      validation_steps=250,  # 8000 images = batch_size * steps\n",
        "      verbose=2)"
      ],
      "execution_count": 0,
      "outputs": [
        {
          "output_type": "stream",
          "text": [
            "Epoch 1/20\n",
            " - 148s - loss: 1.0494 - acc: 0.5585 - val_loss: 0.8983 - val_acc: 0.6254\n",
            "Epoch 2/20\n",
            " - 141s - loss: 0.8827 - acc: 0.6392 - val_loss: 0.8537 - val_acc: 0.6495\n",
            "Epoch 3/20\n",
            " - 138s - loss: 0.8325 - acc: 0.6661 - val_loss: 0.8611 - val_acc: 0.6657\n",
            "Epoch 4/20\n",
            " - 137s - loss: 0.8086 - acc: 0.6848 - val_loss: 1.2551 - val_acc: 0.5172\n",
            "Epoch 5/20\n",
            " - 137s - loss: 0.7945 - acc: 0.6841 - val_loss: 0.9808 - val_acc: 0.6536\n",
            "Epoch 6/20\n",
            " - 136s - loss: 0.7874 - acc: 0.6928 - val_loss: 0.7719 - val_acc: 0.6840\n",
            "Epoch 7/20\n",
            " - 135s - loss: 0.7814 - acc: 0.6908 - val_loss: 0.7766 - val_acc: 0.6969\n",
            "Epoch 8/20\n",
            " - 135s - loss: 0.7848 - acc: 0.6939 - val_loss: 0.7160 - val_acc: 0.7087\n",
            "Epoch 9/20\n",
            " - 136s - loss: 0.7759 - acc: 0.6951 - val_loss: 0.7907 - val_acc: 0.6889\n",
            "Epoch 10/20\n",
            " - 138s - loss: 0.7887 - acc: 0.6926 - val_loss: 0.7494 - val_acc: 0.6961\n",
            "Epoch 11/20\n",
            " - 136s - loss: 0.7973 - acc: 0.6906 - val_loss: 0.7737 - val_acc: 0.6974\n",
            "Epoch 12/20\n",
            " - 136s - loss: 0.8070 - acc: 0.6834 - val_loss: 0.7866 - val_acc: 0.6810\n",
            "Epoch 13/20\n",
            " - 136s - loss: 0.8232 - acc: 0.6811 - val_loss: 0.7531 - val_acc: 0.6959\n",
            "Epoch 14/20\n",
            " - 136s - loss: 0.8295 - acc: 0.6735 - val_loss: 0.9504 - val_acc: 0.6753\n",
            "Epoch 15/20\n",
            " - 135s - loss: 0.8494 - acc: 0.6655 - val_loss: 0.8096 - val_acc: 0.6823\n",
            "Epoch 16/20\n",
            " - 138s - loss: 0.8613 - acc: 0.6650 - val_loss: 0.9175 - val_acc: 0.6222\n",
            "Epoch 17/20\n",
            " - 138s - loss: 0.8865 - acc: 0.6517 - val_loss: 0.8843 - val_acc: 0.6395\n",
            "Epoch 18/20\n",
            " - 137s - loss: 0.8833 - acc: 0.6555 - val_loss: 0.8141 - val_acc: 0.6730\n",
            "Epoch 19/20\n",
            " - 137s - loss: 0.8898 - acc: 0.6583 - val_loss: 0.8707 - val_acc: 0.6509\n",
            "Epoch 20/20\n",
            " - 135s - loss: 0.9052 - acc: 0.6495 - val_loss: 0.8458 - val_acc: 0.6723\n"
          ],
          "name": "stdout"
        }
      ]
    },
    {
      "cell_type": "code",
      "metadata": {
        "id": "46ePA_FcNQFu",
        "colab_type": "code",
        "outputId": "69cd28d8-a7f7-4d78-8990-c2733ba4910e",
        "colab": {
          "base_uri": "https://localhost:8080/",
          "height": 89
        }
      },
      "source": [
        "train_loss, train_acc = dropout2_model.evaluate_generator(train_generator, steps=50)\n",
        "print('train_acc:', train_acc)\n",
        "print('train_loss:', train_loss)\n",
        "\n",
        "validation_loss, validation_acc = dropout2_model.evaluate_generator(validation_generator, steps=50)\n",
        "print('validation_acc:', validation_acc)\n",
        "print('validation_loss:', validation_loss)"
      ],
      "execution_count": 0,
      "outputs": [
        {
          "output_type": "stream",
          "text": [
            "train_acc: 0.685\n",
            "train_loss: 0.7872516405582428\n",
            "validation_acc: 0.6775\n",
            "validation_loss: 0.8072592455148697\n"
          ],
          "name": "stdout"
        }
      ]
    },
    {
      "cell_type": "code",
      "metadata": {
        "id": "-p8aE-JJKXOK",
        "colab_type": "code",
        "outputId": "ab57ade4-964f-4e68-9f43-c52b279726ec",
        "colab": {
          "base_uri": "https://localhost:8080/",
          "height": 545
        }
      },
      "source": [
        "import matplotlib.pyplot as plt\n",
        "\n",
        "acc = dropout2_history.history['acc']\n",
        "val_acc = dropout2_history.history['val_acc']\n",
        "loss = dropout2_history.history['loss']\n",
        "val_loss = dropout2_history.history['val_loss']\n",
        "\n",
        "epochs = range(1, len(acc) + 1)\n",
        "\n",
        "plt.plot(epochs, acc, 'bo', label='Training acc')\n",
        "plt.plot(epochs, val_acc, 'b', label='Validation acc')\n",
        "plt.title('Training and validation accuracy')\n",
        "plt.legend()\n",
        "\n",
        "plt.figure()\n",
        "\n",
        "# Plot training and validation loss per epoch\n",
        "plt.plot(epochs, loss, 'bo', label='Training loss')\n",
        "plt.plot(epochs, val_loss, 'b', label='Validation loss')\n",
        "plt.title('Training and validation loss')\n",
        "plt.legend()\n",
        "\n",
        "plt.show()"
      ],
      "execution_count": 0,
      "outputs": [
        {
          "output_type": "display_data",
          "data": {
            "image/png": "[encoded data removed]",
            "text/plain": [
              "<Figure size 432x288 with 1 Axes>"
            ]
          },
          "metadata": {
            "tags": []
          }
        },
        {
          "output_type": "display_data",
          "data": {
            "image/png": "[encoded data removed]",
            "text/plain": [
              "<Figure size 432x288 with 1 Axes>"
            ]
          },
          "metadata": {
            "tags": []
          }
        }
      ]
    },
    {
      "cell_type": "code",
      "metadata": {
        "id": "agMG5plaNWLt",
        "colab_type": "code",
        "colab": {}
      },
      "source": [
        "dropout2_model.save('/content/drive/My Drive/Multi-Class Weather/weather_7.h5')"
      ],
      "execution_count": 0,
      "outputs": []
    },
    {
      "cell_type": "code",
      "metadata": {
        "id": "fgm2eNV_0f0e",
        "colab_type": "code",
        "outputId": "6654c5df-3fdd-4075-c634-d94e3ba02bc1",
        "colab": {
          "base_uri": "https://localhost:8080/",
          "height": 593
        }
      },
      "source": [
        "# First model with dropout\n",
        "from keras import layers\n",
        "from keras import models\n",
        "\n",
        "model1_dropout = models. Sequential()\n",
        "model1_dropout.add(layers.Conv2D(32, (3, 3), activation='relu', input_shape=(150, 150, 3)))\n",
        "model1_dropout.add(layers.MaxPooling2D((2, 2)))\n",
        "model1_dropout.add(layers.Conv2D(64, (3, 3), activation='relu'))\n",
        "model1_dropout.add(layers.MaxPooling2D((2, 2)))\n",
        "model1_dropout.add(layers.Conv2D(128, (3, 3), activation='relu'))\n",
        "model1_dropout.add(layers.MaxPooling2D((2, 2)))\n",
        "model1_dropout.add(layers.Conv2D(128, (3, 3), activation='relu'))\n",
        "model1_dropout.add(layers.MaxPooling2D((2, 2)))\n",
        "model1_dropout.add(layers.Flatten())\n",
        "model1_dropout.add(layers.Dense(512, activation='relu'))\n",
        "model1_dropout.add(layers.Dropout(0.5))\n",
        "model1_dropout.add(layers.Dense(4, activation='softmax'))\n",
        "\n",
        "model1_dropout.summary()"
      ],
      "execution_count": 0,
      "outputs": [
        {
          "output_type": "stream",
          "text": [
            "Model: \"sequential_5\"\n",
            "_________________________________________________________________\n",
            "Layer (type)                 Output Shape              Param #   \n",
            "=================================================================\n",
            "conv2d_17 (Conv2D)           (None, 148, 148, 32)      896       \n",
            "_________________________________________________________________\n",
            "max_pooling2d_17 (MaxPooling (None, 74, 74, 32)        0         \n",
            "_________________________________________________________________\n",
            "conv2d_18 (Conv2D)           (None, 72, 72, 64)        18496     \n",
            "_________________________________________________________________\n",
            "max_pooling2d_18 (MaxPooling (None, 36, 36, 64)        0         \n",
            "_________________________________________________________________\n",
            "conv2d_19 (Conv2D)           (None, 34, 34, 128)       73856     \n",
            "_________________________________________________________________\n",
            "max_pooling2d_19 (MaxPooling (None, 17, 17, 128)       0         \n",
            "_________________________________________________________________\n",
            "conv2d_20 (Conv2D)           (None, 15, 15, 128)       147584    \n",
            "_________________________________________________________________\n",
            "max_pooling2d_20 (MaxPooling (None, 7, 7, 128)         0         \n",
            "_________________________________________________________________\n",
            "flatten_5 (Flatten)          (None, 6272)              0         \n",
            "_________________________________________________________________\n",
            "dense_9 (Dense)              (None, 512)               3211776   \n",
            "_________________________________________________________________\n",
            "dropout_5 (Dropout)          (None, 512)               0         \n",
            "_________________________________________________________________\n",
            "dense_10 (Dense)             (None, 4)                 2052      \n",
            "=================================================================\n",
            "Total params: 3,454,660\n",
            "Trainable params: 3,454,660\n",
            "Non-trainable params: 0\n",
            "_________________________________________________________________\n"
          ],
          "name": "stdout"
        }
      ]
    },
    {
      "cell_type": "code",
      "metadata": {
        "id": "SkoF5Yyl0sEz",
        "colab_type": "code",
        "outputId": "b64d2816-79db-4621-af9a-f9cf41060dff",
        "colab": {
          "base_uri": "https://localhost:8080/",
          "height": 377
        }
      },
      "source": [
        "from keras import optimizers \n",
        "\n",
        "model1_dropout.compile(loss='categorical_crossentropy',\n",
        "              optimizer= optimizers.RMSprop(lr=0.001),\n",
        "              metrics=['acc'])\n",
        "\n",
        "model1_dropout_history = model1_dropout.fit_generator(\n",
        "      train_generator,\n",
        "      steps_per_epoch=750,  # 24000 images = batch_size * steps\n",
        "      epochs=10,\n",
        "      validation_data=validation_generator,\n",
        "      validation_steps=250,  # 8000 images = batch_size * steps\n",
        "      verbose=2)"
      ],
      "execution_count": 0,
      "outputs": [
        {
          "output_type": "stream",
          "text": [
            "Epoch 1/10\n",
            " - 147s - loss: 1.0902 - acc: 0.5350 - val_loss: 0.9088 - val_acc: 0.6258\n",
            "Epoch 2/10\n",
            " - 145s - loss: 0.8822 - acc: 0.6405 - val_loss: 0.8601 - val_acc: 0.6546\n",
            "Epoch 3/10\n",
            " - 146s - loss: 0.8376 - acc: 0.6647 - val_loss: 0.8152 - val_acc: 0.6627\n",
            "Epoch 4/10\n",
            " - 146s - loss: 0.8034 - acc: 0.6824 - val_loss: 0.9597 - val_acc: 0.6098\n",
            "Epoch 5/10\n",
            " - 147s - loss: 0.7818 - acc: 0.6903 - val_loss: 0.8491 - val_acc: 0.6576\n",
            "Epoch 6/10\n",
            " - 147s - loss: 0.7670 - acc: 0.6994 - val_loss: 0.7652 - val_acc: 0.6930\n",
            "Epoch 7/10\n",
            " - 142s - loss: 0.7756 - acc: 0.6995 - val_loss: 0.7860 - val_acc: 0.6854\n",
            "Epoch 8/10\n",
            " - 140s - loss: 0.7799 - acc: 0.6955 - val_loss: 1.2249 - val_acc: 0.5952\n",
            "Epoch 9/10\n",
            " - 138s - loss: 0.7969 - acc: 0.6855 - val_loss: 0.8196 - val_acc: 0.6800\n",
            "Epoch 10/10\n",
            " - 137s - loss: 0.8130 - acc: 0.6897 - val_loss: 0.7316 - val_acc: 0.7074\n"
          ],
          "name": "stdout"
        }
      ]
    },
    {
      "cell_type": "code",
      "metadata": {
        "id": "SfXNLbzS0_n7",
        "colab_type": "code",
        "outputId": "31901040-c70a-44d9-ce1c-1ebb5b307f89",
        "colab": {
          "base_uri": "https://localhost:8080/",
          "height": 89
        }
      },
      "source": [
        "train_loss, train_acc = model1_dropout.evaluate_generator(train_generator, steps=50)\n",
        "print('train_acc:', train_acc)\n",
        "print('train_loss:', train_loss)\n",
        "\n",
        "validation_loss, validation_acc = model1_dropout.evaluate_generator(validation_generator, steps=50)\n",
        "print('validation_acc:', validation_acc)\n",
        "print('validation_loss:', validation_loss)"
      ],
      "execution_count": 0,
      "outputs": [
        {
          "output_type": "stream",
          "text": [
            "train_acc: 0.71875\n",
            "train_loss: 0.6691807639598847\n",
            "validation_acc: 0.743125\n",
            "validation_loss: 0.6600962013006211\n"
          ],
          "name": "stdout"
        }
      ]
    },
    {
      "cell_type": "code",
      "metadata": {
        "id": "RS-u6T4g1Drb",
        "colab_type": "code",
        "outputId": "9970d28b-2688-45bf-bc56-f020114ca8d4",
        "colab": {
          "base_uri": "https://localhost:8080/",
          "height": 545
        }
      },
      "source": [
        "import matplotlib.pyplot as plt\n",
        "\n",
        "acc = model1_dropout_history.history['acc']\n",
        "val_acc = model1_dropout_history.history['val_acc']\n",
        "loss = model1_dropout_history.history['loss']\n",
        "val_loss = model1_dropout_history.history['val_loss']\n",
        "\n",
        "epochs = range(1, len(acc) + 1)\n",
        "\n",
        "plt.plot(epochs, acc, 'bo', label='Training acc')\n",
        "plt.plot(epochs, val_acc, 'b', label='Validation acc')\n",
        "plt.title('Training and validation accuracy')\n",
        "plt.legend()\n",
        "\n",
        "plt.figure()\n",
        "\n",
        "# Plot training and validation loss per epoch\n",
        "plt.plot(epochs, loss, 'bo', label='Training loss')\n",
        "plt.plot(epochs, val_loss, 'b', label='Validation loss')\n",
        "plt.title('Training and validation loss')\n",
        "plt.legend()\n",
        "\n",
        "plt.show()"
      ],
      "execution_count": 0,
      "outputs": [
        {
          "output_type": "display_data",
          "data": {
            "image/png": "[encoded data removed]",
            "text/plain": [
              "<Figure size 432x288 with 1 Axes>"
            ]
          },
          "metadata": {
            "tags": []
          }
        },
        {
          "output_type": "display_data",
          "data": {
            "image/png": "[encoded data removed]",
            "text/plain": [
              "<Figure size 432x288 with 1 Axes>"
            ]
          },
          "metadata": {
            "tags": []
          }
        }
      ]
    },
    {
      "cell_type": "code",
      "metadata": {
        "id": "9ezXfi9zG0bb",
        "colab_type": "code",
        "colab": {
          "base_uri": "https://localhost:8080/",
          "height": 1000
        },
        "outputId": "9384ef67-8b10-41b1-d3c5-48133750d10d"
      },
      "source": [
        "from keras import optimizers \n",
        "\n",
        "dropout2_model.compile(loss='categorical_crossentropy',\n",
        "              optimizer= optimizers.RMSprop(lr=0.001),\n",
        "              metrics=['acc'])\n",
        "\n",
        "dropout3_history = dropout2_model.fit_generator(\n",
        "      train_generator,\n",
        "      steps_per_epoch=750,  # 24000 images = batch_size * steps\n",
        "      epochs=50,\n",
        "      validation_data=validation_generator,\n",
        "      validation_steps=250,  # 8000 images = batch_size * steps\n",
        "      verbose=2)"
      ],
      "execution_count": 26,
      "outputs": [
        {
          "output_type": "stream",
          "text": [
            "Epoch 1/50\n",
            " - 144s - loss: 0.9249 - acc: 0.6437 - val_loss: 0.8974 - val_acc: 0.6304\n",
            "Epoch 2/50\n",
            " - 142s - loss: 0.9117 - acc: 0.6477 - val_loss: 0.8649 - val_acc: 0.6586\n",
            "Epoch 3/50\n",
            " - 142s - loss: 0.8965 - acc: 0.6490 - val_loss: 0.9340 - val_acc: 0.6374\n",
            "Epoch 4/50\n",
            " - 142s - loss: 0.9285 - acc: 0.6439 - val_loss: 0.8797 - val_acc: 0.6567\n",
            "Epoch 5/50\n",
            " - 142s - loss: 0.8860 - acc: 0.6520 - val_loss: 0.8495 - val_acc: 0.6704\n",
            "Epoch 6/50\n",
            " - 143s - loss: 0.8960 - acc: 0.6509 - val_loss: 0.8738 - val_acc: 0.6484\n",
            "Epoch 7/50\n",
            " - 143s - loss: 0.8970 - acc: 0.6530 - val_loss: 0.8821 - val_acc: 0.6644\n",
            "Epoch 8/50\n",
            " - 143s - loss: 0.9054 - acc: 0.6462 - val_loss: 0.8097 - val_acc: 0.6761\n",
            "Epoch 9/50\n",
            " - 142s - loss: 0.8998 - acc: 0.6516 - val_loss: 1.0380 - val_acc: 0.6302\n",
            "Epoch 10/50\n",
            " - 143s - loss: 0.9143 - acc: 0.6435 - val_loss: 0.9308 - val_acc: 0.6281\n",
            "Epoch 11/50\n",
            " - 144s - loss: 0.9074 - acc: 0.6485 - val_loss: 0.8896 - val_acc: 0.6445\n",
            "Epoch 12/50\n",
            " - 144s - loss: 0.9319 - acc: 0.6467 - val_loss: 0.8634 - val_acc: 0.6581\n",
            "Epoch 13/50\n",
            " - 143s - loss: 0.9238 - acc: 0.6437 - val_loss: 0.9600 - val_acc: 0.6475\n",
            "Epoch 14/50\n",
            " - 143s - loss: 0.9172 - acc: 0.6442 - val_loss: 2.8491 - val_acc: 0.5465\n",
            "Epoch 15/50\n",
            " - 144s - loss: 0.9278 - acc: 0.6436 - val_loss: 0.8654 - val_acc: 0.6734\n",
            "Epoch 16/50\n",
            " - 144s - loss: 0.9126 - acc: 0.6466 - val_loss: 1.1050 - val_acc: 0.6280\n",
            "Epoch 17/50\n",
            " - 143s - loss: 0.9350 - acc: 0.6451 - val_loss: 1.0821 - val_acc: 0.6184\n",
            "Epoch 18/50\n",
            " - 143s - loss: 0.9503 - acc: 0.6335 - val_loss: 0.8696 - val_acc: 0.6599\n",
            "Epoch 19/50\n",
            " - 144s - loss: 0.9344 - acc: 0.6324 - val_loss: 0.9555 - val_acc: 0.6548\n",
            "Epoch 20/50\n",
            " - 143s - loss: 0.9568 - acc: 0.6373 - val_loss: 0.9671 - val_acc: 0.6567\n",
            "Epoch 21/50\n",
            " - 144s - loss: 0.9554 - acc: 0.6254 - val_loss: 0.9426 - val_acc: 0.6352\n",
            "Epoch 22/50\n",
            " - 143s - loss: 0.9531 - acc: 0.6332 - val_loss: 0.9386 - val_acc: 0.6078\n",
            "Epoch 23/50\n",
            " - 142s - loss: 1.0049 - acc: 0.6243 - val_loss: 0.8446 - val_acc: 0.6540\n",
            "Epoch 24/50\n",
            " - 141s - loss: 0.9624 - acc: 0.6253 - val_loss: 0.9261 - val_acc: 0.6389\n",
            "Epoch 25/50\n",
            " - 142s - loss: 0.9767 - acc: 0.6253 - val_loss: 0.9048 - val_acc: 0.6396\n",
            "Epoch 26/50\n",
            " - 143s - loss: 0.9992 - acc: 0.6226 - val_loss: 0.8856 - val_acc: 0.6500\n",
            "Epoch 27/50\n",
            " - 144s - loss: 0.9546 - acc: 0.6277 - val_loss: 1.0341 - val_acc: 0.6244\n",
            "Epoch 28/50\n",
            " - 143s - loss: 0.9937 - acc: 0.6217 - val_loss: 0.8736 - val_acc: 0.6468\n",
            "Epoch 29/50\n",
            " - 143s - loss: 0.9542 - acc: 0.6242 - val_loss: 0.9514 - val_acc: 0.6391\n",
            "Epoch 30/50\n",
            " - 144s - loss: 0.9874 - acc: 0.6190 - val_loss: 0.8652 - val_acc: 0.6589\n",
            "Epoch 31/50\n",
            " - 144s - loss: 0.9482 - acc: 0.6248 - val_loss: 0.8588 - val_acc: 0.6536\n",
            "Epoch 32/50\n",
            " - 144s - loss: 0.9518 - acc: 0.6264 - val_loss: 1.0731 - val_acc: 0.6051\n",
            "Epoch 33/50\n",
            " - 144s - loss: 0.9820 - acc: 0.6196 - val_loss: 0.8681 - val_acc: 0.6519\n",
            "Epoch 34/50\n",
            " - 143s - loss: 0.9806 - acc: 0.6193 - val_loss: 1.0726 - val_acc: 0.6235\n",
            "Epoch 35/50\n",
            " - 143s - loss: 0.9959 - acc: 0.6181 - val_loss: 1.0485 - val_acc: 0.6055\n",
            "Epoch 36/50\n",
            " - 144s - loss: 1.0102 - acc: 0.6053 - val_loss: 1.0679 - val_acc: 0.6050\n",
            "Epoch 37/50\n",
            " - 143s - loss: 1.0031 - acc: 0.6080 - val_loss: 0.9505 - val_acc: 0.6128\n",
            "Epoch 38/50\n",
            " - 143s - loss: 0.9931 - acc: 0.6115 - val_loss: 1.0136 - val_acc: 0.6474\n",
            "Epoch 39/50\n",
            " - 143s - loss: 0.9722 - acc: 0.6183 - val_loss: 0.9566 - val_acc: 0.6389\n",
            "Epoch 40/50\n",
            " - 144s - loss: 0.9729 - acc: 0.6123 - val_loss: 0.9847 - val_acc: 0.5757\n",
            "Epoch 41/50\n",
            " - 142s - loss: 0.9909 - acc: 0.6112 - val_loss: 0.9994 - val_acc: 0.5917\n",
            "Epoch 42/50\n",
            " - 142s - loss: 0.9994 - acc: 0.6070 - val_loss: 0.9361 - val_acc: 0.6454\n",
            "Epoch 43/50\n",
            " - 142s - loss: 1.0123 - acc: 0.6080 - val_loss: 1.1635 - val_acc: 0.6056\n",
            "Epoch 44/50\n",
            " - 142s - loss: 0.9818 - acc: 0.6110 - val_loss: 0.9566 - val_acc: 0.6119\n",
            "Epoch 45/50\n",
            " - 143s - loss: 1.0382 - acc: 0.6080 - val_loss: 0.8891 - val_acc: 0.6414\n",
            "Epoch 46/50\n",
            " - 143s - loss: 1.0145 - acc: 0.6073 - val_loss: 0.8898 - val_acc: 0.6432\n",
            "Epoch 47/50\n",
            " - 143s - loss: 1.0215 - acc: 0.6024 - val_loss: 0.9748 - val_acc: 0.5976\n",
            "Epoch 48/50\n",
            " - 142s - loss: 1.0275 - acc: 0.6043 - val_loss: 1.1120 - val_acc: 0.5904\n",
            "Epoch 49/50\n",
            " - 143s - loss: 1.0214 - acc: 0.6068 - val_loss: 1.0801 - val_acc: 0.6376\n",
            "Epoch 50/50\n",
            " - 143s - loss: 1.0135 - acc: 0.6037 - val_loss: 1.1496 - val_acc: 0.5109\n"
          ],
          "name": "stdout"
        }
      ]
    },
    {
      "cell_type": "code",
      "metadata": {
        "id": "dyAPluH-h9bf",
        "colab_type": "code",
        "colab": {
          "base_uri": "https://localhost:8080/",
          "height": 89
        },
        "outputId": "391a8f33-8439-49aa-dcf6-7050576ecc72"
      },
      "source": [
        "train_loss, train_acc = dropout2_model.evaluate_generator(train_generator, steps=50)\n",
        "print('train_acc:', train_acc)\n",
        "print('train_loss:', train_loss)\n",
        "\n",
        "validation_loss, validation_acc = dropout2_model.evaluate_generator(validation_generator, steps=50)\n",
        "print('validation_acc:', validation_acc)\n",
        "print('validation_loss:', validation_loss)"
      ],
      "execution_count": 27,
      "outputs": [
        {
          "output_type": "stream",
          "text": [
            "train_acc: 0.49875\n",
            "train_loss: 1.1394980490207671\n",
            "validation_acc: 0.5175\n",
            "validation_loss: 1.113229625225067\n"
          ],
          "name": "stdout"
        }
      ]
    },
    {
      "cell_type": "code",
      "metadata": {
        "id": "isi-smChiCrV",
        "colab_type": "code",
        "colab": {
          "base_uri": "https://localhost:8080/",
          "height": 545
        },
        "outputId": "39f95f27-6f18-4da7-c08e-782b8619c0da"
      },
      "source": [
        "import matplotlib.pyplot as plt\n",
        "\n",
        "acc = dropout3_history.history['acc']\n",
        "val_acc = dropout3_history.history['val_acc']\n",
        "loss = dropout3_history.history['loss']\n",
        "val_loss = dropout3_history.history['val_loss']\n",
        "\n",
        "epochs = range(1, len(acc) + 1)\n",
        "\n",
        "plt.plot(epochs, acc, 'bo', label='Training acc')\n",
        "plt.plot(epochs, val_acc, 'b', label='Validation acc')\n",
        "plt.title('Training and validation accuracy')\n",
        "plt.legend()\n",
        "\n",
        "plt.figure()\n",
        "\n",
        "# Plot training and validation loss per epoch\n",
        "plt.plot(epochs, loss, 'bo', label='Training loss')\n",
        "plt.plot(epochs, val_loss, 'b', label='Validation loss')\n",
        "plt.title('Training and validation loss')\n",
        "plt.legend()\n",
        "\n",
        "plt.show()"
      ],
      "execution_count": 28,
      "outputs": [
        {
          "output_type": "display_data",
          "data": {
            "image/png": "[encoded data removed]",
            "text/plain": [
              "<Figure size 432x288 with 1 Axes>"
            ]
          },
          "metadata": {
            "tags": []
          }
        },
        {
          "output_type": "display_data",
          "data": {
            "image/png": "[encoded data removed]",
            "text/plain": [
              "<Figure size 432x288 with 1 Axes>"
            ]
          },
          "metadata": {
            "tags": []
          }
        }
      ]
    }
  ]
}