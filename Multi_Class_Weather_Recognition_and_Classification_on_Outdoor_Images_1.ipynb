{
  "nbformat": 4,
  "nbformat_minor": 0,
  "metadata": {
    "colab": {
      "name": "Multi-Class Weather Recognition and Classification on Outdoor Images 1.ipynb",
      "provenance": [],
      "collapsed_sections": [],
      "include_colab_link": true
    },
    "kernelspec": {
      "name": "python3",
      "display_name": "Python 3"
    },
    "accelerator": "GPU"
  },
  "cells": [
    {
      "cell_type": "markdown",
      "metadata": {
        "id": "view-in-github",
        "colab_type": "text"
      },
      "source": [
        "<a href=\"https://colab.research.google.com/github/teng-joyeen/teng-joyeen.github.io/blob/master/Multi_Class_Weather_Recognition_and_Classification_on_Outdoor_Images_1.ipynb\" target=\"_parent\"><img src=\"https://colab.research.google.com/assets/colab-badge.svg\" alt=\"Open In Colab\"/></a>"
      ]
    },
    {
      "cell_type": "code",
      "metadata": {
        "id": "MaNTN_e5fv2e",
        "colab_type": "code",
        "colab": {}
      },
      "source": [
        "# Install the PyDrive wrapper & import libraries.\n",
        "# This only needs to be done once per notebook.\n",
        "!pip install -U -q PyDrive\n",
        "from pydrive.auth import GoogleAuth\n",
        "from pydrive.drive import GoogleDrive\n",
        "from google.colab import auth\n",
        "from oauth2client.client import GoogleCredentials\n",
        "\n",
        "# Authenticate and create the PyDrive client.\n",
        "# This only needs to be done once per notebook.\n",
        "auth.authenticate_user()\n",
        "gauth = GoogleAuth()\n",
        "gauth.credentials = GoogleCredentials.get_application_default()\n",
        "drive = GoogleDrive(gauth)"
      ],
      "execution_count": 0,
      "outputs": []
    },
    {
      "cell_type": "code",
      "metadata": {
        "id": "gj3KsuUmr2OI",
        "colab_type": "code",
        "outputId": "ae0c7b74-fe10-4fed-9ee0-01a16e73aa37",
        "colab": {
          "base_uri": "https://localhost:8080/",
          "height": 122
        }
      },
      "source": [
        "from google.colab import drive\n",
        "drive.mount('/content/drive')"
      ],
      "execution_count": 3,
      "outputs": [
        {
          "output_type": "stream",
          "text": [
            "Go to this URL in a browser: https://accounts.google.com/o/oauth2/auth?client_id=947318989803-6bn6qk8qdgf4n4g3pfee6491hc0brc4i.apps.googleusercontent.com&redirect_uri=urn%3Aietf%3Awg%3Aoauth%3A2.0%3Aoob&scope=email%20https%3A%2F%2Fwww.googleapis.com%2Fauth%2Fdocs.test%20https%3A%2F%2Fwww.googleapis.com%2Fauth%2Fdrive%20https%3A%2F%2Fwww.googleapis.com%2Fauth%2Fdrive.photos.readonly%20https%3A%2F%2Fwww.googleapis.com%2Fauth%2Fpeopleapi.readonly&response_type=code\n",
            "\n",
            "Enter your authorization code:\n",
            "··········\n",
            "Mounted at /content/drive\n"
          ],
          "name": "stdout"
        }
      ]
    },
    {
      "cell_type": "code",
      "metadata": {
        "id": "aJSUI6XUsYXf",
        "colab_type": "code",
        "colab": {}
      },
      "source": [
        "import os\n",
        "import zipfile\n",
        "\n",
        "local_zip = '/content/drive/My Drive/weather_classification.zip'\n",
        "zip_ref = zipfile.ZipFile(local_zip, 'r')\n",
        "zip_ref.extractall('/My Drive/weather_classification')\n",
        "zip_ref.close()"
      ],
      "execution_count": 0,
      "outputs": []
    },
    {
      "cell_type": "code",
      "metadata": {
        "id": "ZOUqEpocoOwI",
        "colab_type": "code",
        "colab": {}
      },
      "source": [
        "!rm -rf weather_classification.zip"
      ],
      "execution_count": 0,
      "outputs": []
    },
    {
      "cell_type": "code",
      "metadata": {
        "id": "czSIQE2K0m5V",
        "colab_type": "code",
        "colab": {}
      },
      "source": [
        "import os, shutil\n",
        "\n",
        "cloudy_dataset_dir = '/My Drive/weather_classification/cloudy'\n",
        "rainy_dataset_dir = '/My Drive/weather_classification/rainy'\n",
        "sunny_dataset_dir = '/My Drive/weather_classification/sunny'\n",
        "snowy_dataset_dir = '/My Drive/weather_classification/snowy'\n",
        "\n",
        "base_dir = '/My Drive/weather'\n",
        "os.mkdir(base_dir)\n",
        "\n",
        "train_dir = os.path.join(base_dir, 'train')\n",
        "os.mkdir(train_dir)\n",
        "validation_dir = os.path.join(base_dir, 'validation')\n",
        "os.mkdir(validation_dir)\n",
        "test_dir = os.path.join(base_dir, 'test')\n",
        "os.mkdir(test_dir)\n",
        "\n",
        "train_cloudy_dir = os.path.join(train_dir, 'cloudy')\n",
        "os.mkdir(train_cloudy_dir)\n",
        "train_rainy_dir = os.path.join(train_dir, 'rainy')\n",
        "os.mkdir(train_rainy_dir)\n",
        "train_sunny_dir = os.path.join(train_dir, 'sunny')\n",
        "os.mkdir(train_sunny_dir)\n",
        "train_snowy_dir = os.path.join(train_dir, 'snowy')\n",
        "os.mkdir(train_snowy_dir)\n",
        "\n",
        "validation_cloudy_dir = os.path.join(validation_dir, 'cloudy')\n",
        "os.mkdir(validation_cloudy_dir)\n",
        "validation_rainy_dir = os.path.join(validation_dir, 'rainy')\n",
        "os.mkdir(validation_rainy_dir)\n",
        "validation_sunny_dir = os.path.join(validation_dir, 'sunny')\n",
        "os.mkdir(validation_sunny_dir)\n",
        "validation_snowy_dir = os.path.join(validation_dir, 'snowy')\n",
        "os.mkdir(validation_snowy_dir)\n",
        "\n",
        "test_cloudy_dir = os.path.join(test_dir, 'cloudy')\n",
        "os.mkdir(test_cloudy_dir)\n",
        "test_rainy_dir = os.path.join(test_dir, 'rainy')\n",
        "os.mkdir(test_rainy_dir)\n",
        "test_sunny_dir = os.path.join(test_dir, 'sunny')\n",
        "os.mkdir(test_sunny_dir)\n",
        "test_snowy_dir = os.path.join(test_dir, 'snowy')\n",
        "os.mkdir(test_snowy_dir)"
      ],
      "execution_count": 0,
      "outputs": []
    },
    {
      "cell_type": "code",
      "metadata": {
        "id": "-EmjHPQWxQQX",
        "colab_type": "code",
        "outputId": "18e31035-ac44-4207-9f4f-8c06fca94df9",
        "colab": {
          "base_uri": "https://localhost:8080/",
          "height": 221
        }
      },
      "source": [
        "fnames = ['cloudy_0000{}.jpg'.format(i) for i in range(0, 10)]\n",
        "for fname in fnames:\n",
        "  src = os.path.join(cloudy_dataset_dir, fname)\n",
        "  dst = os.path.join(train_cloudy_dir, fname)\n",
        "  shutil.copyfile(src, dst)\n",
        "\n",
        "fnames = ['cloudy_000{}.jpg'.format(i) for i in range(10, 100)]\n",
        "for fname in fnames:\n",
        "  src = os.path.join(cloudy_dataset_dir, fname)\n",
        "  dst = os.path.join(train_cloudy_dir, fname)\n",
        "  shutil.copyfile(src, dst)\n",
        "  \n",
        "fnames = ['cloudy_00{}.jpg'.format(i) for i in range(100, 1000)]\n",
        "for fname in fnames:\n",
        "  src = os.path.join(cloudy_dataset_dir, fname)\n",
        "  dst = os.path.join(train_cloudy_dir, fname)\n",
        "  shutil.copyfile(src, dst)\n",
        "  \n",
        "fnames = ['cloudy_0{}.jpg'.format(i) for i in range(1000, 6000)]\n",
        "for fname in fnames:\n",
        "  src = os.path.join(cloudy_dataset_dir, fname)\n",
        "  dst = os.path.join(train_cloudy_dir, fname)\n",
        "  shutil.copyfile(src, dst)  \n",
        "  \n",
        "fnames = ['cloudy_0{}.jpg'.format(i) for i in range(6000, 8000)]\n",
        "for fname in fnames:\n",
        "  src = os.path.join(cloudy_dataset_dir, fname)\n",
        "  dst = os.path.join(validation_cloudy_dir, fname)\n",
        "  shutil.copyfile(src, dst)\n",
        "  \n",
        "fnames = ['cloudy_0{}.jpg'.format(i) for i in range(8000, 10000)]\n",
        "for fname in fnames:\n",
        "  src = os.path.join(cloudy_dataset_dir, fname)\n",
        "  dst = os.path.join(test_cloudy_dir, fname)\n",
        "  shutil.copyfile(src, dst)\n",
        "  \n",
        "fnames = ['rainy_0000{}.jpg'.format(i) for i in range(0, 10)]\n",
        "for fname in fnames:\n",
        "  src = os.path.join(rainy_dataset_dir, fname)\n",
        "  dst = os.path.join(train_rainy_dir, fname)\n",
        "  shutil.copyfile(src, dst)\n",
        "\n",
        "fnames = ['rainy_000{}.jpg'.format(i) for i in range(10, 100)]\n",
        "for fname in fnames:\n",
        "  src = os.path.join(rainy_dataset_dir, fname)\n",
        "  dst = os.path.join(train_rainy_dir, fname)\n",
        "  shutil.copyfile(src, dst)\n",
        "  \n",
        "fnames = ['rainy_00{}.jpg'.format(i) for i in range(100, 1000)]\n",
        "for fname in fnames:\n",
        "  src = os.path.join(rainy_dataset_dir, fname)\n",
        "  dst = os.path.join(train_rainy_dir, fname)\n",
        "  shutil.copyfile(src, dst)\n",
        "  \n",
        "fnames = ['rainy_0{}.jpg'.format(i) for i in range(1000, 6000)]\n",
        "for fname in fnames:\n",
        "  src = os.path.join(rainy_dataset_dir, fname)\n",
        "  dst = os.path.join(train_rainy_dir, fname)\n",
        "  shutil.copyfile(src, dst)  \n",
        "  \n",
        "fnames = ['rainy_0{}.jpg'.format(i) for i in range(6000, 8000)]\n",
        "for fname in fnames:\n",
        "  src = os.path.join(rainy_dataset_dir, fname)\n",
        "  dst = os.path.join(validation_rainy_dir, fname)\n",
        "  shutil.copyfile(src, dst)\n",
        "\n",
        "fnames = ['rainy_0{}.jpg'.format(i) for i in range(8000, 10000)]\n",
        "for fname in fnames:\n",
        "  src = os.path.join(rainy_dataset_dir, fname)\n",
        "  dst = os.path.join(test_rainy_dir, fname)\n",
        "  shutil.copyfile(src, dst) \n",
        "\n",
        "fnames = ['sunny_0000{}.jpg'.format(i) for i in range(0, 10)]\n",
        "for fname in fnames:\n",
        "  src = os.path.join(sunny_dataset_dir, fname)\n",
        "  dst = os.path.join(train_sunny_dir, fname)\n",
        "  shutil.copyfile(src, dst)\n",
        "\n",
        "fnames = ['sunny_000{}.jpg'.format(i) for i in range(10, 100)]\n",
        "for fname in fnames:\n",
        "  src = os.path.join(sunny_dataset_dir, fname)\n",
        "  dst = os.path.join(train_sunny_dir, fname)\n",
        "  shutil.copyfile(src, dst)\n",
        "  \n",
        "fnames = ['sunny_00{}.jpg'.format(i) for i in range(100, 1000)]\n",
        "for fname in fnames:\n",
        "  src = os.path.join(sunny_dataset_dir, fname)\n",
        "  dst = os.path.join(train_sunny_dir, fname)\n",
        "  shutil.copyfile(src, dst)\n",
        "  \n",
        "fnames = ['sunny_0{}.jpg'.format(i) for i in range(1000, 6000)]\n",
        "for fname in fnames:\n",
        "  src = os.path.join(sunny_dataset_dir, fname)\n",
        "  dst = os.path.join(train_sunny_dir, fname)\n",
        "  shutil.copyfile(src, dst)  \n",
        "  \n",
        "fnames = ['sunny_0{}.jpg'.format(i) for i in range(6000, 8000)]\n",
        "for fname in fnames:\n",
        "  src = os.path.join(sunny_dataset_dir, fname)\n",
        "  dst = os.path.join(validation_sunny_dir, fname)\n",
        "  shutil.copyfile(src, dst)\n",
        "\n",
        "fnames = ['sunny_0{}.jpg'.format(i) for i in range(8000, 10000)]\n",
        "for fname in fnames:\n",
        "  src = os.path.join(sunny_dataset_dir, fname)\n",
        "  dst = os.path.join(test_sunny_dir, fname)\n",
        "  shutil.copyfile(src, dst)\n",
        "  \n",
        "fnames = ['snow_0000{}.jpg'.format(i) for i in range(0, 10)]\n",
        "for fname in fnames:\n",
        "  src = os.path.join(snowy_dataset_dir, fname)\n",
        "  dst = os.path.join(train_snowy_dir, fname)\n",
        "  shutil.copyfile(src, dst)\n",
        "\n",
        "fnames = ['snow_000{}.jpg'.format(i) for i in range(10, 100)]\n",
        "for fname in fnames:\n",
        "  src = os.path.join(snowy_dataset_dir, fname)\n",
        "  dst = os.path.join(train_snowy_dir, fname)\n",
        "  shutil.copyfile(src, dst)\n",
        "  \n",
        "fnames = ['snow_00{}.jpg'.format(i) for i in range(100, 1000)]\n",
        "for fname in fnames:\n",
        "  src = os.path.join(snowy_dataset_dir, fname)\n",
        "  dst = os.path.join(train_snowy_dir, fname)\n",
        "  shutil.copyfile(src, dst)\n",
        "  \n",
        "fnames = ['snow_0{}.jpg'.format(i) for i in range(1000, 6000)]\n",
        "for fname in fnames:\n",
        "  src = os.path.join(snowy_dataset_dir, fname)\n",
        "  dst = os.path.join(train_snowy_dir, fname)\n",
        "  shutil.copyfile(src, dst)  \n",
        "  \n",
        "fnames = ['snow_0{}.jpg'.format(i) for i in range(6000, 8000)]\n",
        "for fname in fnames:\n",
        "  src = os.path.join(snowy_dataset_dir, fname)\n",
        "  dst = os.path.join(validation_snowy_dir, fname)\n",
        "  shutil.copyfile(src, dst)\n",
        "\n",
        "fnames = ['snow_0{}.jpg'.format(i) for i in range(8000, 10000)]\n",
        "for fname in fnames:\n",
        "  src = os.path.join(snowy_dataset_dir, fname)\n",
        "  dst = os.path.join(test_snowy_dir, fname)\n",
        "  shutil.copyfile(src, dst)\n",
        "  \n",
        "print('total training cloudy images:', len(os.listdir(train_cloudy_dir)))\n",
        "print('total training rainy images:', len(os.listdir(train_rainy_dir)))\n",
        "print('total training sunny images:', len(os.listdir(train_sunny_dir)))\n",
        "print('total training snowy images:', len(os.listdir(train_snowy_dir)))\n",
        "  \n",
        "print('total validation cloudy images:', len(os.listdir(validation_cloudy_dir)))\n",
        "print('total validation rainy images:', len(os.listdir(validation_rainy_dir)))\n",
        "print('total validation sunny images:', len(os.listdir(validation_sunny_dir)))\n",
        "print('total validation snowy images:', len(os.listdir(validation_snowy_dir)))\n",
        "\n",
        "print('total test cloudy images:', len(os.listdir(test_cloudy_dir)))\n",
        "print('total test rainy images:', len(os.listdir(test_rainy_dir)))\n",
        "print('total test sunny images:', len(os.listdir(test_sunny_dir)))\n",
        "print('total test snowy images:', len(os.listdir(test_snowy_dir)))"
      ],
      "execution_count": 7,
      "outputs": [
        {
          "output_type": "stream",
          "text": [
            "total training cloudy images: 6000\n",
            "total training rainy images: 6000\n",
            "total training sunny images: 6000\n",
            "total training snowy images: 6000\n",
            "total validation cloudy images: 2000\n",
            "total validation rainy images: 2000\n",
            "total validation sunny images: 2000\n",
            "total validation snowy images: 2000\n",
            "total test cloudy images: 2000\n",
            "total test rainy images: 2000\n",
            "total test sunny images: 2000\n",
            "total test snowy images: 2000\n"
          ],
          "name": "stdout"
        }
      ]
    },
    {
      "cell_type": "code",
      "metadata": {
        "id": "mDizE6CdCGKe",
        "colab_type": "code",
        "colab": {}
      },
      "source": [
        "!pip install -q keras"
      ],
      "execution_count": 0,
      "outputs": []
    },
    {
      "cell_type": "code",
      "metadata": {
        "id": "cHRWaMpjXPeg",
        "colab_type": "code",
        "colab": {}
      },
      "source": [
        "import keras"
      ],
      "execution_count": 0,
      "outputs": []
    },
    {
      "cell_type": "code",
      "metadata": {
        "id": "I8l1jmUpBVVd",
        "colab_type": "code",
        "outputId": "da46a2b6-1419-4e60-e2a9-fb920d097854",
        "colab": {
          "base_uri": "https://localhost:8080/",
          "height": 527
        }
      },
      "source": [
        "from keras import layers\n",
        "from keras import models\n",
        "\n",
        "model = models. Sequential()\n",
        "model.add(layers.Conv2D(32, (3, 3), activation='relu', input_shape=(150, 150, 3)))\n",
        "model.add(layers.MaxPooling2D((2, 2)))\n",
        "model.add(layers.Conv2D(64, (3, 3), activation='relu'))\n",
        "model.add(layers.MaxPooling2D((2, 2)))\n",
        "model.add(layers.Conv2D(128, (3, 3), activation='relu'))\n",
        "model.add(layers.MaxPooling2D((2, 2)))\n",
        "model.add(layers.Conv2D(128, (3, 3), activation='relu'))\n",
        "model.add(layers.MaxPooling2D((2, 2)))\n",
        "model.add(layers.Flatten())\n",
        "model.add(layers.Dense(512, activation='relu'))\n",
        "model.add(layers.Dense(4, activation='softmax'))\n",
        "\n",
        "model.summary()"
      ],
      "execution_count": 10,
      "outputs": [
        {
          "output_type": "stream",
          "text": [
            "Model: \"sequential_3\"\n",
            "_________________________________________________________________\n",
            "Layer (type)                 Output Shape              Param #   \n",
            "=================================================================\n",
            "conv2d_9 (Conv2D)            (None, 148, 148, 32)      896       \n",
            "_________________________________________________________________\n",
            "max_pooling2d_9 (MaxPooling2 (None, 74, 74, 32)        0         \n",
            "_________________________________________________________________\n",
            "conv2d_10 (Conv2D)           (None, 72, 72, 64)        18496     \n",
            "_________________________________________________________________\n",
            "max_pooling2d_10 (MaxPooling (None, 36, 36, 64)        0         \n",
            "_________________________________________________________________\n",
            "conv2d_11 (Conv2D)           (None, 34, 34, 128)       73856     \n",
            "_________________________________________________________________\n",
            "max_pooling2d_11 (MaxPooling (None, 17, 17, 128)       0         \n",
            "_________________________________________________________________\n",
            "conv2d_12 (Conv2D)           (None, 15, 15, 128)       147584    \n",
            "_________________________________________________________________\n",
            "max_pooling2d_12 (MaxPooling (None, 7, 7, 128)         0         \n",
            "_________________________________________________________________\n",
            "flatten_3 (Flatten)          (None, 6272)              0         \n",
            "_________________________________________________________________\n",
            "dense_5 (Dense)              (None, 512)               3211776   \n",
            "_________________________________________________________________\n",
            "dense_6 (Dense)              (None, 4)                 2052      \n",
            "=================================================================\n",
            "Total params: 3,454,660\n",
            "Trainable params: 3,454,660\n",
            "Non-trainable params: 0\n",
            "_________________________________________________________________\n"
          ],
          "name": "stdout"
        }
      ]
    },
    {
      "cell_type": "code",
      "metadata": {
        "id": "OYIKk1JiQJqL",
        "colab_type": "code",
        "colab": {}
      },
      "source": [
        "from keras import optimizers \n",
        "\n",
        "model.compile(loss='categorical_crossentropy',\n",
        "              optimizer= optimizers.RMSprop(lr=0.001),\n",
        "              metrics=['acc'])"
      ],
      "execution_count": 0,
      "outputs": []
    },
    {
      "cell_type": "code",
      "metadata": {
        "id": "-JAIXKR9T_6N",
        "colab_type": "code",
        "outputId": "7b0392b3-2c02-4aad-dc66-89e495473442",
        "colab": {
          "base_uri": "https://localhost:8080/",
          "height": 51
        }
      },
      "source": [
        "from keras.preprocessing.image import ImageDataGenerator\n",
        "\n",
        "train_datagen = ImageDataGenerator(rescale=1./255)\n",
        "test_datagen = ImageDataGenerator(rescale=1./255)\n",
        "\n",
        "train_generator = train_datagen.flow_from_directory(\n",
        "        train_dir,  \n",
        "        target_size=(150, 150),  \n",
        "        batch_size=32,\n",
        "        class_mode='categorical')\n",
        "\n",
        "validation_generator = test_datagen.flow_from_directory(\n",
        "        validation_dir,\n",
        "        target_size=(150, 150),\n",
        "        batch_size=32,\n",
        "        class_mode='categorical')"
      ],
      "execution_count": 13,
      "outputs": [
        {
          "output_type": "stream",
          "text": [
            "Found 24000 images belonging to 4 classes.\n",
            "Found 8000 images belonging to 4 classes.\n"
          ],
          "name": "stdout"
        }
      ]
    },
    {
      "cell_type": "code",
      "metadata": {
        "id": "6c8Vfig2VJTt",
        "colab_type": "code",
        "outputId": "536d39a4-fd88-4307-a22b-ddc676a4fd08",
        "colab": {
          "base_uri": "https://localhost:8080/",
          "height": 357
        }
      },
      "source": [
        "history = model.fit_generator(\n",
        "      train_generator,\n",
        "      steps_per_epoch=750,  # 24000 images = batch_size * steps\n",
        "      epochs=10,\n",
        "      validation_data=validation_generator,\n",
        "      validation_steps=250,  # 8000 images = batch_size * steps\n",
        "      verbose=2)"
      ],
      "execution_count": 15,
      "outputs": [
        {
          "output_type": "stream",
          "text": [
            "Epoch 1/10\n",
            " - 142s - loss: 0.8133 - acc: 0.6715 - val_loss: 0.7940 - val_acc: 0.6680\n",
            "Epoch 2/10\n",
            " - 140s - loss: 0.7618 - acc: 0.6957 - val_loss: 0.7924 - val_acc: 0.6815\n",
            "Epoch 3/10\n",
            " - 140s - loss: 0.7265 - acc: 0.7115 - val_loss: 0.8109 - val_acc: 0.6753\n",
            "Epoch 4/10\n",
            " - 141s - loss: 0.6994 - acc: 0.7252 - val_loss: 0.8045 - val_acc: 0.6895\n",
            "Epoch 5/10\n",
            " - 140s - loss: 0.6843 - acc: 0.7314 - val_loss: 0.8432 - val_acc: 0.6930\n",
            "Epoch 6/10\n",
            " - 140s - loss: 0.6707 - acc: 0.7408 - val_loss: 0.8513 - val_acc: 0.6466\n",
            "Epoch 7/10\n",
            " - 140s - loss: 0.6672 - acc: 0.7411 - val_loss: 0.7543 - val_acc: 0.6935\n",
            "Epoch 8/10\n",
            " - 139s - loss: 0.6697 - acc: 0.7436 - val_loss: 0.8660 - val_acc: 0.6903\n",
            "Epoch 9/10\n",
            " - 140s - loss: 0.6942 - acc: 0.7342 - val_loss: 0.7880 - val_acc: 0.7154\n",
            "Epoch 10/10\n",
            " - 140s - loss: 0.6816 - acc: 0.7407 - val_loss: 0.8639 - val_acc: 0.6974\n"
          ],
          "name": "stdout"
        }
      ]
    },
    {
      "cell_type": "code",
      "metadata": {
        "id": "FBuek8QueExs",
        "colab_type": "code",
        "outputId": "0db92191-c429-41ad-b77c-aa3e2c3ad09d",
        "colab": {
          "base_uri": "https://localhost:8080/",
          "height": 85
        }
      },
      "source": [
        "train_loss, train_acc = model.evaluate_generator(train_generator, steps=50)\n",
        "print('train_acc:', train_acc)\n",
        "print('train_loss:', train_loss)\n",
        "\n",
        "validation_loss, validation_acc = model.evaluate_generator(validation_generator, steps=50)\n",
        "print('validation_acc:', validation_acc)\n",
        "print('validation_loss:', validation_loss)"
      ],
      "execution_count": 17,
      "outputs": [
        {
          "output_type": "stream",
          "text": [
            "train_acc: 0.74625\n",
            "train_loss: 0.6575227022171021\n",
            "validation_acc: 0.7\n",
            "validation_loss: 0.8841361796855927\n"
          ],
          "name": "stdout"
        }
      ]
    },
    {
      "cell_type": "code",
      "metadata": {
        "id": "9VZP8e7KXozH",
        "colab_type": "code",
        "outputId": "02e46454-7558-4f5a-cc95-6cdeaad39282",
        "colab": {
          "base_uri": "https://localhost:8080/",
          "height": 545
        }
      },
      "source": [
        "import matplotlib.pyplot as plt\n",
        "\n",
        "acc = history.history['acc']\n",
        "val_acc = history.history['val_acc']\n",
        "loss = history.history['loss']\n",
        "val_loss = history.history['val_loss']\n",
        "\n",
        "epochs = range(1, len(acc) + 1)\n",
        "\n",
        "plt.plot(epochs, acc, 'bo', label='Training acc')\n",
        "plt.plot(epochs, val_acc, 'b', label='Validation acc')\n",
        "plt.title('Training and validation accuracy')\n",
        "plt.legend()\n",
        "\n",
        "plt.figure()\n",
        "\n",
        "# Plot training and validation loss per epoch\n",
        "plt.plot(epochs, loss, 'bo', label='Training loss')\n",
        "plt.plot(epochs, val_loss, 'b', label='Validation loss')\n",
        "plt.title('Training and validation loss')\n",
        "plt.legend()\n",
        "\n",
        "plt.show()"
      ],
      "execution_count": 18,
      "outputs": [
        {
          "output_type": "display_data",
          "data": {
            "image/png": "[encoded data removed]",
            "text/plain": [
              "<Figure size 432x288 with 1 Axes>"
            ]
          },
          "metadata": {
            "tags": []
          }
        },
        {
          "output_type": "display_data",
          "data": {
            "image/png": "[encoded data removed]",
            "text/plain": [
              "<Figure size 432x288 with 1 Axes>"
            ]
          },
          "metadata": {
            "tags": []
          }
        }
      ]
    },
    {
      "cell_type": "code",
      "metadata": {
        "id": "BJX88xe3d4e4",
        "colab_type": "code",
        "colab": {}
      },
      "source": [
        "model.save('/content/drive/My Drive/Multi-Class Weather/weather_1.h5')"
      ],
      "execution_count": 0,
      "outputs": []
    },
    {
      "cell_type": "code",
      "metadata": {
        "id": "AVGj57QJJlSa",
        "colab_type": "code",
        "colab": {
          "base_uri": "https://localhost:8080/",
          "height": 561
        },
        "outputId": "6b9fe6f5-37bd-4868-9a3d-19e7cef471cc"
      },
      "source": [
        "# Add one more layer\n",
        "from keras import layers\n",
        "from keras import models\n",
        "\n",
        "add_model = models. Sequential()\n",
        "add_model.add(layers.Conv2D(32, (3, 3), activation='relu', input_shape=(150, 150, 3)))\n",
        "add_model.add(layers.MaxPooling2D((2, 2)))\n",
        "add_model.add(layers.Conv2D(64, (3, 3), activation='relu'))\n",
        "add_model.add(layers.MaxPooling2D((2, 2)))\n",
        "add_model.add(layers.Conv2D(128, (3, 3), activation='relu'))\n",
        "add_model.add(layers.MaxPooling2D((2, 2)))\n",
        "add_model.add(layers.Conv2D(128, (3, 3), activation='relu'))\n",
        "add_model.add(layers.MaxPooling2D((2, 2)))\n",
        "add_model.add(layers.Flatten())\n",
        "add_model.add(layers.Dense(512, activation='relu'))\n",
        "add_model.add(layers.Dense(512, activation='relu'))\n",
        "add_model.add(layers.Dense(4, activation='softmax'))\n",
        "\n",
        "add_model.summary()"
      ],
      "execution_count": 23,
      "outputs": [
        {
          "output_type": "stream",
          "text": [
            "Model: \"sequential_4\"\n",
            "_________________________________________________________________\n",
            "Layer (type)                 Output Shape              Param #   \n",
            "=================================================================\n",
            "conv2d_13 (Conv2D)           (None, 148, 148, 32)      896       \n",
            "_________________________________________________________________\n",
            "max_pooling2d_13 (MaxPooling (None, 74, 74, 32)        0         \n",
            "_________________________________________________________________\n",
            "conv2d_14 (Conv2D)           (None, 72, 72, 64)        18496     \n",
            "_________________________________________________________________\n",
            "max_pooling2d_14 (MaxPooling (None, 36, 36, 64)        0         \n",
            "_________________________________________________________________\n",
            "conv2d_15 (Conv2D)           (None, 34, 34, 128)       73856     \n",
            "_________________________________________________________________\n",
            "max_pooling2d_15 (MaxPooling (None, 17, 17, 128)       0         \n",
            "_________________________________________________________________\n",
            "conv2d_16 (Conv2D)           (None, 15, 15, 128)       147584    \n",
            "_________________________________________________________________\n",
            "max_pooling2d_16 (MaxPooling (None, 7, 7, 128)         0         \n",
            "_________________________________________________________________\n",
            "flatten_4 (Flatten)          (None, 6272)              0         \n",
            "_________________________________________________________________\n",
            "dense_7 (Dense)              (None, 512)               3211776   \n",
            "_________________________________________________________________\n",
            "dense_8 (Dense)              (None, 512)               262656    \n",
            "_________________________________________________________________\n",
            "dense_9 (Dense)              (None, 4)                 2052      \n",
            "=================================================================\n",
            "Total params: 3,717,316\n",
            "Trainable params: 3,717,316\n",
            "Non-trainable params: 0\n",
            "_________________________________________________________________\n"
          ],
          "name": "stdout"
        }
      ]
    },
    {
      "cell_type": "code",
      "metadata": {
        "id": "j0253-PtK_R-",
        "colab_type": "code",
        "colab": {
          "base_uri": "https://localhost:8080/",
          "height": 357
        },
        "outputId": "6deee34d-e66f-4fcc-bbbc-cd27d9ca79a8"
      },
      "source": [
        "from keras import optimizers \n",
        "\n",
        "add_model.compile(loss='categorical_crossentropy',\n",
        "              optimizer= optimizers.RMSprop(lr=0.001),\n",
        "              metrics=['acc'])\n",
        "\n",
        "add_history = add_model.fit_generator(\n",
        "      train_generator,\n",
        "      steps_per_epoch=750,  # 24000 images = batch_size * steps\n",
        "      epochs=10,\n",
        "      validation_data=validation_generator,\n",
        "      validation_steps=250,  # 8000 images = batch_size * steps\n",
        "      verbose=2)"
      ],
      "execution_count": 25,
      "outputs": [
        {
          "output_type": "stream",
          "text": [
            "Epoch 1/10\n",
            " - 143s - loss: 1.0900 - acc: 0.5370 - val_loss: 0.8766 - val_acc: 0.6410\n",
            "Epoch 2/10\n",
            " - 140s - loss: 0.8819 - acc: 0.6390 - val_loss: 1.0224 - val_acc: 0.6259\n",
            "Epoch 3/10\n",
            " - 140s - loss: 0.8119 - acc: 0.6758 - val_loss: 0.7934 - val_acc: 0.6944\n",
            "Epoch 4/10\n",
            " - 140s - loss: 0.7706 - acc: 0.6952 - val_loss: 0.8960 - val_acc: 0.6402\n",
            "Epoch 5/10\n",
            " - 139s - loss: 0.7528 - acc: 0.7007 - val_loss: 0.7715 - val_acc: 0.6936\n",
            "Epoch 6/10\n",
            " - 140s - loss: 0.7411 - acc: 0.7063 - val_loss: 0.9987 - val_acc: 0.5823\n",
            "Epoch 7/10\n",
            " - 140s - loss: 0.7405 - acc: 0.7077 - val_loss: 1.0670 - val_acc: 0.6298\n",
            "Epoch 8/10\n",
            " - 140s - loss: 0.7363 - acc: 0.7139 - val_loss: 0.7877 - val_acc: 0.6761\n",
            "Epoch 9/10\n",
            " - 140s - loss: 0.7475 - acc: 0.7114 - val_loss: 0.9405 - val_acc: 0.6195\n",
            "Epoch 10/10\n",
            " - 140s - loss: 0.7554 - acc: 0.7109 - val_loss: 1.0886 - val_acc: 0.6001\n"
          ],
          "name": "stdout"
        }
      ]
    },
    {
      "cell_type": "code",
      "metadata": {
        "id": "E0Mj75LSSjie",
        "colab_type": "code",
        "colab": {
          "base_uri": "https://localhost:8080/",
          "height": 613
        },
        "outputId": "3bbbff32-a218-4ac6-cd54-9553f023edf2"
      },
      "source": [
        "train_loss, train_acc = add_model.evaluate_generator(train_generator, steps=50)\n",
        "print('train_acc:', train_acc)\n",
        "print('train_loss:', train_loss)\n",
        "\n",
        "validation_loss, validation_acc = add_model.evaluate_generator(validation_generator, steps=50)\n",
        "print('validation_acc:', validation_acc)\n",
        "print('validation_loss:', validation_loss)\n",
        "\n",
        "import matplotlib.pyplot as plt\n",
        "\n",
        "acc = add_history.history['acc']\n",
        "val_acc = add_history.history['val_acc']\n",
        "loss = add_history.history['loss']\n",
        "val_loss = add_history.history['val_loss']\n",
        "\n",
        "epochs = range(1, len(acc) + 1)\n",
        "\n",
        "plt.plot(epochs, acc, 'bo', label='Training acc_Add layer')\n",
        "plt.plot(epochs, val_acc, 'b', label='Validation acc_Add layer')\n",
        "plt.title('Training and validation accuracy_Add layer')\n",
        "plt.legend()\n",
        "\n",
        "plt.figure()\n",
        "\n",
        "# Plot training and validation loss per epoch\n",
        "plt.plot(epochs, loss, 'bo', label='Training loss_Add layer')\n",
        "plt.plot(epochs, val_loss, 'b', label='Validation loss_Add layer')\n",
        "plt.title('Training and validation loss_Add layer')\n",
        "plt.legend()\n",
        "\n",
        "plt.show()"
      ],
      "execution_count": 31,
      "outputs": [
        {
          "output_type": "stream",
          "text": [
            "train_acc: 0.625625\n",
            "train_loss: 1.057477318048477\n",
            "validation_acc: 0.598125\n",
            "validation_loss: 1.1108313167095185\n"
          ],
          "name": "stdout"
        },
        {
          "output_type": "display_data",
          "data": {
            "image/png": "[encoded data removed]",
            "text/plain": [
              "<Figure size 432x288 with 1 Axes>"
            ]
          },
          "metadata": {
            "tags": []
          }
        },
        {
          "output_type": "display_data",
          "data": {
            "image/png": "[encoded data removed]",
            "text/plain": [
              "<Figure size 432x288 with 1 Axes>"
            ]
          },
          "metadata": {
            "tags": []
          }
        }
      ]
    },
    {
      "cell_type": "code",
      "metadata": {
        "id": "gYa4Tzklvrj7",
        "colab_type": "code",
        "colab": {}
      },
      "source": [
        "model.save('/content/drive/My Drive/Multi-Class Weather/weather_2.h5')"
      ],
      "execution_count": 0,
      "outputs": []
    },
    {
      "cell_type": "code",
      "metadata": {
        "id": "5vrcGEU1fj5E",
        "colab_type": "code",
        "colab": {
          "base_uri": "https://localhost:8080/",
          "height": 561
        },
        "outputId": "116aa5b2-63ef-4f0c-899c-cdd6c4d76d7f"
      },
      "source": [
        "# Reduce network's size to 256\n",
        "from keras import layers\n",
        "from keras import models\n",
        "\n",
        "smaller_model = models. Sequential()\n",
        "smaller_model.add(layers.Conv2D(32, (3, 3), activation='relu', input_shape=(150, 150, 3)))\n",
        "smaller_model.add(layers.MaxPooling2D((2, 2)))\n",
        "smaller_model.add(layers.Conv2D(64, (3, 3), activation='relu'))\n",
        "smaller_model.add(layers.MaxPooling2D((2, 2)))\n",
        "smaller_model.add(layers.Conv2D(128, (3, 3), activation='relu'))\n",
        "smaller_model.add(layers.MaxPooling2D((2, 2)))\n",
        "smaller_model.add(layers.Conv2D(128, (3, 3), activation='relu'))\n",
        "smaller_model.add(layers.MaxPooling2D((2, 2)))\n",
        "smaller_model.add(layers.Flatten())\n",
        "smaller_model.add(layers.Dense(256, activation='relu'))\n",
        "smaller_model.add(layers.Dense(256, activation='relu'))\n",
        "smaller_model.add(layers.Dense(4, activation='softmax'))\n",
        "\n",
        "smaller_model.summary()"
      ],
      "execution_count": 37,
      "outputs": [
        {
          "output_type": "stream",
          "text": [
            "Model: \"sequential_8\"\n",
            "_________________________________________________________________\n",
            "Layer (type)                 Output Shape              Param #   \n",
            "=================================================================\n",
            "conv2d_29 (Conv2D)           (None, 148, 148, 32)      896       \n",
            "_________________________________________________________________\n",
            "max_pooling2d_29 (MaxPooling (None, 74, 74, 32)        0         \n",
            "_________________________________________________________________\n",
            "conv2d_30 (Conv2D)           (None, 72, 72, 64)        18496     \n",
            "_________________________________________________________________\n",
            "max_pooling2d_30 (MaxPooling (None, 36, 36, 64)        0         \n",
            "_________________________________________________________________\n",
            "conv2d_31 (Conv2D)           (None, 34, 34, 128)       73856     \n",
            "_________________________________________________________________\n",
            "max_pooling2d_31 (MaxPooling (None, 17, 17, 128)       0         \n",
            "_________________________________________________________________\n",
            "conv2d_32 (Conv2D)           (None, 15, 15, 128)       147584    \n",
            "_________________________________________________________________\n",
            "max_pooling2d_32 (MaxPooling (None, 7, 7, 128)         0         \n",
            "_________________________________________________________________\n",
            "flatten_8 (Flatten)          (None, 6272)              0         \n",
            "_________________________________________________________________\n",
            "dense_19 (Dense)             (None, 256)               1605888   \n",
            "_________________________________________________________________\n",
            "dense_20 (Dense)             (None, 256)               65792     \n",
            "_________________________________________________________________\n",
            "dense_21 (Dense)             (None, 4)                 1028      \n",
            "=================================================================\n",
            "Total params: 1,913,540\n",
            "Trainable params: 1,913,540\n",
            "Non-trainable params: 0\n",
            "_________________________________________________________________\n"
          ],
          "name": "stdout"
        }
      ]
    },
    {
      "cell_type": "code",
      "metadata": {
        "id": "ntYxd4wCfkUW",
        "colab_type": "code",
        "colab": {
          "base_uri": "https://localhost:8080/",
          "height": 357
        },
        "outputId": "fbe384b4-ff90-4067-e91d-ad65bfcdb674"
      },
      "source": [
        "from keras import optimizers \n",
        "\n",
        "smaller_model.compile(loss='categorical_crossentropy',\n",
        "              optimizer= optimizers.RMSprop(lr=0.001),\n",
        "              metrics=['acc'])\n",
        "\n",
        "smaller_history = smaller_model.fit_generator(\n",
        "      train_generator,\n",
        "      steps_per_epoch=750,  # 24000 images = batch_size * steps\n",
        "      epochs=10,\n",
        "      validation_data=validation_generator,\n",
        "      validation_steps=250,  # 8000 images = batch_size * steps\n",
        "      verbose=2)"
      ],
      "execution_count": 38,
      "outputs": [
        {
          "output_type": "stream",
          "text": [
            "Epoch 1/10\n",
            " - 142s - loss: 1.0640 - acc: 0.5423 - val_loss: 0.9680 - val_acc: 0.5978\n",
            "Epoch 2/10\n",
            " - 140s - loss: 0.8801 - acc: 0.6379 - val_loss: 0.8271 - val_acc: 0.6626\n",
            "Epoch 3/10\n",
            " - 140s - loss: 0.8049 - acc: 0.6773 - val_loss: 0.7841 - val_acc: 0.6806\n",
            "Epoch 4/10\n",
            " - 140s - loss: 0.7659 - acc: 0.6928 - val_loss: 0.7591 - val_acc: 0.6917\n",
            "Epoch 5/10\n",
            " - 140s - loss: 0.7404 - acc: 0.7048 - val_loss: 0.7655 - val_acc: 0.6914\n",
            "Epoch 6/10\n",
            " - 140s - loss: 0.7434 - acc: 0.7047 - val_loss: 0.7267 - val_acc: 0.7107\n",
            "Epoch 7/10\n",
            " - 140s - loss: 0.7417 - acc: 0.7105 - val_loss: 0.8624 - val_acc: 0.6474\n",
            "Epoch 8/10\n",
            " - 140s - loss: 0.7317 - acc: 0.7124 - val_loss: 0.7917 - val_acc: 0.7150\n",
            "Epoch 9/10\n",
            " - 142s - loss: 0.7272 - acc: 0.7159 - val_loss: 0.8264 - val_acc: 0.6546\n",
            "Epoch 10/10\n",
            " - 141s - loss: 0.7321 - acc: 0.7178 - val_loss: 0.8706 - val_acc: 0.6328\n"
          ],
          "name": "stdout"
        }
      ]
    },
    {
      "cell_type": "code",
      "metadata": {
        "id": "ORzo0MLXfk4O",
        "colab_type": "code",
        "colab": {
          "base_uri": "https://localhost:8080/",
          "height": 613
        },
        "outputId": "caa4d17f-5a56-4d32-d467-a9a3d1f9761f"
      },
      "source": [
        "train_loss, train_acc = smaller_model.evaluate_generator(train_generator, steps=50)\n",
        "print('train_acc:', train_acc)\n",
        "print('train_loss:', train_loss)\n",
        "\n",
        "validation_loss, validation_acc = smaller_model.evaluate_generator(validation_generator, steps=50)\n",
        "print('validation_acc:', validation_acc)\n",
        "print('validation_loss:', validation_loss)\n",
        "\n",
        "import matplotlib.pyplot as plt\n",
        "\n",
        "acc = smaller_history.history['acc']\n",
        "val_acc = smaller_history.history['val_acc']\n",
        "loss = smaller_history.history['loss']\n",
        "val_loss = smaller_history.history['val_loss']\n",
        "\n",
        "epochs = range(1, len(acc) + 1)\n",
        "\n",
        "plt.plot(epochs, acc, 'bo', label='Training acc_Smaller layer')\n",
        "plt.plot(epochs, val_acc, 'b', label='Validation acc_Smaller layer')\n",
        "plt.title('Training and validation accuracy_Smaller layer')\n",
        "plt.legend()\n",
        "\n",
        "plt.figure()\n",
        "\n",
        "# Plot training and validation loss per epoch\n",
        "plt.plot(epochs, loss, 'bo', label='Training loss_Smaller layer')\n",
        "plt.plot(epochs, val_loss, 'b', label='Validation loss_Smaller layer')\n",
        "plt.title('Training and validation loss_Smaller layer')\n",
        "plt.legend()\n",
        "\n",
        "plt.show()"
      ],
      "execution_count": 39,
      "outputs": [
        {
          "output_type": "stream",
          "text": [
            "train_acc: 0.6625\n",
            "train_loss: 0.7818984770774842\n",
            "validation_acc: 0.639375\n",
            "validation_loss: 0.8591534411907196\n"
          ],
          "name": "stdout"
        },
        {
          "output_type": "display_data",
          "data": {
            "image/png": "[encoded data removed]",
            "text/plain": [
              "<Figure size 432x288 with 1 Axes>"
            ]
          },
          "metadata": {
            "tags": []
          }
        },
        {
          "output_type": "display_data",
          "data": {
            "image/png": "[encoded data removed]",
            "text/plain": [
              "<Figure size 432x288 with 1 Axes>"
            ]
          },
          "metadata": {
            "tags": []
          }
        }
      ]
    },
    {
      "cell_type": "code",
      "metadata": {
        "id": "nqGHnnv7v8Me",
        "colab_type": "code",
        "colab": {}
      },
      "source": [
        "model.save('/content/drive/My Drive/Multi-Class Weather/weather_3.h5')"
      ],
      "execution_count": 0,
      "outputs": []
    },
    {
      "cell_type": "code",
      "metadata": {
        "id": "mDugLZsF4LtS",
        "colab_type": "code",
        "colab": {}
      },
      "source": [
        "# Add dropout\n",
        "from keras import layers\n",
        "from keras import models\n",
        "\n",
        "dropout_model = models. Sequential()\n",
        "dropout_model.add(layers.Conv2D(32, (3, 3), activation='relu', input_shape=(150, 150, 3)))\n",
        "dropout_model.add(layers.MaxPooling2D((2, 2)))\n",
        "dropout_model.add(layers.Conv2D(64, (3, 3), activation='relu'))\n",
        "dropout_model.add(layers.MaxPooling2D((2, 2)))\n",
        "dropout_model.add(layers.Conv2D(128, (3, 3), activation='relu'))\n",
        "dropout_model.add(layers.MaxPooling2D((2, 2)))\n",
        "dropout_model.add(layers.Conv2D(128, (3, 3), activation='relu'))\n",
        "dropout_model.add(layers.MaxPooling2D((2, 2)))\n",
        "dropout_model.add(layers.Flatten())\n",
        "dropout_model.add(layers.Dropout(0.5))\n",
        "dropout_model.add(layers.Dense(512, activation='relu'))\n",
        "dropout_model.add(layers.Dense(4, activation='softmax'))\n",
        "\n",
        "dropout_model.summary()"
      ],
      "execution_count": 0,
      "outputs": []
    },
    {
      "cell_type": "code",
      "metadata": {
        "id": "FJSbqryuCQhU",
        "colab_type": "code",
        "colab": {}
      },
      "source": [
        "from keras import optimizers \n",
        "\n",
        "dropout_model.compile(loss='categorical_crossentropy',\n",
        "              optimizer= optimizers.RMSprop(lr=0.001),\n",
        "              metrics=['acc'])\n",
        "\n",
        "dropout_history = dropout_model.fit_generator(\n",
        "      train_generator,\n",
        "      steps_per_epoch=750,  # 24000 images = batch_size * steps\n",
        "      epochs=10,\n",
        "      validation_data=validation_generator,\n",
        "      validation_steps=250,  # 8000 images = batch_size * steps\n",
        "      verbose=2)\n",
        "\n",
        "train_loss, train_acc = dropout_model.evaluate_generator(train_generator, steps=50)\n",
        "print('train_acc:', train_acc)\n",
        "print('train_loss:', train_loss)\n",
        "\n",
        "validation_loss, validation_acc = dropout_model.evaluate_generator(validation_generator, steps=50)\n",
        "print('validation_acc:', validation_acc)\n",
        "print('validation_loss:', validation_loss)"
      ],
      "execution_count": 0,
      "outputs": []
    },
    {
      "cell_type": "code",
      "metadata": {
        "id": "BrcmvusdCMic",
        "colab_type": "code",
        "colab": {}
      },
      "source": [
        "import matplotlib.pyplot as plt\n",
        "\n",
        "acc = dropout_history.history['acc']\n",
        "val_acc = dropout_history.history['val_acc']\n",
        "loss = dropout_history.history['loss']\n",
        "val_loss = dropout_history.history['val_loss']\n",
        "\n",
        "epochs = range(1, len(acc) + 1)\n",
        "\n",
        "plt.plot(epochs, acc, 'bo', label='Training acc_dropout')\n",
        "plt.plot(epochs, val_acc, 'b', label='Validation acc_dropout')\n",
        "plt.title('Training and validation accuracy_dropout')\n",
        "plt.legend()\n",
        "\n",
        "plt.figure()\n",
        "\n",
        "# Plot training and validation loss per epoch\n",
        "plt.plot(epochs, loss, 'bo', label='Training loss_dropout')\n",
        "plt.plot(epochs, val_loss, 'b', label='Validation loss_dropout')\n",
        "plt.title('Training and validation loss_dropout')\n",
        "plt.legend()\n",
        "\n",
        "plt.show()"
      ],
      "execution_count": 0,
      "outputs": []
    },
    {
      "cell_type": "code",
      "metadata": {
        "id": "1R20ulXUCZg6",
        "colab_type": "code",
        "colab": {}
      },
      "source": [
        "model.save('/content/drive/My Drive/Multi-Class Weather/weather_4.h5')"
      ],
      "execution_count": 0,
      "outputs": []
    }
  ]
}