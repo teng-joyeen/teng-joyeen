{
  "nbformat": 4,
  "nbformat_minor": 0,
  "metadata": {
    "colab": {
      "name": "Testing",
      "provenance": [],
      "collapsed_sections": [],
      "include_colab_link": true
    },
    "kernelspec": {
      "name": "python3",
      "display_name": "Python 3"
    },
    "accelerator": "GPU"
  },
  "cells": [
    {
      "cell_type": "markdown",
      "metadata": {
        "id": "view-in-github",
        "colab_type": "text"
      },
      "source": [
        "<a href=\"https://colab.research.google.com/github/teng-joyeen/teng-joyeen.github.io/blob/master/Testing.ipynb\" target=\"_parent\"><img src=\"https://colab.research.google.com/assets/colab-badge.svg\" alt=\"Open In Colab\"/></a>"
      ]
    },
    {
      "cell_type": "code",
      "metadata": {
        "id": "MaNTN_e5fv2e",
        "colab_type": "code",
        "colab": {}
      },
      "source": [
        "# Install the PyDrive wrapper & import libraries.\n",
        "# This only needs to be done once per notebook.\n",
        "!pip install -U -q PyDrive\n",
        "from pydrive.auth import GoogleAuth\n",
        "from pydrive.drive import GoogleDrive\n",
        "from google.colab import auth\n",
        "from oauth2client.client import GoogleCredentials\n",
        "\n",
        "# Authenticate and create the PyDrive client.\n",
        "# This only needs to be done once per notebook.\n",
        "auth.authenticate_user()\n",
        "gauth = GoogleAuth()\n",
        "gauth.credentials = GoogleCredentials.get_application_default()\n",
        "drive = GoogleDrive(gauth)"
      ],
      "execution_count": 0,
      "outputs": []
    },
    {
      "cell_type": "code",
      "metadata": {
        "id": "gj3KsuUmr2OI",
        "colab_type": "code",
        "outputId": "1961a067-a963-42d9-c180-f8451da3f819",
        "colab": {
          "base_uri": "https://localhost:8080/",
          "height": 127
        }
      },
      "source": [
        "from google.colab import drive\n",
        "drive.mount('/content/drive')"
      ],
      "execution_count": 0,
      "outputs": [
        {
          "output_type": "stream",
          "text": [
            "Go to this URL in a browser: https://accounts.google.com/o/oauth2/auth?client_id=947318989803-6bn6qk8qdgf4n4g3pfee6491hc0brc4i.apps.googleusercontent.com&redirect_uri=urn%3Aietf%3Awg%3Aoauth%3A2.0%3Aoob&scope=email%20https%3A%2F%2Fwww.googleapis.com%2Fauth%2Fdocs.test%20https%3A%2F%2Fwww.googleapis.com%2Fauth%2Fdrive%20https%3A%2F%2Fwww.googleapis.com%2Fauth%2Fdrive.photos.readonly%20https%3A%2F%2Fwww.googleapis.com%2Fauth%2Fpeopleapi.readonly&response_type=code\n",
            "\n",
            "Enter your authorization code:\n",
            "··········\n",
            "Mounted at /content/drive\n"
          ],
          "name": "stdout"
        }
      ]
    },
    {
      "cell_type": "code",
      "metadata": {
        "id": "aJSUI6XUsYXf",
        "colab_type": "code",
        "colab": {}
      },
      "source": [
        "import os\n",
        "import zipfile\n",
        "\n",
        "local_zip = '/content/drive/My Drive/weather_classification.zip'\n",
        "zip_ref = zipfile.ZipFile(local_zip, 'r')\n",
        "zip_ref.extractall('/My Drive/weather_classification')\n",
        "zip_ref.close()"
      ],
      "execution_count": 0,
      "outputs": []
    },
    {
      "cell_type": "code",
      "metadata": {
        "id": "ZOUqEpocoOwI",
        "colab_type": "code",
        "colab": {}
      },
      "source": [
        "!rm -rf weather_classification.zip"
      ],
      "execution_count": 0,
      "outputs": []
    },
    {
      "cell_type": "code",
      "metadata": {
        "id": "czSIQE2K0m5V",
        "colab_type": "code",
        "colab": {}
      },
      "source": [
        "import os, shutil\n",
        "\n",
        "cloudy_dataset_dir = '/My Drive/weather_classification/cloudy'\n",
        "rainy_dataset_dir = '/My Drive/weather_classification/rainy'\n",
        "sunny_dataset_dir = '/My Drive/weather_classification/sunny'\n",
        "snowy_dataset_dir = '/My Drive/weather_classification/snowy'\n",
        "\n",
        "base_dir = '/My Drive/weather'\n",
        "os.mkdir(base_dir)\n",
        "\n",
        "train_dir = os.path.join(base_dir, 'train')\n",
        "os.mkdir(train_dir)\n",
        "validation_dir = os.path.join(base_dir, 'validation')\n",
        "os.mkdir(validation_dir)\n",
        "test_dir = os.path.join(base_dir, 'test')\n",
        "os.mkdir(test_dir)\n",
        "\n",
        "train_cloudy_dir = os.path.join(train_dir, 'cloudy')\n",
        "os.mkdir(train_cloudy_dir)\n",
        "train_rainy_dir = os.path.join(train_dir, 'rainy')\n",
        "os.mkdir(train_rainy_dir)\n",
        "train_sunny_dir = os.path.join(train_dir, 'sunny')\n",
        "os.mkdir(train_sunny_dir)\n",
        "train_snowy_dir = os.path.join(train_dir, 'snowy')\n",
        "os.mkdir(train_snowy_dir)\n",
        "\n",
        "validation_cloudy_dir = os.path.join(validation_dir, 'cloudy')\n",
        "os.mkdir(validation_cloudy_dir)\n",
        "validation_rainy_dir = os.path.join(validation_dir, 'rainy')\n",
        "os.mkdir(validation_rainy_dir)\n",
        "validation_sunny_dir = os.path.join(validation_dir, 'sunny')\n",
        "os.mkdir(validation_sunny_dir)\n",
        "validation_snowy_dir = os.path.join(validation_dir, 'snowy')\n",
        "os.mkdir(validation_snowy_dir)\n",
        "\n",
        "test_cloudy_dir = os.path.join(test_dir, 'cloudy')\n",
        "os.mkdir(test_cloudy_dir)\n",
        "test_rainy_dir = os.path.join(test_dir, 'rainy')\n",
        "os.mkdir(test_rainy_dir)\n",
        "test_sunny_dir = os.path.join(test_dir, 'sunny')\n",
        "os.mkdir(test_sunny_dir)\n",
        "test_snowy_dir = os.path.join(test_dir, 'snowy')\n",
        "os.mkdir(test_snowy_dir)"
      ],
      "execution_count": 0,
      "outputs": []
    },
    {
      "cell_type": "code",
      "metadata": {
        "id": "-EmjHPQWxQQX",
        "colab_type": "code",
        "outputId": "616cb9e1-fed6-42d2-f94b-6441d6f8a9c0",
        "colab": {
          "base_uri": "https://localhost:8080/",
          "height": 233
        }
      },
      "source": [
        "fnames = ['cloudy_0000{}.jpg'.format(i) for i in range(0, 10)]\n",
        "for fname in fnames:\n",
        "  src = os.path.join(cloudy_dataset_dir, fname)\n",
        "  dst = os.path.join(train_cloudy_dir, fname)\n",
        "  shutil.copyfile(src, dst)\n",
        "\n",
        "fnames = ['cloudy_000{}.jpg'.format(i) for i in range(10, 100)]\n",
        "for fname in fnames:\n",
        "  src = os.path.join(cloudy_dataset_dir, fname)\n",
        "  dst = os.path.join(train_cloudy_dir, fname)\n",
        "  shutil.copyfile(src, dst)\n",
        "  \n",
        "fnames = ['cloudy_00{}.jpg'.format(i) for i in range(100, 1000)]\n",
        "for fname in fnames:\n",
        "  src = os.path.join(cloudy_dataset_dir, fname)\n",
        "  dst = os.path.join(train_cloudy_dir, fname)\n",
        "  shutil.copyfile(src, dst)\n",
        "  \n",
        "fnames = ['cloudy_0{}.jpg'.format(i) for i in range(1000, 6000)]\n",
        "for fname in fnames:\n",
        "  src = os.path.join(cloudy_dataset_dir, fname)\n",
        "  dst = os.path.join(train_cloudy_dir, fname)\n",
        "  shutil.copyfile(src, dst)  \n",
        "  \n",
        "fnames = ['cloudy_0{}.jpg'.format(i) for i in range(6000, 8000)]\n",
        "for fname in fnames:\n",
        "  src = os.path.join(cloudy_dataset_dir, fname)\n",
        "  dst = os.path.join(validation_cloudy_dir, fname)\n",
        "  shutil.copyfile(src, dst)\n",
        "  \n",
        "fnames = ['cloudy_0{}.jpg'.format(i) for i in range(8000, 10000)]\n",
        "for fname in fnames:\n",
        "  src = os.path.join(cloudy_dataset_dir, fname)\n",
        "  dst = os.path.join(test_cloudy_dir, fname)\n",
        "  shutil.copyfile(src, dst)\n",
        "  \n",
        "fnames = ['rainy_0000{}.jpg'.format(i) for i in range(0, 10)]\n",
        "for fname in fnames:\n",
        "  src = os.path.join(rainy_dataset_dir, fname)\n",
        "  dst = os.path.join(train_rainy_dir, fname)\n",
        "  shutil.copyfile(src, dst)\n",
        "\n",
        "fnames = ['rainy_000{}.jpg'.format(i) for i in range(10, 100)]\n",
        "for fname in fnames:\n",
        "  src = os.path.join(rainy_dataset_dir, fname)\n",
        "  dst = os.path.join(train_rainy_dir, fname)\n",
        "  shutil.copyfile(src, dst)\n",
        "  \n",
        "fnames = ['rainy_00{}.jpg'.format(i) for i in range(100, 1000)]\n",
        "for fname in fnames:\n",
        "  src = os.path.join(rainy_dataset_dir, fname)\n",
        "  dst = os.path.join(train_rainy_dir, fname)\n",
        "  shutil.copyfile(src, dst)\n",
        "  \n",
        "fnames = ['rainy_0{}.jpg'.format(i) for i in range(1000, 6000)]\n",
        "for fname in fnames:\n",
        "  src = os.path.join(rainy_dataset_dir, fname)\n",
        "  dst = os.path.join(train_rainy_dir, fname)\n",
        "  shutil.copyfile(src, dst)  \n",
        "  \n",
        "fnames = ['rainy_0{}.jpg'.format(i) for i in range(6000, 8000)]\n",
        "for fname in fnames:\n",
        "  src = os.path.join(rainy_dataset_dir, fname)\n",
        "  dst = os.path.join(validation_rainy_dir, fname)\n",
        "  shutil.copyfile(src, dst)\n",
        "\n",
        "fnames = ['rainy_0{}.jpg'.format(i) for i in range(8000, 10000)]\n",
        "for fname in fnames:\n",
        "  src = os.path.join(rainy_dataset_dir, fname)\n",
        "  dst = os.path.join(test_rainy_dir, fname)\n",
        "  shutil.copyfile(src, dst) \n",
        "\n",
        "fnames = ['sunny_0000{}.jpg'.format(i) for i in range(0, 10)]\n",
        "for fname in fnames:\n",
        "  src = os.path.join(sunny_dataset_dir, fname)\n",
        "  dst = os.path.join(train_sunny_dir, fname)\n",
        "  shutil.copyfile(src, dst)\n",
        "\n",
        "fnames = ['sunny_000{}.jpg'.format(i) for i in range(10, 100)]\n",
        "for fname in fnames:\n",
        "  src = os.path.join(sunny_dataset_dir, fname)\n",
        "  dst = os.path.join(train_sunny_dir, fname)\n",
        "  shutil.copyfile(src, dst)\n",
        "  \n",
        "fnames = ['sunny_00{}.jpg'.format(i) for i in range(100, 1000)]\n",
        "for fname in fnames:\n",
        "  src = os.path.join(sunny_dataset_dir, fname)\n",
        "  dst = os.path.join(train_sunny_dir, fname)\n",
        "  shutil.copyfile(src, dst)\n",
        "  \n",
        "fnames = ['sunny_0{}.jpg'.format(i) for i in range(1000, 6000)]\n",
        "for fname in fnames:\n",
        "  src = os.path.join(sunny_dataset_dir, fname)\n",
        "  dst = os.path.join(train_sunny_dir, fname)\n",
        "  shutil.copyfile(src, dst)  \n",
        "  \n",
        "fnames = ['sunny_0{}.jpg'.format(i) for i in range(6000, 8000)]\n",
        "for fname in fnames:\n",
        "  src = os.path.join(sunny_dataset_dir, fname)\n",
        "  dst = os.path.join(validation_sunny_dir, fname)\n",
        "  shutil.copyfile(src, dst)\n",
        "\n",
        "fnames = ['sunny_0{}.jpg'.format(i) for i in range(8000, 10000)]\n",
        "for fname in fnames:\n",
        "  src = os.path.join(sunny_dataset_dir, fname)\n",
        "  dst = os.path.join(test_sunny_dir, fname)\n",
        "  shutil.copyfile(src, dst)\n",
        "  \n",
        "fnames = ['snow_0000{}.jpg'.format(i) for i in range(0, 10)]\n",
        "for fname in fnames:\n",
        "  src = os.path.join(snowy_dataset_dir, fname)\n",
        "  dst = os.path.join(train_snowy_dir, fname)\n",
        "  shutil.copyfile(src, dst)\n",
        "\n",
        "fnames = ['snow_000{}.jpg'.format(i) for i in range(10, 100)]\n",
        "for fname in fnames:\n",
        "  src = os.path.join(snowy_dataset_dir, fname)\n",
        "  dst = os.path.join(train_snowy_dir, fname)\n",
        "  shutil.copyfile(src, dst)\n",
        "  \n",
        "fnames = ['snow_00{}.jpg'.format(i) for i in range(100, 1000)]\n",
        "for fname in fnames:\n",
        "  src = os.path.join(snowy_dataset_dir, fname)\n",
        "  dst = os.path.join(train_snowy_dir, fname)\n",
        "  shutil.copyfile(src, dst)\n",
        "  \n",
        "fnames = ['snow_0{}.jpg'.format(i) for i in range(1000, 6000)]\n",
        "for fname in fnames:\n",
        "  src = os.path.join(snowy_dataset_dir, fname)\n",
        "  dst = os.path.join(train_snowy_dir, fname)\n",
        "  shutil.copyfile(src, dst)  \n",
        "  \n",
        "fnames = ['snow_0{}.jpg'.format(i) for i in range(6000, 8000)]\n",
        "for fname in fnames:\n",
        "  src = os.path.join(snowy_dataset_dir, fname)\n",
        "  dst = os.path.join(validation_snowy_dir, fname)\n",
        "  shutil.copyfile(src, dst)\n",
        "\n",
        "fnames = ['snow_0{}.jpg'.format(i) for i in range(8000, 10000)]\n",
        "for fname in fnames:\n",
        "  src = os.path.join(snowy_dataset_dir, fname)\n",
        "  dst = os.path.join(test_snowy_dir, fname)\n",
        "  shutil.copyfile(src, dst)\n",
        "  \n",
        "print('total training cloudy images:', len(os.listdir(train_cloudy_dir)))\n",
        "print('total training rainy images:', len(os.listdir(train_rainy_dir)))\n",
        "print('total training sunny images:', len(os.listdir(train_sunny_dir)))\n",
        "print('total training snowy images:', len(os.listdir(train_snowy_dir)))\n",
        "  \n",
        "print('total validation cloudy images:', len(os.listdir(validation_cloudy_dir)))\n",
        "print('total validation rainy images:', len(os.listdir(validation_rainy_dir)))\n",
        "print('total validation sunny images:', len(os.listdir(validation_sunny_dir)))\n",
        "print('total validation snowy images:', len(os.listdir(validation_snowy_dir)))\n",
        "\n",
        "print('total test cloudy images:', len(os.listdir(test_cloudy_dir)))\n",
        "print('total test rainy images:', len(os.listdir(test_rainy_dir)))\n",
        "print('total test sunny images:', len(os.listdir(test_sunny_dir)))\n",
        "print('total test snowy images:', len(os.listdir(test_snowy_dir)))"
      ],
      "execution_count": 0,
      "outputs": [
        {
          "output_type": "stream",
          "text": [
            "total training cloudy images: 6000\n",
            "total training rainy images: 6000\n",
            "total training sunny images: 6000\n",
            "total training snowy images: 6000\n",
            "total validation cloudy images: 2000\n",
            "total validation rainy images: 2000\n",
            "total validation sunny images: 2000\n",
            "total validation snowy images: 2000\n",
            "total test cloudy images: 2000\n",
            "total test rainy images: 2000\n",
            "total test sunny images: 2000\n",
            "total test snowy images: 2000\n"
          ],
          "name": "stdout"
        }
      ]
    },
    {
      "cell_type": "code",
      "metadata": {
        "id": "mDizE6CdCGKe",
        "colab_type": "code",
        "colab": {}
      },
      "source": [
        "!pip install -q keras"
      ],
      "execution_count": 0,
      "outputs": []
    },
    {
      "cell_type": "code",
      "metadata": {
        "id": "cHRWaMpjXPeg",
        "colab_type": "code",
        "colab": {}
      },
      "source": [
        "import keras"
      ],
      "execution_count": 0,
      "outputs": []
    },
    {
      "cell_type": "code",
      "metadata": {
        "id": "I8l1jmUpBVVd",
        "colab_type": "code",
        "outputId": "b13adb95-9023-4a0f-fb63-3a5ef83211e2",
        "colab": {
          "base_uri": "https://localhost:8080/",
          "height": 557
        }
      },
      "source": [
        "from keras import layers\n",
        "from keras import models\n",
        "\n",
        "model = models. Sequential()\n",
        "model.add(layers.Conv2D(32, (3, 3), activation='relu', input_shape=(150, 150, 3)))\n",
        "model.add(layers.MaxPooling2D((2, 2)))\n",
        "model.add(layers.Conv2D(64, (3, 3), activation='relu'))\n",
        "model.add(layers.MaxPooling2D((2, 2)))\n",
        "model.add(layers.Conv2D(128, (3, 3), activation='relu'))\n",
        "model.add(layers.MaxPooling2D((2, 2)))\n",
        "model.add(layers.Conv2D(128, (3, 3), activation='relu'))\n",
        "model.add(layers.MaxPooling2D((2, 2)))\n",
        "model.add(layers.Flatten())\n",
        "model.add(layers.Dense(512, activation='relu'))\n",
        "model.add(layers.Dense(4, activation='softmax'))\n",
        "\n",
        "model.summary()"
      ],
      "execution_count": 0,
      "outputs": [
        {
          "output_type": "stream",
          "text": [
            "Model: \"sequential_3\"\n",
            "_________________________________________________________________\n",
            "Layer (type)                 Output Shape              Param #   \n",
            "=================================================================\n",
            "conv2d_9 (Conv2D)            (None, 148, 148, 32)      896       \n",
            "_________________________________________________________________\n",
            "max_pooling2d_9 (MaxPooling2 (None, 74, 74, 32)        0         \n",
            "_________________________________________________________________\n",
            "conv2d_10 (Conv2D)           (None, 72, 72, 64)        18496     \n",
            "_________________________________________________________________\n",
            "max_pooling2d_10 (MaxPooling (None, 36, 36, 64)        0         \n",
            "_________________________________________________________________\n",
            "conv2d_11 (Conv2D)           (None, 34, 34, 128)       73856     \n",
            "_________________________________________________________________\n",
            "max_pooling2d_11 (MaxPooling (None, 17, 17, 128)       0         \n",
            "_________________________________________________________________\n",
            "conv2d_12 (Conv2D)           (None, 15, 15, 128)       147584    \n",
            "_________________________________________________________________\n",
            "max_pooling2d_12 (MaxPooling (None, 7, 7, 128)         0         \n",
            "_________________________________________________________________\n",
            "flatten_3 (Flatten)          (None, 6272)              0         \n",
            "_________________________________________________________________\n",
            "dense_5 (Dense)              (None, 512)               3211776   \n",
            "_________________________________________________________________\n",
            "dense_6 (Dense)              (None, 4)                 2052      \n",
            "=================================================================\n",
            "Total params: 3,454,660\n",
            "Trainable params: 3,454,660\n",
            "Non-trainable params: 0\n",
            "_________________________________________________________________\n"
          ],
          "name": "stdout"
        }
      ]
    },
    {
      "cell_type": "code",
      "metadata": {
        "id": "tpzdTccDkVyw",
        "colab_type": "code",
        "colab": {}
      },
      "source": [
        "model.save('/content/drive/My Drive/Multi-Class Weather/1.model')"
      ],
      "execution_count": 0,
      "outputs": []
    },
    {
      "cell_type": "code",
      "metadata": {
        "id": "OYIKk1JiQJqL",
        "colab_type": "code",
        "colab": {}
      },
      "source": [
        "from keras import optimizers \n",
        "\n",
        "model.compile(loss='categorical_crossentropy',\n",
        "              optimizer= optimizers.RMSprop(lr=0.001),\n",
        "              metrics=['acc'])"
      ],
      "execution_count": 0,
      "outputs": []
    },
    {
      "cell_type": "code",
      "metadata": {
        "id": "-JAIXKR9T_6N",
        "colab_type": "code",
        "outputId": "57478aef-1a00-4d44-b97e-bfe7c8854392",
        "colab": {
          "base_uri": "https://localhost:8080/",
          "height": 53
        }
      },
      "source": [
        "from keras.preprocessing.image import ImageDataGenerator\n",
        "\n",
        "#train_datagen = ImageDataGenerator(\n",
        "    #rotation_range=40,\n",
        "    #width_shift_range=0.2,\n",
        "    #height_shift_range=0.2,\n",
        "    #shear_range=0.2,\n",
        "    #zoom_range=0.2,\n",
        "    #horizontal_flip=True,\n",
        "    #fill_mode='nearest')\n",
        "\n",
        "train_datagen = ImageDataGenerator(rescale=1./255)\n",
        "test_datagen = ImageDataGenerator(rescale=1./255)\n",
        "\n",
        "train_generator = train_datagen.flow_from_directory(\n",
        "        train_dir,  \n",
        "        target_size=(150, 150),  \n",
        "        batch_size=32,\n",
        "        class_mode='categorical')\n",
        "\n",
        "validation_generator = test_datagen.flow_from_directory(\n",
        "        validation_dir,\n",
        "        target_size=(150, 150),\n",
        "        batch_size=32,\n",
        "        class_mode='categorical')"
      ],
      "execution_count": 0,
      "outputs": [
        {
          "output_type": "stream",
          "text": [
            "Found 24000 images belonging to 4 classes.\n",
            "Found 8000 images belonging to 4 classes.\n"
          ],
          "name": "stdout"
        }
      ]
    },
    {
      "cell_type": "code",
      "metadata": {
        "id": "6c8Vfig2VJTt",
        "colab_type": "code",
        "outputId": "55676d01-a41c-44bd-8f47-bcf821247d0d",
        "colab": {
          "base_uri": "https://localhost:8080/",
          "height": 604
        }
      },
      "source": [
        "history = model.fit_generator(\n",
        "      train_generator,\n",
        "      steps_per_epoch=750,  # 24000 images = batch_size * steps\n",
        "      epochs=10,\n",
        "      validation_data=validation_generator,\n",
        "      validation_steps=250,  # 8000 images = batch_size * steps\n",
        "      verbose=2)"
      ],
      "execution_count": 0,
      "outputs": [
        {
          "output_type": "stream",
          "text": [
            "Epoch 1/10\n",
            " - 146s - loss: 0.8521 - acc: 0.6555 - val_loss: 0.7551 - val_acc: 0.6933\n",
            "Epoch 2/10\n",
            " - 145s - loss: 0.7824 - acc: 0.6863 - val_loss: 0.7741 - val_acc: 0.6893\n",
            "Epoch 3/10\n",
            " - 145s - loss: 0.7377 - acc: 0.7060 - val_loss: 0.8676 - val_acc: 0.6409\n",
            "Epoch 4/10\n",
            " - 142s - loss: 0.7058 - acc: 0.7210 - val_loss: 0.7992 - val_acc: 0.6839\n",
            "Epoch 5/10\n",
            " - 142s - loss: 0.6866 - acc: 0.7316 - val_loss: 0.7856 - val_acc: 0.6995\n",
            "Epoch 6/10\n",
            " - 141s - loss: 0.6707 - acc: 0.7404 - val_loss: 0.7785 - val_acc: 0.7117\n",
            "Epoch 7/10\n",
            " - 141s - loss: 0.6662 - acc: 0.7434 - val_loss: 0.7697 - val_acc: 0.7094\n",
            "Epoch 8/10\n",
            " - 141s - loss: 0.6676 - acc: 0.7476 - val_loss: 0.8705 - val_acc: 0.6751\n",
            "Epoch 9/10\n",
            " - 140s - loss: 0.6760 - acc: 0.7450 - val_loss: 0.8202 - val_acc: 0.7083\n",
            "Epoch 10/10\n",
            " - 140s - loss: 0.6815 - acc: 0.7405 - val_loss: 0.9685 - val_acc: 0.6516\n"
          ],
          "name": "stdout"
        },
        {
          "output_type": "error",
          "ename": "NameError",
          "evalue": "ignored",
          "traceback": [
            "\u001b[0;31m---------------------------------------------------------------------------\u001b[0m",
            "\u001b[0;31mNameError\u001b[0m                                 Traceback (most recent call last)",
            "\u001b[0;32m<ipython-input-23-689a746dd7e4>\u001b[0m in \u001b[0;36m<module>\u001b[0;34m()\u001b[0m\n\u001b[1;32m      7\u001b[0m       verbose=2)\n\u001b[1;32m      8\u001b[0m \u001b[0;34m\u001b[0m\u001b[0m\n\u001b[0;32m----> 9\u001b[0;31m \u001b[0mprint\u001b[0m\u001b[0;34m(\u001b[0m\u001b[0;34m'train_acc:'\u001b[0m\u001b[0;34m,\u001b[0m \u001b[0mtrain_acc\u001b[0m\u001b[0;34m)\u001b[0m\u001b[0;34m\u001b[0m\u001b[0;34m\u001b[0m\u001b[0m\n\u001b[0m\u001b[1;32m     10\u001b[0m \u001b[0mprint\u001b[0m\u001b[0;34m(\u001b[0m\u001b[0;34m'train_loss:'\u001b[0m\u001b[0;34m,\u001b[0m \u001b[0mtrain_loss\u001b[0m\u001b[0;34m)\u001b[0m\u001b[0;34m\u001b[0m\u001b[0;34m\u001b[0m\u001b[0m\n\u001b[1;32m     11\u001b[0m \u001b[0;34m\u001b[0m\u001b[0m\n",
            "\u001b[0;31mNameError\u001b[0m: name 'train_acc' is not defined"
          ]
        }
      ]
    },
    {
      "cell_type": "code",
      "metadata": {
        "id": "FBuek8QueExs",
        "colab_type": "code",
        "outputId": "7661ce41-e7f7-4fca-ffab-0b4be38be5a6",
        "colab": {
          "base_uri": "https://localhost:8080/",
          "height": 89
        }
      },
      "source": [
        "train_loss, train_acc = model.evaluate_generator(train_generator, steps=50)\n",
        "print('train_acc:', train_acc)\n",
        "print('train_loss:', train_loss)\n",
        "\n",
        "validation_loss, validation_acc = model.evaluate_generator(validation_generator, steps=50)\n",
        "print('validation_acc:', validation_acc)\n",
        "print('validation_loss:', validation_loss)"
      ],
      "execution_count": 0,
      "outputs": [
        {
          "output_type": "stream",
          "text": [
            "train_acc: 0.738125\n",
            "train_loss: 0.6841782146692276\n",
            "validation_acc: 0.641875\n",
            "validation_loss: 1.0129186451435088\n"
          ],
          "name": "stdout"
        }
      ]
    },
    {
      "cell_type": "code",
      "metadata": {
        "id": "9VZP8e7KXozH",
        "colab_type": "code",
        "outputId": "01d849b9-0395-4f42-9f17-214076c0d359",
        "colab": {
          "base_uri": "https://localhost:8080/",
          "height": 545
        }
      },
      "source": [
        "import matplotlib.pyplot as plt\n",
        "\n",
        "acc = history.history['acc']\n",
        "val_acc = history.history['val_acc']\n",
        "loss = history.history['loss']\n",
        "val_loss = history.history['val_loss']\n",
        "\n",
        "epochs = range(1, len(acc) + 1)\n",
        "\n",
        "plt.plot(epochs, acc, 'bo', label='Training acc')\n",
        "plt.plot(epochs, val_acc, 'b', label='Validation acc')\n",
        "plt.title('Training and validation accuracy')\n",
        "plt.legend()\n",
        "\n",
        "plt.figure()\n",
        "\n",
        "# Plot training and validation loss per epoch\n",
        "plt.plot(epochs, loss, 'bo', label='Training loss')\n",
        "plt.plot(epochs, val_loss, 'b', label='Validation loss')\n",
        "plt.title('Training and validation loss')\n",
        "plt.legend()\n",
        "\n",
        "plt.show()"
      ],
      "execution_count": 0,
      "outputs": [
        {
          "output_type": "display_data",
          "data": {
            "image/png": "[encoded data removed]",
            "text/plain": [
              "<Figure size 432x288 with 1 Axes>"
            ]
          },
          "metadata": {
            "tags": []
          }
        },
        {
          "output_type": "display_data",
          "data": {
            "image/png": "[encoded data removed]",
            "text/plain": [
              "<Figure size 432x288 with 1 Axes>"
            ]
          },
          "metadata": {
            "tags": []
          }
        }
      ]
    },
    {
      "cell_type": "code",
      "metadata": {
        "id": "BJX88xe3d4e4",
        "colab_type": "code",
        "colab": {}
      },
      "source": [
        "model.save('/content/drive/My Drive/Multi-Class Weather/weather_1.h5')"
      ],
      "execution_count": 0,
      "outputs": []
    },
    {
      "cell_type": "code",
      "metadata": {
        "id": "ZunPeym0ue2_",
        "colab_type": "code",
        "outputId": "ded7dae7-f58b-4f13-9f3b-66eccbf71edc",
        "colab": {
          "base_uri": "https://localhost:8080/",
          "height": 1000
        }
      },
      "source": [
        "history = model.fit_generator(\n",
        "      train_generator,\n",
        "      steps_per_epoch=800,  # 24000 images = batch_size * steps\n",
        "      epochs=50,\n",
        "      validation_data=validation_generator,\n",
        "      validation_steps=200,  # 8000 images = batch_size * steps\n",
        "      verbose=2)"
      ],
      "execution_count": 0,
      "outputs": [
        {
          "output_type": "stream",
          "text": [
            "Epoch 1/50\n",
            " - 184s - loss: 0.6597 - acc: 0.7488 - val_loss: 0.8769 - val_acc: 0.6718\n",
            "Epoch 2/50\n",
            " - 182s - loss: 0.6600 - acc: 0.7479 - val_loss: 0.9040 - val_acc: 0.6652\n",
            "Epoch 3/50\n",
            " - 181s - loss: 0.6723 - acc: 0.7446 - val_loss: 1.0125 - val_acc: 0.6146\n",
            "Epoch 4/50\n",
            " - 187s - loss: 0.6733 - acc: 0.7463 - val_loss: 0.9049 - val_acc: 0.6476\n",
            "Epoch 5/50\n",
            " - 188s - loss: 0.6715 - acc: 0.7459 - val_loss: 0.9189 - val_acc: 0.6549\n",
            "Epoch 6/50\n",
            " - 189s - loss: 0.6895 - acc: 0.7426 - val_loss: 0.8786 - val_acc: 0.6580\n",
            "Epoch 7/50\n",
            " - 187s - loss: 0.6852 - acc: 0.7408 - val_loss: 0.9810 - val_acc: 0.6384\n",
            "Epoch 8/50\n",
            " - 189s - loss: 0.6833 - acc: 0.7428 - val_loss: 0.8777 - val_acc: 0.6591\n",
            "Epoch 9/50\n",
            " - 188s - loss: 0.6958 - acc: 0.7391 - val_loss: 0.9297 - val_acc: 0.6445\n",
            "Epoch 10/50\n",
            " - 187s - loss: 0.6988 - acc: 0.7380 - val_loss: 1.1394 - val_acc: 0.6563\n",
            "Epoch 11/50\n",
            " - 187s - loss: 0.7147 - acc: 0.7376 - val_loss: 0.8937 - val_acc: 0.6542\n",
            "Epoch 12/50\n",
            " - 187s - loss: 0.7157 - acc: 0.7288 - val_loss: 0.9370 - val_acc: 0.6535\n",
            "Epoch 13/50\n",
            " - 187s - loss: 0.7099 - acc: 0.7331 - val_loss: 0.9821 - val_acc: 0.6323\n",
            "Epoch 14/50\n",
            " - 187s - loss: 0.7298 - acc: 0.7289 - val_loss: 1.0722 - val_acc: 0.6199\n",
            "Epoch 15/50\n",
            " - 186s - loss: 0.7316 - acc: 0.7241 - val_loss: 0.9252 - val_acc: 0.6244\n",
            "Epoch 16/50\n",
            " - 187s - loss: 0.7362 - acc: 0.7230 - val_loss: 0.9790 - val_acc: 0.6580\n",
            "Epoch 17/50\n",
            " - 186s - loss: 0.7625 - acc: 0.7187 - val_loss: 0.9739 - val_acc: 0.6395\n",
            "Epoch 18/50\n",
            " - 186s - loss: 0.7456 - acc: 0.7222 - val_loss: 0.9158 - val_acc: 0.6367\n",
            "Epoch 19/50\n",
            " - 187s - loss: 0.7406 - acc: 0.7222 - val_loss: 0.9727 - val_acc: 0.6428\n",
            "Epoch 20/50\n",
            " - 187s - loss: 0.7439 - acc: 0.7242 - val_loss: 0.9355 - val_acc: 0.6376\n",
            "Epoch 21/50\n",
            " - 187s - loss: 0.7722 - acc: 0.7147 - val_loss: 1.0638 - val_acc: 0.6310\n",
            "Epoch 22/50\n",
            " - 186s - loss: 0.7788 - acc: 0.7091 - val_loss: 1.1244 - val_acc: 0.6232\n",
            "Epoch 23/50\n",
            " - 187s - loss: 0.8053 - acc: 0.7085 - val_loss: 1.1099 - val_acc: 0.6511\n",
            "Epoch 24/50\n",
            " - 187s - loss: 0.8209 - acc: 0.7007 - val_loss: 1.1048 - val_acc: 0.6113\n",
            "Epoch 25/50\n",
            " - 186s - loss: 0.8225 - acc: 0.6956 - val_loss: 0.9457 - val_acc: 0.6332\n",
            "Epoch 26/50\n",
            " - 186s - loss: 0.8373 - acc: 0.7002 - val_loss: 1.0368 - val_acc: 0.5225\n",
            "Epoch 27/50\n",
            " - 186s - loss: 0.8286 - acc: 0.6961 - val_loss: 0.9352 - val_acc: 0.6385\n",
            "Epoch 28/50\n",
            " - 187s - loss: 0.8218 - acc: 0.6896 - val_loss: 1.0198 - val_acc: 0.5960\n",
            "Epoch 29/50\n",
            " - 188s - loss: 0.8069 - acc: 0.6932 - val_loss: 0.8862 - val_acc: 0.6402\n",
            "Epoch 30/50\n",
            " - 187s - loss: 0.8223 - acc: 0.6917 - val_loss: 0.9950 - val_acc: 0.6039\n",
            "Epoch 31/50\n",
            " - 186s - loss: 0.8685 - acc: 0.6861 - val_loss: 0.9957 - val_acc: 0.6019\n",
            "Epoch 32/50\n",
            " - 186s - loss: 0.8356 - acc: 0.6914 - val_loss: 0.9958 - val_acc: 0.6474\n",
            "Epoch 33/50\n",
            " - 187s - loss: 0.8767 - acc: 0.6841 - val_loss: 0.9642 - val_acc: 0.6142\n",
            "Epoch 34/50\n",
            " - 186s - loss: 0.8808 - acc: 0.6829 - val_loss: 1.3676 - val_acc: 0.5420\n",
            "Epoch 35/50\n",
            " - 186s - loss: 0.8455 - acc: 0.6845 - val_loss: 0.9993 - val_acc: 0.6000\n",
            "Epoch 36/50\n",
            " - 186s - loss: 0.8765 - acc: 0.6736 - val_loss: 0.9801 - val_acc: 0.6089\n",
            "Epoch 37/50\n",
            " - 185s - loss: 0.8861 - acc: 0.6772 - val_loss: 1.0485 - val_acc: 0.5921\n",
            "Epoch 38/50\n",
            " - 186s - loss: 0.9193 - acc: 0.6653 - val_loss: 0.9979 - val_acc: 0.5797\n",
            "Epoch 39/50\n",
            " - 185s - loss: 0.9179 - acc: 0.6646 - val_loss: 0.9781 - val_acc: 0.5989\n",
            "Epoch 40/50\n",
            " - 184s - loss: 0.9236 - acc: 0.6629 - val_loss: 1.0597 - val_acc: 0.5511\n",
            "Epoch 41/50\n",
            " - 185s - loss: 0.9701 - acc: 0.6581 - val_loss: 1.0406 - val_acc: 0.6011\n",
            "Epoch 42/50\n",
            " - 186s - loss: 0.9050 - acc: 0.6639 - val_loss: 0.9459 - val_acc: 0.6227\n",
            "Epoch 43/50\n",
            " - 186s - loss: 0.9454 - acc: 0.6477 - val_loss: 1.2480 - val_acc: 0.5511\n",
            "Epoch 44/50\n",
            " - 187s - loss: 1.2805 - acc: 0.6467 - val_loss: 1.0755 - val_acc: 0.5449\n",
            "Epoch 45/50\n",
            " - 186s - loss: 0.9267 - acc: 0.6567 - val_loss: 0.9618 - val_acc: 0.6225\n",
            "Epoch 46/50\n",
            " - 186s - loss: 0.9319 - acc: 0.6518 - val_loss: 1.1192 - val_acc: 0.5657\n",
            "Epoch 47/50\n",
            " - 185s - loss: 0.9397 - acc: 0.6492 - val_loss: 0.9668 - val_acc: 0.6207\n",
            "Epoch 48/50\n",
            " - 186s - loss: 0.9813 - acc: 0.6378 - val_loss: 1.0177 - val_acc: 0.6186\n",
            "Epoch 49/50\n",
            " - 186s - loss: 9.8105 - acc: 0.3407 - val_loss: 12.0886 - val_acc: 0.2500\n",
            "Epoch 50/50\n",
            " - 186s - loss: 12.0886 - acc: 0.2500 - val_loss: 12.0886 - val_acc: 0.2500\n"
          ],
          "name": "stdout"
        }
      ]
    },
    {
      "cell_type": "code",
      "metadata": {
        "id": "kOCLNwozfO9C",
        "colab_type": "code",
        "outputId": "221f956a-625b-4383-f1e7-94cec29c91b8",
        "colab": {
          "base_uri": "https://localhost:8080/",
          "height": 545
        }
      },
      "source": [
        "import matplotlib.pyplot as plt\n",
        "\n",
        "acc = history.history['acc']\n",
        "val_acc = history.history['val_acc']\n",
        "loss = history.history['loss']\n",
        "val_loss = history.history['val_loss']\n",
        "\n",
        "epochs = range(1, len(acc) + 1)\n",
        "\n",
        "plt.plot(epochs, acc, 'bo', label='Training acc')\n",
        "plt.plot(epochs, val_acc, 'b', label='Validation acc')\n",
        "plt.title('Training and validation accuracy')\n",
        "plt.legend()\n",
        "\n",
        "plt.figure()\n",
        "\n",
        "# Plot training and validation loss per epoch\n",
        "plt.plot(epochs, loss, 'bo', label='Training loss')\n",
        "plt.plot(epochs, val_loss, 'b', label='Validation loss')\n",
        "plt.title('Training and validation loss')\n",
        "plt.legend()\n",
        "\n",
        "plt.show()"
      ],
      "execution_count": 0,
      "outputs": [
        {
          "output_type": "display_data",
          "data": {
            "image/png": "[encoded data removed]",
            "text/plain": [
              "<Figure size 432x288 with 1 Axes>"
            ]
          },
          "metadata": {
            "tags": []
          }
        },
        {
          "output_type": "display_data",
          "data": {
            "image/png": "[encoded data removed]",
            "text/plain": [
              "<Figure size 432x288 with 1 Axes>"
            ]
          },
          "metadata": {
            "tags": []
          }
        }
      ]
    },
    {
      "cell_type": "code",
      "metadata": {
        "id": "DEyqT3HKOMGz",
        "colab_type": "code",
        "outputId": "985ec655-98cf-4282-a8f2-3ace513b2052",
        "colab": {
          "base_uri": "https://localhost:8080/",
          "height": 53
        }
      },
      "source": [
        "train_generator = train_datagen.flow_from_directory(\n",
        "        train_dir,  \n",
        "        target_size=(150, 150),  \n",
        "        batch_size=40,\n",
        "        class_mode='categorical')\n",
        "\n",
        "train_loss, train_acc = model.evaluate_generator(train_generator, steps=50)\n",
        "print('train_acc:', train_acc)"
      ],
      "execution_count": 0,
      "outputs": [
        {
          "output_type": "stream",
          "text": [
            "Found 32000 images belonging to 4 classes.\n",
            "train_acc: 0.25750000044703486\n"
          ],
          "name": "stdout"
        }
      ]
    },
    {
      "cell_type": "code",
      "metadata": {
        "id": "rd7LhvAC0eVh",
        "colab_type": "code",
        "outputId": "d9d36d11-79e6-45aa-d3d4-ea3ef1457992",
        "colab": {
          "base_uri": "https://localhost:8080/",
          "height": 53
        }
      },
      "source": [
        "validation_generator = test_datagen.flow_from_directory(\n",
        "        validation_dir,  \n",
        "        target_size=(150, 150),  \n",
        "        batch_size=40,\n",
        "        class_mode='categorical')\n",
        "\n",
        "validation_loss, validation_acc = model.evaluate_generator(validation_generator, steps=50)\n",
        "print('validation_acc:', validation_acc)"
      ],
      "execution_count": 0,
      "outputs": [
        {
          "output_type": "stream",
          "text": [
            "Found 8000 images belonging to 4 classes.\n",
            "validation_acc: 0.24149999991059304\n"
          ],
          "name": "stdout"
        }
      ]
    },
    {
      "cell_type": "code",
      "metadata": {
        "id": "SlFI0ZLsdV3E",
        "colab_type": "code",
        "colab": {}
      },
      "source": [
        "model.save('multi_class_weather_2.h5')"
      ],
      "execution_count": 0,
      "outputs": []
    },
    {
      "cell_type": "code",
      "metadata": {
        "id": "rHfqQ2_sk2si",
        "colab_type": "code",
        "colab": {}
      },
      "source": [
        "model.save('/content/drive/My Drive/weather_2.h5')"
      ],
      "execution_count": 0,
      "outputs": []
    }
  ]
}